{
 "cells": [
  {
   "cell_type": "markdown",
   "id": "6f4b609b",
   "metadata": {},
   "source": [
    "$Strings writeup$\n"
   ]
  },
  {
   "cell_type": "markdown",
   "id": "21684914",
   "metadata": {},
   "source": [
    "how to read the strings"
   ]
  },
  {
   "cell_type": "markdown",
   "id": "17548ca7",
   "metadata": {},
   "source": [
    "Strings in python are surrounded by either single quotation marks, or double quotation marks"
   ]
  },
  {
   "cell_type": "markdown",
   "id": "2af6af43",
   "metadata": {},
   "source": [
    "#single quotes/double quotes/triple quotes"
   ]
  },
  {
   "cell_type": "code",
   "execution_count": 1,
   "id": "802d4ca9",
   "metadata": {},
   "outputs": [
    {
     "data": {
      "text/plain": [
       "'python'"
      ]
     },
     "execution_count": 1,
     "metadata": {},
     "output_type": "execute_result"
    }
   ],
   "source": [
    "string1='python'   # single quote\n",
    "string1"
   ]
  },
  {
   "cell_type": "code",
   "execution_count": 2,
   "id": "20ec4a47",
   "metadata": {},
   "outputs": [
    {
     "data": {
      "text/plain": [
       "'python'"
      ]
     },
     "execution_count": 2,
     "metadata": {},
     "output_type": "execute_result"
    }
   ],
   "source": [
    "string2=\"python\"  # double quotes\n",
    "string2"
   ]
  },
  {
   "cell_type": "code",
   "execution_count": 3,
   "id": "d4ce1ad4",
   "metadata": {},
   "outputs": [
    {
     "name": "stdout",
     "output_type": "stream",
     "text": [
      "hello \"python\"\n"
     ]
    }
   ],
   "source": [
    "string3='hello \"python\"'\n",
    "print(string3)"
   ]
  },
  {
   "cell_type": "code",
   "execution_count": null,
   "id": "cc38a378",
   "metadata": {},
   "outputs": [],
   "source": [
    "string4=\"hello 'python'\"\n",
    "print(string4)"
   ]
  },
  {
   "cell_type": "markdown",
   "id": "61a2c331",
   "metadata": {},
   "source": [
    "$ docstring$"
   ]
  },
  {
   "cell_type": "code",
   "execution_count": null,
   "id": "7f5c8658",
   "metadata": {},
   "outputs": [],
   "source": [
    "the docstring is the triple-quoted string "
   ]
  },
  {
   "cell_type": "code",
   "execution_count": 6,
   "id": "0c5ec554",
   "metadata": {},
   "outputs": [
    {
     "name": "stdout",
     "output_type": "stream",
     "text": [
      "good moring\n"
     ]
    }
   ],
   "source": [
    "def hello():\n",
    "    \"\"\"\n",
    "    im creating a hello function\n",
    "    arguments: None\n",
    "    return:   None\n",
    "    \"\"\"\n",
    "    print(\"good moring\")\n",
    "hello()\n",
    "\n"
   ]
  },
  {
   "cell_type": "markdown",
   "id": "f5fd11ab",
   "metadata": {},
   "source": [
    "$type$"
   ]
  },
  {
   "cell_type": "code",
   "execution_count": null,
   "id": "ee3d1d9c",
   "metadata": {},
   "outputs": [],
   "source": [
    "type() function to determine the type of a variable or value"
   ]
  },
  {
   "cell_type": "code",
   "execution_count": 8,
   "id": "d5fee2cd",
   "metadata": {},
   "outputs": [
    {
     "data": {
      "text/plain": [
       "'python'"
      ]
     },
     "execution_count": 8,
     "metadata": {},
     "output_type": "execute_result"
    }
   ],
   "source": [
    "string1"
   ]
  },
  {
   "cell_type": "code",
   "execution_count": 9,
   "id": "3f68fe60",
   "metadata": {},
   "outputs": [
    {
     "data": {
      "text/plain": [
       "str"
      ]
     },
     "execution_count": 9,
     "metadata": {},
     "output_type": "execute_result"
    }
   ],
   "source": [
    "type(string1)"
   ]
  },
  {
   "cell_type": "markdown",
   "id": "44b3774c",
   "metadata": {},
   "source": [
    "$𝑙𝑒𝑛$"
   ]
  },
  {
   "cell_type": "code",
   "execution_count": null,
   "id": "794ff3f9",
   "metadata": {},
   "outputs": [],
   "source": [
    "The len() function in Python is used to determine the length of a sequence, such as a string, list, or tuple."
   ]
  },
  {
   "cell_type": "code",
   "execution_count": 10,
   "id": "6c309b39",
   "metadata": {},
   "outputs": [
    {
     "data": {
      "text/plain": [
       "6"
      ]
     },
     "execution_count": 10,
     "metadata": {},
     "output_type": "execute_result"
    }
   ],
   "source": [
    "len(string1)"
   ]
  },
  {
   "cell_type": "markdown",
   "id": "20cb866f",
   "metadata": {},
   "source": [
    "$max-min$"
   ]
  },
  {
   "cell_type": "code",
   "execution_count": null,
   "id": "86fb8c6a",
   "metadata": {},
   "outputs": [],
   "source": [
    " lists,  to find the maximum and minimum elements, respectively, based on their ASCII values."
   ]
  },
  {
   "cell_type": "code",
   "execution_count": 11,
   "id": "5b84a1cb",
   "metadata": {},
   "outputs": [
    {
     "data": {
      "text/plain": [
       "'p'"
      ]
     },
     "execution_count": 11,
     "metadata": {},
     "output_type": "execute_result"
    }
   ],
   "source": [
    "string1='pP'\n",
    "max(string1) "
   ]
  },
  {
   "cell_type": "code",
   "execution_count": 13,
   "id": "21683388",
   "metadata": {},
   "outputs": [
    {
     "data": {
      "text/plain": [
       "'P'"
      ]
     },
     "execution_count": 13,
     "metadata": {},
     "output_type": "execute_result"
    }
   ],
   "source": [
    "string22='Pp'\n",
    "min(string22)"
   ]
  },
  {
   "cell_type": "markdown",
   "id": "0892f2fe",
   "metadata": {},
   "source": [
    "$ addition of two strings(concatenation)$"
   ]
  },
  {
   "cell_type": "code",
   "execution_count": null,
   "id": "b7643d4a",
   "metadata": {},
   "outputs": [],
   "source": [
    "you can concatenate (add) two strings using the + operator."
   ]
  },
  {
   "cell_type": "code",
   "execution_count": 18,
   "id": "aa808a7f",
   "metadata": {},
   "outputs": [
    {
     "name": "stdout",
     "output_type": "stream",
     "text": [
      "Hello World\n"
     ]
    }
   ],
   "source": [
    "string1 = \"Hello\"\n",
    "string2 = \"World\"\n",
    "\n",
    "concatenated_string = string1 + \" \" +string2\n",
    "\n",
    "print(concatenated_string)"
   ]
  },
  {
   "cell_type": "markdown",
   "id": "052ae396",
   "metadata": {},
   "source": [
    "$multiplication$"
   ]
  },
  {
   "cell_type": "code",
   "execution_count": null,
   "id": "3d2af846",
   "metadata": {},
   "outputs": [],
   "source": [
    "the multiplication operator (*) can be used to create a new string by repeating an existing string a certain number of times"
   ]
  },
  {
   "cell_type": "code",
   "execution_count": 22,
   "id": "dee64003",
   "metadata": {},
   "outputs": [
    {
     "name": "stdout",
     "output_type": "stream",
     "text": [
      "abcabcabc\n"
     ]
    }
   ],
   "source": [
    "string1= \"abc\"\n",
    "multiplied_string = string1 * 3  \n",
    "\n",
    "print(multiplied_string)"
   ]
  },
  {
   "cell_type": "markdown",
   "id": "d2e5d9bb",
   "metadata": {},
   "source": [
    "$subtraction$"
   ]
  },
  {
   "cell_type": "code",
   "execution_count": 27,
   "id": "cd8f5611",
   "metadata": {},
   "outputs": [
    {
     "ename": "TypeError",
     "evalue": "unsupported operand type(s) for -: 'str' and 'str'",
     "output_type": "error",
     "traceback": [
      "\u001b[1;31m---------------------------------------------------------------------------\u001b[0m",
      "\u001b[1;31mTypeError\u001b[0m                                 Traceback (most recent call last)",
      "Cell \u001b[1;32mIn[27], line 4\u001b[0m\n\u001b[0;32m      1\u001b[0m string1 \u001b[38;5;241m=\u001b[39m \u001b[38;5;124m\"\u001b[39m\u001b[38;5;124m23\u001b[39m\u001b[38;5;124m\"\u001b[39m\n\u001b[0;32m      2\u001b[0m string2 \u001b[38;5;241m=\u001b[39m \u001b[38;5;124m\"\u001b[39m\u001b[38;5;124m3\u001b[39m\u001b[38;5;124m\"\u001b[39m\n\u001b[1;32m----> 4\u001b[0m result \u001b[38;5;241m=\u001b[39m string1\u001b[38;5;241m-\u001b[39mstring2\n\u001b[0;32m      5\u001b[0m \u001b[38;5;28mprint\u001b[39m(result)\n",
      "\u001b[1;31mTypeError\u001b[0m: unsupported operand type(s) for -: 'str' and 'str'"
     ]
    }
   ],
   "source": [
    "string1 = \"23\"\n",
    "string2 = \"3\"\n",
    "\n",
    "result = string1-string2\n",
    "print(result)"
   ]
  },
  {
   "cell_type": "markdown",
   "id": "7060486f",
   "metadata": {},
   "source": [
    "$division$"
   ]
  },
  {
   "cell_type": "markdown",
   "id": "c14545ee",
   "metadata": {},
   "source": [
    "$in opertor (for loop)$"
   ]
  },
  {
   "cell_type": "code",
   "execution_count": null,
   "id": "058b94c0",
   "metadata": {},
   "outputs": [],
   "source": [
    "loop is used to insert each character of a string into a new string"
   ]
  },
  {
   "cell_type": "code",
   "execution_count": 29,
   "id": "a702047c",
   "metadata": {},
   "outputs": [
    {
     "name": "stdout",
     "output_type": "stream",
     "text": [
      "2\n"
     ]
    }
   ],
   "source": [
    "string1='hai how are you'\n",
    "count=0\n",
    "for i in string1:\n",
    "    if i=='a':\n",
    "        count+=1\n",
    "print(count)"
   ]
  },
  {
   "cell_type": "markdown",
   "id": "ba846427",
   "metadata": {},
   "source": [
    "$ index$"
   ]
  },
  {
   "cell_type": "code",
   "execution_count": null,
   "id": "fa0b57c3",
   "metadata": {},
   "outputs": [],
   "source": [
    " index() method is used to find the index of the substring"
   ]
  },
  {
   "cell_type": "code",
   "execution_count": 31,
   "id": "e526318d",
   "metadata": {},
   "outputs": [
    {
     "name": "stdout",
     "output_type": "stream",
     "text": [
      "h a i   h o w   a r e   y o u 0 h\n",
      "1 a\n",
      "2 i\n",
      "3  \n",
      "4 h\n",
      "5 o\n",
      "6 w\n",
      "7  \n",
      "8 a\n",
      "9 r\n",
      "10 e\n",
      "11  \n",
      "12 y\n",
      "13 o\n",
      "14 u\n"
     ]
    }
   ],
   "source": [
    "for i in string1:   \n",
    "    print(i,end=' ')\n",
    "    \n",
    "    \n",
    "for i in range(len(string1)): \n",
    "    print(i,string1[i])\n",
    "    "
   ]
  },
  {
   "cell_type": "code",
   "execution_count": 38,
   "id": "5d02c5bf",
   "metadata": {},
   "outputs": [
    {
     "data": {
      "text/plain": [
       "2"
      ]
     },
     "execution_count": 38,
     "metadata": {},
     "output_type": "execute_result"
    }
   ],
   "source": [
    "str1='hai how are you , im good'\n",
    "str1.index('i')"
   ]
  },
  {
   "cell_type": "markdown",
   "id": "6e8393ca",
   "metadata": {},
   "source": [
    "$mutable condition$"
   ]
  },
  {
   "cell_type": "code",
   "execution_count": null,
   "id": "edb6fb10",
   "metadata": {},
   "outputs": [],
   "source": [
    "Mutability in Python:\n",
    "Mutable Objects: Objects whose state or value can be changed after \n",
    "they are created are considered mutable. Examples include lists, dictionaries, and sets."
   ]
  },
  {
   "cell_type": "code",
   "execution_count": 32,
   "id": "01a1e020",
   "metadata": {},
   "outputs": [
    {
     "data": {
      "text/plain": [
       "[1000, 200, 300]"
      ]
     },
     "execution_count": 32,
     "metadata": {},
     "output_type": "execute_result"
    }
   ],
   "source": [
    "list1=[100,200,300]  # 100 ====== 1000\n",
    "list1[0]=1000\n",
    "list1"
   ]
  },
  {
   "cell_type": "markdown",
   "id": "9c4b15fd",
   "metadata": {},
   "source": [
    "$slice$"
   ]
  },
  {
   "cell_type": "code",
   "execution_count": null,
   "id": "eb7c360f",
   "metadata": {},
   "outputs": [],
   "source": [
    "start: The starting index of the slice (inclusive).\n",
    "stop: The ending index of the slice (exclusive).\n",
    "step: The step or stride, indicating how many characters to skip (default is 1)."
   ]
  },
  {
   "cell_type": "code",
   "execution_count": 34,
   "id": "a510bebb",
   "metadata": {},
   "outputs": [
    {
     "data": {
      "text/plain": [
       "'i how ar'"
      ]
     },
     "execution_count": 34,
     "metadata": {},
     "output_type": "execute_result"
    }
   ],
   "source": [
    "string1='hai how are you'\n",
    "string1[2:10]"
   ]
  },
  {
   "cell_type": "code",
   "execution_count": 35,
   "id": "6d4550fa",
   "metadata": {},
   "outputs": [
    {
     "data": {
      "text/plain": [
       "'ioa'"
      ]
     },
     "execution_count": 35,
     "metadata": {},
     "output_type": "execute_result"
    }
   ],
   "source": [
    "string1='hai how are you'\n",
    "string1[2:10:3]"
   ]
  },
  {
   "cell_type": "code",
   "execution_count": 36,
   "id": "e614a0e2",
   "metadata": {},
   "outputs": [
    {
     "name": "stdout",
     "output_type": "stream",
     "text": [
      "2 0 -2 -4 -6 -8 -10 -12 "
     ]
    }
   ],
   "source": [
    "for i in range(2,-14,-2):print(i,end=' ')"
   ]
  },
  {
   "cell_type": "markdown",
   "id": "5043e621",
   "metadata": {},
   "source": [
    "$stringe methods:$"
   ]
  },
  {
   "cell_type": "markdown",
   "id": "7655d78a",
   "metadata": {},
   "source": [
    "capitalize/upper/lower/casefold"
   ]
  },
  {
   "cell_type": "code",
   "execution_count": null,
   "id": "fb9d76f3",
   "metadata": {},
   "outputs": [],
   "source": [
    "capitalize(): This method returns a copy of the string with its first character capitalized and the rest in lowercase.\n",
    "upper(): This method returns a copy of the string with all characters in uppercase\n",
    "lower(): This method returns a copy of the string with all characters in lowercase."
   ]
  },
  {
   "cell_type": "code",
   "execution_count": 37,
   "id": "e596c2e9",
   "metadata": {},
   "outputs": [
    {
     "data": {
      "text/plain": [
       "'Welcome'"
      ]
     },
     "execution_count": 37,
     "metadata": {},
     "output_type": "execute_result"
    }
   ],
   "source": [
    "string1='welcome'\n",
    "string1.capitalize()"
   ]
  },
  {
   "cell_type": "code",
   "execution_count": 41,
   "id": "e3f3d5cd",
   "metadata": {},
   "outputs": [
    {
     "name": "stdout",
     "output_type": "stream",
     "text": [
      "R\n",
      "E\n",
      "N\n",
      "U\n",
      "K\n",
      "A\n"
     ]
    }
   ],
   "source": [
    "string1=\"renuka\"\n",
    "#out=['Hyd','Beng','Delhi']\n",
    "\n",
    "for i in string1:                         #1st letter to be capital ----->capitalize()\n",
    "    print(i.capitalize())\n"
   ]
  },
  {
   "cell_type": "code",
   "execution_count": 42,
   "id": "53b4f86b",
   "metadata": {},
   "outputs": [
    {
     "name": "stdout",
     "output_type": "stream",
     "text": [
      "WELCOME\n"
     ]
    }
   ],
   "source": [
    "#upper\n",
    "string1='weLCome'\n",
    "\n",
    "print(string1.upper())\n",
    "\n"
   ]
  },
  {
   "cell_type": "code",
   "execution_count": 46,
   "id": "8ccea3b5",
   "metadata": {},
   "outputs": [
    {
     "name": "stdout",
     "output_type": "stream",
     "text": [
      "HELLO, WORLD!\n"
     ]
    }
   ],
   "source": [
    "string11 = \"Hello, World!\"\n",
    "lowercased_string = string11.upper()\n",
    "\n",
    "print(lowercased_string)"
   ]
  },
  {
   "cell_type": "code",
   "execution_count": 43,
   "id": "04d1bbc2",
   "metadata": {},
   "outputs": [
    {
     "name": "stdout",
     "output_type": "stream",
     "text": [
      "welcome\n"
     ]
    }
   ],
   "source": [
    "#lower\n",
    "string1='weLCome'\n",
    "\n",
    "\n",
    "print(string1.lower())"
   ]
  },
  {
   "cell_type": "code",
   "execution_count": 45,
   "id": "85c7f986",
   "metadata": {},
   "outputs": [
    {
     "name": "stdout",
     "output_type": "stream",
     "text": [
      "hello, world!\n"
     ]
    }
   ],
   "source": [
    "string11 = \"Hello, World!\"\n",
    "lowercased_string = string11.lower()\n",
    "\n",
    "print(lowercased_string)"
   ]
  },
  {
   "cell_type": "code",
   "execution_count": 44,
   "id": "0b7c3e3d",
   "metadata": {},
   "outputs": [
    {
     "name": "stdout",
     "output_type": "stream",
     "text": [
      "Python\n",
      "PYTHON\n",
      "python\n"
     ]
    }
   ],
   "source": [
    "string1=\"python\"\n",
    "print(string1.capitalize())\n",
    "print(string1.upper())\n",
    "print(string1.lower())"
   ]
  },
  {
   "cell_type": "markdown",
   "id": "64189ac6",
   "metadata": {},
   "source": [
    "$index/find$"
   ]
  },
  {
   "cell_type": "code",
   "execution_count": null,
   "id": "9b8396d1",
   "metadata": {},
   "outputs": [],
   "source": [
    "the index() and find() methods are used to locate the index of a substring within a string"
   ]
  },
  {
   "cell_type": "code",
   "execution_count": 48,
   "id": "09c1e30f",
   "metadata": {},
   "outputs": [
    {
     "data": {
      "text/plain": [
       "3"
      ]
     },
     "execution_count": 48,
     "metadata": {},
     "output_type": "execute_result"
    }
   ],
   "source": [
    "#index\n",
    "\n",
    "string1='welcome python'\n",
    "\n",
    "# index of 'c'\n",
    "string1.index('c')"
   ]
  },
  {
   "cell_type": "code",
   "execution_count": 49,
   "id": "44e3b8df",
   "metadata": {},
   "outputs": [
    {
     "data": {
      "text/plain": [
       "18"
      ]
     },
     "execution_count": 49,
     "metadata": {},
     "output_type": "execute_result"
    }
   ],
   "source": [
    "str1.index('i',str1.index('i')+1)"
   ]
  },
  {
   "cell_type": "code",
   "execution_count": 62,
   "id": "63a1d306",
   "metadata": {},
   "outputs": [
    {
     "name": "stdout",
     "output_type": "stream",
     "text": [
      "Index of 'Hello': 0\n"
     ]
    }
   ],
   "source": [
    "my_string = \"Hello, World!\"\n",
    "\n",
    "# Find the index of the substring \"world\" (case-insensitive)\n",
    "index = my_string.find(\"Hello\")\n",
    "\n",
    "print(\"Index of 'Hello':\", index)"
   ]
  },
  {
   "cell_type": "markdown",
   "id": "b94222f5",
   "metadata": {},
   "source": [
    "$count$"
   ]
  },
  {
   "cell_type": "code",
   "execution_count": null,
   "id": "0380c830",
   "metadata": {},
   "outputs": [],
   "source": [
    "the count() method is used to count the number of occurrences of a substring in a given string"
   ]
  },
  {
   "cell_type": "code",
   "execution_count": 63,
   "id": "147466ca",
   "metadata": {},
   "outputs": [
    {
     "name": "stdout",
     "output_type": "stream",
     "text": [
      "3\n"
     ]
    },
    {
     "data": {
      "text/plain": [
       "3"
      ]
     },
     "execution_count": 63,
     "metadata": {},
     "output_type": "execute_result"
    }
   ],
   "source": [
    "string1='hai how are you and' \n",
    "# how many 'a' are there\n",
    "# what are the indexes of 'a'\n",
    "\n",
    "count=0\n",
    "for i in string1:\n",
    "    if i=='a':\n",
    "        count+=1\n",
    "        \n",
    "print(count)\n",
    "\n",
    "string1.count('a')"
   ]
  },
  {
   "cell_type": "markdown",
   "id": "b9cc929a",
   "metadata": {},
   "source": [
    "$ replace$"
   ]
  },
  {
   "cell_type": "code",
   "execution_count": null,
   "id": "097f5950",
   "metadata": {},
   "outputs": [],
   "source": [
    "the replace() method is used to replace occurrences of a specified substring with another substring in a given string"
   ]
  },
  {
   "cell_type": "code",
   "execution_count": 64,
   "id": "208a460e",
   "metadata": {},
   "outputs": [
    {
     "name": "stdout",
     "output_type": "stream",
     "text": [
      "three three was a race horse, two two was three too.\n"
     ]
    }
   ],
   "source": [
    "txt = \"one one was a race horse, two two was one too.\"\n",
    "\n",
    "x = txt.replace(\"one\", \"three\")\n",
    "\n",
    "print(x)"
   ]
  },
  {
   "cell_type": "markdown",
   "id": "f67a36d6",
   "metadata": {},
   "source": [
    "$  - lstrip/rstrip/strip$"
   ]
  },
  {
   "cell_type": "code",
   "execution_count": null,
   "id": "31532fbe",
   "metadata": {},
   "outputs": [],
   "source": [
    " Python used for removing leading (left), trailing (right), or both leading and trailing whitespace from a string.\n",
    "lstrip(): This method returns a copy of the string with leading whitespace removed.\n",
    "rstrip(): This method returns a copy of the string with trailing whitespace removed.\n",
    "strip(): This method returns a copy of the string with both leading and trailing whitespace removed."
   ]
  },
  {
   "cell_type": "code",
   "execution_count": 65,
   "id": "4d5ac4ec",
   "metadata": {},
   "outputs": [
    {
     "name": "stdout",
     "output_type": "stream",
     "text": [
      "hello how are you\n",
      "hello how are you \n",
      " hello how are you\n"
     ]
    }
   ],
   "source": [
    "str1=' hello how are you '\n",
    "str2=\" hello how are you\"\n",
    "str3=\"hello how are you \"\n",
    "print(str1.strip())\n",
    "print(str1.lstrip())\n",
    "print(str1.rstrip())"
   ]
  },
  {
   "cell_type": "code",
   "execution_count": 66,
   "id": "7224eeae",
   "metadata": {},
   "outputs": [
    {
     "name": "stdout",
     "output_type": "stream",
     "text": [
      "hello how are you\n",
      "hello how are you\n",
      "hello how are you\n"
     ]
    }
   ],
   "source": [
    "print(str1.strip())\n",
    "print(str2.lstrip())\n",
    "print(str3.rstrip())"
   ]
  },
  {
   "cell_type": "markdown",
   "id": "1a345bdd",
   "metadata": {},
   "source": [
    "$ - startswith/endswith$"
   ]
  },
  {
   "cell_type": "code",
   "execution_count": null,
   "id": "f8469bfb",
   "metadata": {},
   "outputs": [],
   "source": [
    "startswith(): This method returns True if the string starts with the specified prefix; otherwise, it returns False"
   ]
  },
  {
   "cell_type": "code",
   "execution_count": null,
   "id": "5540ac68",
   "metadata": {},
   "outputs": [],
   "source": [
    "endswith(): This method returns True if the string ends with the specified suffix; otherwise, it returns False."
   ]
  },
  {
   "cell_type": "code",
   "execution_count": 67,
   "id": "f903c7f6",
   "metadata": {},
   "outputs": [
    {
     "data": {
      "text/plain": [
       "True"
      ]
     },
     "execution_count": 67,
     "metadata": {},
     "output_type": "execute_result"
    }
   ],
   "source": [
    "str1='hai how are you'\n",
    "str1.startswith('hai how are you')"
   ]
  },
  {
   "cell_type": "code",
   "execution_count": 68,
   "id": "5a8dedf4",
   "metadata": {},
   "outputs": [
    {
     "data": {
      "text/plain": [
       "True"
      ]
     },
     "execution_count": 68,
     "metadata": {},
     "output_type": "execute_result"
    }
   ],
   "source": [
    "str1.endswith('you')"
   ]
  },
  {
   "cell_type": "code",
   "execution_count": 69,
   "id": "c26070ae",
   "metadata": {},
   "outputs": [
    {
     "data": {
      "text/plain": [
       "True"
      ]
     },
     "execution_count": 69,
     "metadata": {},
     "output_type": "execute_result"
    }
   ],
   "source": [
    "str1.startswith(str1)"
   ]
  },
  {
   "cell_type": "code",
   "execution_count": 70,
   "id": "a1353275",
   "metadata": {},
   "outputs": [
    {
     "data": {
      "text/plain": [
       "True"
      ]
     },
     "execution_count": 70,
     "metadata": {},
     "output_type": "execute_result"
    }
   ],
   "source": [
    "str1.endswith(str1)"
   ]
  },
  {
   "cell_type": "code",
   "execution_count": null,
   "id": "d4a6449f",
   "metadata": {},
   "outputs": [],
   "source": [
    "  - isalpha/isnumeric/isalnum"
   ]
  },
  {
   "cell_type": "code",
   "execution_count": null,
   "id": "a801a20b",
   "metadata": {},
   "outputs": [],
   "source": [
    "isalpha(): This method returns True if all characters in the string are alphabetic (composed of letters), and the string is not empty. Otherwise, it returns False."
   ]
  },
  {
   "cell_type": "code",
   "execution_count": 89,
   "id": "5b418da5",
   "metadata": {},
   "outputs": [
    {
     "data": {
      "text/plain": [
       "False"
      ]
     },
     "execution_count": 89,
     "metadata": {},
     "output_type": "execute_result"
    }
   ],
   "source": [
    "str1='90hai hello 8 888how are you'\n",
    "str1.isnumeric()"
   ]
  },
  {
   "cell_type": "code",
   "execution_count": 91,
   "id": "65067955",
   "metadata": {},
   "outputs": [
    {
     "data": {
      "text/plain": [
       "False"
      ]
     },
     "execution_count": 91,
     "metadata": {},
     "output_type": "execute_result"
    }
   ],
   "source": [
    "str1='90hai hello 8 888how are you'\n",
    "str1.isalpha()"
   ]
  },
  {
   "cell_type": "code",
   "execution_count": 86,
   "id": "e90c968d",
   "metadata": {},
   "outputs": [
    {
     "data": {
      "text/plain": [
       "True"
      ]
     },
     "execution_count": 86,
     "metadata": {},
     "output_type": "execute_result"
    }
   ],
   "source": [
    "str1='90hai hello 8 888how are you'\n",
    "str1.islower()"
   ]
  },
  {
   "cell_type": "code",
   "execution_count": 87,
   "id": "ceb9630e",
   "metadata": {},
   "outputs": [
    {
     "data": {
      "text/plain": [
       "False"
      ]
     },
     "execution_count": 87,
     "metadata": {},
     "output_type": "execute_result"
    }
   ],
   "source": [
    "str1='90hai hello 8 888how are you'\n",
    "str1.isupper()"
   ]
  },
  {
   "cell_type": "code",
   "execution_count": null,
   "id": "48e940de",
   "metadata": {},
   "outputs": [],
   "source": [
    "isnumeric(): This method returns True if all characters in the string are numeric (composed of digits), and the string is not empty. Otherwise, it returns False."
   ]
  },
  {
   "cell_type": "code",
   "execution_count": 79,
   "id": "11d1954c",
   "metadata": {},
   "outputs": [
    {
     "data": {
      "text/plain": [
       "False"
      ]
     },
     "execution_count": 79,
     "metadata": {},
     "output_type": "execute_result"
    }
   ],
   "source": [
    "str1='90hai hello 8 888how are you'\n",
    "str1.isalnum()"
   ]
  },
  {
   "cell_type": "markdown",
   "id": "f06d4d6a",
   "metadata": {},
   "source": [
    "$  - split$"
   ]
  },
  {
   "cell_type": "code",
   "execution_count": null,
   "id": "f6a4e7b1",
   "metadata": {},
   "outputs": [],
   "source": [
    "split  is used to split a string into a list of substrings based on a specified delimiter"
   ]
  },
  {
   "cell_type": "code",
   "execution_count": 80,
   "id": "dbf2e629",
   "metadata": {},
   "outputs": [
    {
     "data": {
      "text/plain": [
       "['hai', 'howw', 'are', 'you']"
      ]
     },
     "execution_count": 80,
     "metadata": {},
     "output_type": "execute_result"
    }
   ],
   "source": [
    "str1='hai howw are you'\n",
    "str1.split() \n"
   ]
  },
  {
   "cell_type": "code",
   "execution_count": 81,
   "id": "4b2596b7",
   "metadata": {},
   "outputs": [
    {
     "data": {
      "text/plain": [
       "['hai how', 'are you']"
      ]
     },
     "execution_count": 81,
     "metadata": {},
     "output_type": "execute_result"
    }
   ],
   "source": [
    "str1='hai how,are you'\n",
    "str1.split(',')"
   ]
  },
  {
   "cell_type": "code",
   "execution_count": 82,
   "id": "3cb91808",
   "metadata": {},
   "outputs": [
    {
     "data": {
      "text/plain": [
       "['h', 'i how,', 're you']"
      ]
     },
     "execution_count": 82,
     "metadata": {},
     "output_type": "execute_result"
    }
   ],
   "source": [
    "str1='hai how,are you'\n",
    "str1.split('a')"
   ]
  },
  {
   "cell_type": "code",
   "execution_count": 83,
   "id": "f2b093ca",
   "metadata": {},
   "outputs": [
    {
     "data": {
      "text/plain": [
       "['hai', 'how,are', 'you']"
      ]
     },
     "execution_count": 83,
     "metadata": {},
     "output_type": "execute_result"
    }
   ],
   "source": [
    "str1='hai how,are you'\n",
    "str1.split() "
   ]
  },
  {
   "cell_type": "code",
   "execution_count": 84,
   "id": "c4a89242",
   "metadata": {},
   "outputs": [
    {
     "data": {
      "text/plain": [
       "['hai', 'how,are', 'you']"
      ]
     },
     "execution_count": 84,
     "metadata": {},
     "output_type": "execute_result"
    }
   ],
   "source": [
    "str1='hai how,are you'\n",
    "str1.split()"
   ]
  },
  {
   "cell_type": "code",
   "execution_count": 85,
   "id": "1f7d825b",
   "metadata": {},
   "outputs": [
    {
     "data": {
      "text/plain": [
       "'hello'"
      ]
     },
     "execution_count": 85,
     "metadata": {},
     "output_type": "execute_result"
    }
   ],
   "source": [
    "str1='%%%hello%%%%'\n",
    "str1.strip('%')"
   ]
  },
  {
   "cell_type": "code",
   "execution_count": null,
   "id": "a6011ea3",
   "metadata": {},
   "outputs": [],
   "source": []
  }
 ],
 "metadata": {
  "kernelspec": {
   "display_name": "Python 3 (ipykernel)",
   "language": "python",
   "name": "python3"
  },
  "language_info": {
   "codemirror_mode": {
    "name": "ipython",
    "version": 3
   },
   "file_extension": ".py",
   "mimetype": "text/x-python",
   "name": "python",
   "nbconvert_exporter": "python",
   "pygments_lexer": "ipython3",
   "version": "3.11.5"
  }
 },
 "nbformat": 4,
 "nbformat_minor": 5
}
