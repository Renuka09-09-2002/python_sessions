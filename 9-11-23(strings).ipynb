{
 "cells": [
  {
   "cell_type": "code",
   "execution_count": null,
   "id": "3a302254",
   "metadata": {},
   "outputs": [],
   "source": [
    "#strings\n",
    "#lists\n",
    "#tuples\n",
    "#dictionary\n",
    "#sets"
   ]
  },
  {
   "cell_type": "markdown",
   "id": "bbfa0402",
   "metadata": {},
   "source": [
    "#******How to read the strings****************"
   ]
  },
  {
   "cell_type": "code",
   "execution_count": 1,
   "id": "926cd11b",
   "metadata": {},
   "outputs": [
    {
     "data": {
      "text/plain": [
       "'python'"
      ]
     },
     "execution_count": 1,
     "metadata": {},
     "output_type": "execute_result"
    }
   ],
   "source": [
    "#####SINGLE STRING\n",
    "string1='python'\n",
    "string1"
   ]
  },
  {
   "cell_type": "code",
   "execution_count": 2,
   "id": "98ebdf29",
   "metadata": {},
   "outputs": [
    {
     "data": {
      "text/plain": [
       "'python'"
      ]
     },
     "execution_count": 2,
     "metadata": {},
     "output_type": "execute_result"
    }
   ],
   "source": [
    "#####DOUBLE QUOTES\n",
    "string2=\"python\"\n",
    "string2"
   ]
  },
  {
   "cell_type": "code",
   "execution_count": null,
   "id": "759f409b",
   "metadata": {},
   "outputs": [],
   "source": [
    "####TRIUPLE QUOTES\n",
    "\n",
    "#  .DOC string is used to say some information about your python code"
   ]
  },
  {
   "cell_type": "code",
   "execution_count": null,
   "id": "b1454827",
   "metadata": {},
   "outputs": [],
   "source": [
    "'''\n",
    "im creating a hellow world function\n",
    "rguments:None\n",
    "return:None                       # doc string is used for telling something not for enter the information\n",
    "'''                               # .string is in triuple quotes\n",
    "def hello():\n",
    "    print(\"good morning\")"
   ]
  },
  {
   "cell_type": "code",
   "execution_count": null,
   "id": "1f464828",
   "metadata": {},
   "outputs": [],
   "source": [
    "'hello python'    # i want to higlite the python"
   ]
  },
  {
   "cell_type": "code",
   "execution_count": 3,
   "id": "ce441f18",
   "metadata": {},
   "outputs": [
    {
     "name": "stdout",
     "output_type": "stream",
     "text": [
      "hello 'python'\n"
     ]
    }
   ],
   "source": [
    "string3=\"hello 'python'\"\n",
    "print(string3)"
   ]
  },
  {
   "cell_type": "code",
   "execution_count": 6,
   "id": "9a558e0a",
   "metadata": {},
   "outputs": [
    {
     "name": "stdout",
     "output_type": "stream",
     "text": [
      "hello \"python\"\n"
     ]
    }
   ],
   "source": [
    "string4='hello \"python\"'\n",
    "print(string4)"
   ]
  },
  {
   "cell_type": "raw",
   "id": "9c210dad",
   "metadata": {},
   "source": [
    "-type\n",
    "-len\n",
    "-max\n",
    "-min"
   ]
  },
  {
   "cell_type": "code",
   "execution_count": 7,
   "id": "1b7d70bf",
   "metadata": {},
   "outputs": [
    {
     "data": {
      "text/plain": [
       "'python'"
      ]
     },
     "execution_count": 7,
     "metadata": {},
     "output_type": "execute_result"
    }
   ],
   "source": [
    "#type-1\n",
    "\n",
    "string1\n"
   ]
  },
  {
   "cell_type": "code",
   "execution_count": 8,
   "id": "e723ecc0",
   "metadata": {},
   "outputs": [
    {
     "data": {
      "text/plain": [
       "str"
      ]
     },
     "execution_count": 8,
     "metadata": {},
     "output_type": "execute_result"
    }
   ],
   "source": [
    "type(string1)"
   ]
  },
  {
   "cell_type": "code",
   "execution_count": 9,
   "id": "84c3febc",
   "metadata": {},
   "outputs": [
    {
     "data": {
      "text/plain": [
       "6"
      ]
     },
     "execution_count": 9,
     "metadata": {},
     "output_type": "execute_result"
    }
   ],
   "source": [
    "len(string1)"
   ]
  },
  {
   "cell_type": "code",
   "execution_count": 10,
   "id": "18d409cd",
   "metadata": {},
   "outputs": [
    {
     "data": {
      "text/plain": [
       "'y'"
      ]
     },
     "execution_count": 10,
     "metadata": {},
     "output_type": "execute_result"
    }
   ],
   "source": [
    "max(string1)       #python"
   ]
  },
  {
   "cell_type": "code",
   "execution_count": 11,
   "id": "20985d1c",
   "metadata": {},
   "outputs": [
    {
     "data": {
      "text/plain": [
       "'h'"
      ]
     },
     "execution_count": 11,
     "metadata": {},
     "output_type": "execute_result"
    }
   ],
   "source": [
    "min(string1)            #python"
   ]
  },
  {
   "cell_type": "markdown",
   "id": "701c7d39",
   "metadata": {},
   "source": [
    "$ord$-chr"
   ]
  },
  {
   "cell_type": "code",
   "execution_count": 13,
   "id": "1df758e9",
   "metadata": {},
   "outputs": [
    {
     "data": {
      "text/plain": [
       "80"
      ]
     },
     "execution_count": 13,
     "metadata": {},
     "output_type": "execute_result"
    }
   ],
   "source": [
    "ord('P')       #it will provide ascii value of char"
   ]
  },
  {
   "cell_type": "code",
   "execution_count": 14,
   "id": "99b7d743",
   "metadata": {},
   "outputs": [
    {
     "data": {
      "text/plain": [
       "(112, 121, 116, 104, 111, 110)"
      ]
     },
     "execution_count": 14,
     "metadata": {},
     "output_type": "execute_result"
    }
   ],
   "source": [
    "ord('p'),ord('y'),ord('t'),ord('h'),ord('o'),ord('n')"
   ]
  },
  {
   "cell_type": "code",
   "execution_count": 15,
   "id": "de0e851e",
   "metadata": {},
   "outputs": [
    {
     "data": {
      "text/plain": [
       "'p'"
      ]
     },
     "execution_count": 15,
     "metadata": {},
     "output_type": "execute_result"
    }
   ],
   "source": [
    "chr(112)"
   ]
  },
  {
   "cell_type": "code",
   "execution_count": 17,
   "id": "98a84cb2",
   "metadata": {},
   "outputs": [
    {
     "data": {
      "text/plain": [
       "'y'"
      ]
     },
     "execution_count": 17,
     "metadata": {},
     "output_type": "execute_result"
    }
   ],
   "source": [
    "chr(121)"
   ]
  },
  {
   "cell_type": "code",
   "execution_count": 18,
   "id": "e2d01ee0",
   "metadata": {},
   "outputs": [
    {
     "data": {
      "text/plain": [
       "'t'"
      ]
     },
     "execution_count": 18,
     "metadata": {},
     "output_type": "execute_result"
    }
   ],
   "source": [
    "chr(116)"
   ]
  },
  {
   "cell_type": "code",
   "execution_count": 19,
   "id": "4782a56d",
   "metadata": {},
   "outputs": [
    {
     "data": {
      "text/plain": [
       "'h'"
      ]
     },
     "execution_count": 19,
     "metadata": {},
     "output_type": "execute_result"
    }
   ],
   "source": [
    "chr(104)"
   ]
  },
  {
   "cell_type": "code",
   "execution_count": 24,
   "id": "5ed9d079",
   "metadata": {},
   "outputs": [
    {
     "data": {
      "text/plain": [
       "'o'"
      ]
     },
     "execution_count": 24,
     "metadata": {},
     "output_type": "execute_result"
    }
   ],
   "source": [
    "chr(111)"
   ]
  },
  {
   "cell_type": "code",
   "execution_count": 25,
   "id": "8be2d6e1",
   "metadata": {},
   "outputs": [
    {
     "data": {
      "text/plain": [
       "'n'"
      ]
     },
     "execution_count": 25,
     "metadata": {},
     "output_type": "execute_result"
    }
   ],
   "source": [
    "chr(110)"
   ]
  },
  {
   "cell_type": "code",
   "execution_count": 26,
   "id": "9b240682",
   "metadata": {},
   "outputs": [
    {
     "ename": "TypeError",
     "evalue": "'str' object cannot be interpreted as an integer",
     "output_type": "error",
     "traceback": [
      "\u001b[1;31m---------------------------------------------------------------------------\u001b[0m",
      "\u001b[1;31mTypeError\u001b[0m                                 Traceback (most recent call last)",
      "Cell \u001b[1;32mIn[26], line 1\u001b[0m\n\u001b[1;32m----> 1\u001b[0m \u001b[38;5;28;01mfor\u001b[39;00m i \u001b[38;5;129;01min\u001b[39;00m \u001b[38;5;28mrange\u001b[39m(\u001b[38;5;124m\"\u001b[39m\u001b[38;5;124mpython\u001b[39m\u001b[38;5;124m\"\u001b[39m):\u001b[38;5;66;03m#######range==============math\u001b[39;00m\n\u001b[0;32m      2\u001b[0m     \u001b[38;5;28mprint\u001b[39m(i)\n",
      "\u001b[1;31mTypeError\u001b[0m: 'str' object cannot be interpreted as an integer"
     ]
    }
   ],
   "source": [
    "for i in range(\"python\"):#######range==============math\n",
    "    print(i)\n",
    "\n",
    "because we cannt use string in the range of i,both are diiferent,i.e...hetergenous,hemogenous"
   ]
  },
  {
   "cell_type": "code",
   "execution_count": 28,
   "id": "52329b1c",
   "metadata": {},
   "outputs": [
    {
     "name": "stdout",
     "output_type": "stream",
     "text": [
      "0\n",
      "1\n",
      "2\n",
      "3\n",
      "4\n",
      "5\n"
     ]
    }
   ],
   "source": [
    "for i in range(len(\"python\")):#######range==============math\n",
    "    print(i)"
   ]
  },
  {
   "cell_type": "markdown",
   "id": "9e9c0c68",
   "metadata": {},
   "source": [
    "IN"
   ]
  },
  {
   "cell_type": "code",
   "execution_count": 29,
   "id": "b4bb4356",
   "metadata": {},
   "outputs": [
    {
     "data": {
      "text/plain": [
       "True"
      ]
     },
     "execution_count": 29,
     "metadata": {},
     "output_type": "execute_result"
    }
   ],
   "source": [
    "string1='python'\n",
    "'p' in string1"
   ]
  },
  {
   "cell_type": "code",
   "execution_count": 30,
   "id": "f82517d4",
   "metadata": {},
   "outputs": [
    {
     "data": {
      "text/plain": [
       "True"
      ]
     },
     "execution_count": 30,
     "metadata": {},
     "output_type": "execute_result"
    }
   ],
   "source": [
    "string1='python'\n",
    "'p' in string1\n",
    "'y' in string1\n",
    "'t' in string1\n",
    "'h' in string1\n",
    "'0' in string1\n",
    "'n' in string1\n",
    "#i in string1\n"
   ]
  },
  {
   "cell_type": "code",
   "execution_count": 31,
   "id": "0631f358",
   "metadata": {},
   "outputs": [
    {
     "name": "stdout",
     "output_type": "stream",
     "text": [
      "p\n",
      "y\n",
      "t\n",
      "h\n",
      "o\n",
      "n\n"
     ]
    }
   ],
   "source": [
    "for i in string1:\n",
    "    print(i)           #generlized method\n",
    "    "
   ]
  },
  {
   "cell_type": "raw",
   "id": "5cef89a6",
   "metadata": {},
   "source": [
    "-range() :you need to provide number inside the range\n",
    "-in      :is used only for strings\n",
    "\n",
    "if u want to print the letters using for loop go for 'in' operator"
   ]
  },
  {
   "cell_type": "code",
   "execution_count": 32,
   "id": "47fefdad",
   "metadata": {},
   "outputs": [
    {
     "name": "stdout",
     "output_type": "stream",
     "text": [
      "112\n",
      "121\n",
      "116\n",
      "104\n",
      "111\n",
      "110\n"
     ]
    }
   ],
   "source": [
    "print(ord('p'))\n",
    "print(ord('y'))\n",
    "print(ord('t'))\n",
    "print(ord('h'))\n",
    "print(ord('o'))\n",
    "print(ord('n'))\n",
    "#print(ord(i))"
   ]
  },
  {
   "cell_type": "code",
   "execution_count": 35,
   "id": "4b7bd6d0",
   "metadata": {},
   "outputs": [
    {
     "name": "stdout",
     "output_type": "stream",
     "text": [
      "112\n",
      "121\n",
      "116\n",
      "104\n",
      "111\n",
      "110\n"
     ]
    }
   ],
   "source": [
    "for i in string1:\n",
    "    print(ord(i))"
   ]
  },
  {
   "cell_type": "code",
   "execution_count": 36,
   "id": "76f43a21",
   "metadata": {},
   "outputs": [
    {
     "name": "stdout",
     "output_type": "stream",
     "text": [
      "112\n"
     ]
    }
   ],
   "source": [
    "print(ord('p'))"
   ]
  },
  {
   "cell_type": "code",
   "execution_count": 37,
   "id": "5b00b7d6",
   "metadata": {},
   "outputs": [
    {
     "name": "stdout",
     "output_type": "stream",
     "text": [
      "the ascii value of p is 112\n",
      "the ascii value of y is 121\n",
      "the ascii value of t is 116\n",
      "the ascii value of h is 104\n",
      "the ascii value of o is 111\n",
      "the ascii value of n is 110\n"
     ]
    }
   ],
   "source": [
    "for i in string1:\n",
    "    print(\"the ascii value of {} is {}\".format(i,ord(i)))"
   ]
  },
  {
   "cell_type": "code",
   "execution_count": 40,
   "id": "c4ac143b",
   "metadata": {},
   "outputs": [
    {
     "name": "stdout",
     "output_type": "stream",
     "text": [
      "the ascii value of A is 65\n",
      "the ascii value of B is 66\n",
      "the ascii value of C is 67\n",
      "the ascii value of D is 68\n",
      "the ascii value of E is 69\n",
      "the ascii value of F is 70\n",
      "the ascii value of G is 71\n",
      "the ascii value of H is 72\n",
      "the ascii value of I is 73\n",
      "the ascii value of J is 74\n",
      "the ascii value of K is 75\n",
      "the ascii value of L is 76\n",
      "the ascii value of M is 77\n",
      "the ascii value of N is 78\n",
      "the ascii value of O is 79\n",
      "the ascii value of P is 80\n",
      "the ascii value of Q is 81\n",
      "the ascii value of R is 82\n",
      "the ascii value of S is 83\n",
      "the ascii value of T is 84\n",
      "the ascii value of V is 86\n",
      "the ascii value of U is 85\n",
      "the ascii value of W is 87\n",
      "the ascii value of X is 88\n",
      "the ascii value of Y is 89\n",
      "the ascii value of Z is 90\n"
     ]
    }
   ],
   "source": [
    "str='ABCDEFGHIJKLMNOPQRSTVUWXYZ'\n",
    "for i in str:\n",
    "    print(\"the ascii value of {} is {}\".format(i,ord(i)))"
   ]
  },
  {
   "cell_type": "code",
   "execution_count": 42,
   "id": "fe2f8bee",
   "metadata": {},
   "outputs": [],
   "source": [
    "#alterative method\n",
    "import string\n",
    "\n"
   ]
  },
  {
   "cell_type": "code",
   "execution_count": 43,
   "id": "a4fef2fa",
   "metadata": {},
   "outputs": [
    {
     "data": {
      "text/plain": [
       "['Formatter',\n",
       " 'Template',\n",
       " '_ChainMap',\n",
       " '__all__',\n",
       " '__builtins__',\n",
       " '__cached__',\n",
       " '__doc__',\n",
       " '__file__',\n",
       " '__loader__',\n",
       " '__name__',\n",
       " '__package__',\n",
       " '__spec__',\n",
       " '_re',\n",
       " '_sentinel_dict',\n",
       " '_string',\n",
       " 'ascii_letters',\n",
       " 'ascii_lowercase',\n",
       " 'ascii_uppercase',\n",
       " 'capwords',\n",
       " 'digits',\n",
       " 'hexdigits',\n",
       " 'octdigits',\n",
       " 'printable',\n",
       " 'punctuation',\n",
       " 'whitespace']"
      ]
     },
     "execution_count": 43,
     "metadata": {},
     "output_type": "execute_result"
    }
   ],
   "source": [
    "dir(string)"
   ]
  },
  {
   "cell_type": "code",
   "execution_count": 47,
   "id": "4237a84b",
   "metadata": {},
   "outputs": [
    {
     "data": {
      "text/plain": [
       "'ABCDEFGHIJKLMNOPQRSTUVWXYZ'"
      ]
     },
     "execution_count": 47,
     "metadata": {},
     "output_type": "execute_result"
    }
   ],
   "source": [
    "string.ascii_uppercase"
   ]
  },
  {
   "cell_type": "code",
   "execution_count": 52,
   "id": "b559b321",
   "metadata": {},
   "outputs": [
    {
     "name": "stdout",
     "output_type": "stream",
     "text": [
      "the ascii value of A is 65\n",
      "the ascii value of B is 66\n",
      "the ascii value of C is 67\n",
      "the ascii value of D is 68\n",
      "the ascii value of E is 69\n",
      "the ascii value of F is 70\n",
      "the ascii value of G is 71\n",
      "the ascii value of H is 72\n",
      "the ascii value of I is 73\n",
      "the ascii value of J is 74\n",
      "the ascii value of K is 75\n",
      "the ascii value of L is 76\n",
      "the ascii value of M is 77\n",
      "the ascii value of N is 78\n",
      "the ascii value of O is 79\n",
      "the ascii value of P is 80\n",
      "the ascii value of Q is 81\n",
      "the ascii value of R is 82\n",
      "the ascii value of S is 83\n",
      "the ascii value of T is 84\n",
      "the ascii value of U is 85\n",
      "the ascii value of V is 86\n",
      "the ascii value of W is 87\n",
      "the ascii value of X is 88\n",
      "the ascii value of Y is 89\n",
      "the ascii value of Z is 90\n"
     ]
    }
   ],
   "source": [
    "for i in string.ascii_uppercase:\n",
    "    print(\"the ascii value of {} is {}\".format(i,ord(i)))"
   ]
  },
  {
   "cell_type": "code",
   "execution_count": 53,
   "id": "257a3a10",
   "metadata": {},
   "outputs": [
    {
     "data": {
      "text/plain": [
       "'abcdefghijklmnopqrstuvwxyz'"
      ]
     },
     "execution_count": 53,
     "metadata": {},
     "output_type": "execute_result"
    }
   ],
   "source": [
    "string.ascii_lowercase\n"
   ]
  },
  {
   "cell_type": "code",
   "execution_count": 55,
   "id": "5f2e5fec",
   "metadata": {},
   "outputs": [
    {
     "name": "stdout",
     "output_type": "stream",
     "text": [
      "the ascii value of a is 97\n",
      "the ascii value of b is 98\n",
      "the ascii value of c is 99\n",
      "the ascii value of d is 100\n",
      "the ascii value of e is 101\n",
      "the ascii value of f is 102\n",
      "the ascii value of g is 103\n",
      "the ascii value of h is 104\n",
      "the ascii value of i is 105\n",
      "the ascii value of j is 106\n",
      "the ascii value of k is 107\n",
      "the ascii value of l is 108\n",
      "the ascii value of m is 109\n",
      "the ascii value of n is 110\n",
      "the ascii value of o is 111\n",
      "the ascii value of p is 112\n",
      "the ascii value of q is 113\n",
      "the ascii value of r is 114\n",
      "the ascii value of s is 115\n",
      "the ascii value of t is 116\n",
      "the ascii value of u is 117\n",
      "the ascii value of v is 118\n",
      "the ascii value of w is 119\n",
      "the ascii value of x is 120\n",
      "the ascii value of y is 121\n",
      "the ascii value of z is 122\n"
     ]
    }
   ],
   "source": [
    "for i in string.ascii_lowercase:\n",
    "    print(\"the ascii value of {} is {}\".format(i,ord(i)))"
   ]
  },
  {
   "cell_type": "code",
   "execution_count": 56,
   "id": "93feefb1",
   "metadata": {},
   "outputs": [
    {
     "name": "stdout",
     "output_type": "stream",
     "text": [
      "the ascii value of ! is 33\n",
      "the ascii value of \" is 34\n",
      "the ascii value of # is 35\n",
      "the ascii value of $ is 36\n",
      "the ascii value of % is 37\n",
      "the ascii value of & is 38\n",
      "the ascii value of ' is 39\n",
      "the ascii value of ( is 40\n",
      "the ascii value of ) is 41\n",
      "the ascii value of * is 42\n",
      "the ascii value of + is 43\n",
      "the ascii value of , is 44\n",
      "the ascii value of - is 45\n",
      "the ascii value of . is 46\n",
      "the ascii value of / is 47\n",
      "the ascii value of : is 58\n",
      "the ascii value of ; is 59\n",
      "the ascii value of < is 60\n",
      "the ascii value of = is 61\n",
      "the ascii value of > is 62\n",
      "the ascii value of ? is 63\n",
      "the ascii value of @ is 64\n",
      "the ascii value of [ is 91\n",
      "the ascii value of \\ is 92\n",
      "the ascii value of ] is 93\n",
      "the ascii value of ^ is 94\n",
      "the ascii value of _ is 95\n",
      "the ascii value of ` is 96\n",
      "the ascii value of { is 123\n",
      "the ascii value of | is 124\n",
      "the ascii value of } is 125\n",
      "the ascii value of ~ is 126\n"
     ]
    }
   ],
   "source": [
    "for i in string.punctuation:\n",
    "    print(\"the ascii value of {} is {}\".format(i,ord(i)))"
   ]
  },
  {
   "cell_type": "code",
   "execution_count": 57,
   "id": "4238df63",
   "metadata": {},
   "outputs": [
    {
     "data": {
      "text/plain": [
       "97"
      ]
     },
     "execution_count": 57,
     "metadata": {},
     "output_type": "execute_result"
    }
   ],
   "source": [
    "#what is the start and end of ascii values?\n",
    "ord('a')"
   ]
  },
  {
   "cell_type": "code",
   "execution_count": 58,
   "id": "7330acf8",
   "metadata": {},
   "outputs": [
    {
     "data": {
      "text/plain": [
       "'a'"
      ]
     },
     "execution_count": 58,
     "metadata": {},
     "output_type": "execute_result"
    }
   ],
   "source": [
    "chr(97)"
   ]
  },
  {
   "cell_type": "code",
   "execution_count": 61,
   "id": "4bffa715",
   "metadata": {},
   "outputs": [
    {
     "name": "stdout",
     "output_type": "stream",
     "text": [
      "33 !\n",
      "34 \"\n",
      "35 #\n",
      "36 $\n",
      "37 %\n",
      "38 &\n",
      "39 '\n",
      "40 (\n",
      "41 )\n",
      "42 *\n",
      "43 +\n",
      "44 ,\n",
      "45 -\n",
      "46 .\n",
      "47 /\n",
      "48 0\n",
      "49 1\n",
      "50 2\n",
      "51 3\n",
      "52 4\n",
      "53 5\n",
      "54 6\n",
      "55 7\n",
      "56 8\n",
      "57 9\n",
      "58 :\n",
      "59 ;\n",
      "60 <\n",
      "61 =\n",
      "62 >\n",
      "63 ?\n",
      "64 @\n",
      "65 A\n",
      "66 B\n",
      "67 C\n",
      "68 D\n",
      "69 E\n",
      "70 F\n",
      "71 G\n",
      "72 H\n",
      "73 I\n",
      "74 J\n",
      "75 K\n",
      "76 L\n",
      "77 M\n",
      "78 N\n",
      "79 O\n",
      "80 P\n",
      "81 Q\n",
      "82 R\n",
      "83 S\n",
      "84 T\n",
      "85 U\n",
      "86 V\n",
      "87 W\n",
      "88 X\n",
      "89 Y\n",
      "90 Z\n",
      "91 [\n",
      "92 \\\n",
      "93 ]\n",
      "94 ^\n",
      "95 _\n",
      "96 `\n",
      "97 a\n",
      "98 b\n",
      "99 c\n",
      "100 d\n",
      "101 e\n",
      "102 f\n",
      "103 g\n",
      "104 h\n",
      "105 i\n",
      "106 j\n",
      "107 k\n",
      "108 l\n",
      "109 m\n",
      "110 n\n",
      "111 o\n",
      "112 p\n",
      "113 q\n",
      "114 r\n",
      "115 s\n",
      "116 t\n",
      "117 u\n",
      "118 v\n",
      "119 w\n",
      "120 x\n",
      "121 y\n",
      "122 z\n",
      "123 {\n",
      "124 |\n",
      "125 }\n"
     ]
    }
   ],
   "source": [
    "for i in range(33,126):\n",
    "    print(i,chr(i))\n",
    "    \n",
    "#starts with 33 and \n",
    "#end with 126\n",
    "#ascii:93\n"
   ]
  },
  {
   "cell_type": "code",
   "execution_count": 62,
   "id": "c425bfde",
   "metadata": {},
   "outputs": [
    {
     "data": {
      "text/plain": [
       "'abcdefghijklmnopqrstuvwxyzABCDEFGHIJKLMNOPQRSTUVWXYZ'"
      ]
     },
     "execution_count": 62,
     "metadata": {},
     "output_type": "execute_result"
    }
   ],
   "source": [
    "string.ascii_letters"
   ]
  },
  {
   "cell_type": "code",
   "execution_count": 63,
   "id": "64c1205d",
   "metadata": {},
   "outputs": [
    {
     "data": {
      "text/plain": [
       "'0123456789abcdefghijklmnopqrstuvwxyzABCDEFGHIJKLMNOPQRSTUVWXYZ!\"#$%&\\'()*+,-./:;<=>?@[\\\\]^_`{|}~ \\t\\n\\r\\x0b\\x0c'"
      ]
     },
     "execution_count": 63,
     "metadata": {},
     "output_type": "execute_result"
    }
   ],
   "source": [
    "string.printable\n",
    "\n",
    "#digits\n",
    "#lower\n",
    "#upper\n",
    "#symbol\n",
    "#punct"
   ]
  },
  {
   "cell_type": "code",
   "execution_count": 67,
   "id": "dc2b3e51",
   "metadata": {},
   "outputs": [
    {
     "name": "stdout",
     "output_type": "stream",
     "text": [
      "the ascii value of h is 104\n",
      "the ascii value of a is 97\n",
      "the ascii value of i is 105\n",
      "the ascii value of   is 32\n",
      "the ascii value of h is 104\n",
      "the ascii value of o is 111\n",
      "the ascii value of w is 119\n",
      "the ascii value of   is 32\n",
      "the ascii value of a is 97\n",
      "the ascii value of r is 114\n",
      "the ascii value of e is 101\n",
      "the ascii value of   is 32\n",
      "the ascii value of u is 117\n",
      "the ascii value of   is 32\n",
      "the ascii value of a is 97\n",
      "the ascii value of n is 110\n",
      "the ascii value of d is 100\n",
      "the ascii value of   is 32\n",
      "the ascii value of h is 104\n",
      "the ascii value of o is 111\n",
      "the ascii value of w is 119\n",
      "the ascii value of   is 32\n",
      "the ascii value of d is 100\n",
      "the ascii value of o is 111\n",
      "the ascii value of   is 32\n",
      "the ascii value of y is 121\n",
      "the ascii value of   is 32\n",
      "the ascii value of d is 100\n",
      "the ascii value of o is 111\n",
      "3\n"
     ]
    }
   ],
   "source": [
    "#wap of the user find no.of 'a' letters in a given string\n",
    "#string=\"hai how are u and how do y do\"\n",
    "#ans=3\n",
    "\n",
    "#count=0\n",
    "#[hint:first iterate the string using in and for loop\n",
    "#print each letter ========>i\n",
    "#apply the if condition i=='a'\n",
    "#count=count+1] in global\n",
    "#Important\n",
    "count=0\n",
    "string=\"hai how are u and how do y do\"\n",
    "for i in user:\n",
    "    print(\"the ascii value of {} is {}\".format(i,ord(i)))\n",
    "    if i==\"a\":\n",
    "        count=count+1\n",
    "print(count)\n",
    "    \n",
    "   "
   ]
  },
  {
   "cell_type": "code",
   "execution_count": 74,
   "id": "25f494a9",
   "metadata": {},
   "outputs": [
    {
     "name": "stdout",
     "output_type": "stream",
     "text": [
      "7\n"
     ]
    }
   ],
   "source": [
    "#Important\n",
    "#wap count the no.of vowels in a given string\n",
    "#string=\"hai how are you\"\n",
    "#ans:7\n",
    "\n",
    "string=\"hai how are you\"\n",
    "count=0\n",
    "for i in string:\n",
    "    #print(i)\n",
    "    if i in 'aeiou': \n",
    "        count=count+1\n",
    "print(count)"
   ]
  },
  {
   "cell_type": "code",
   "execution_count": 1,
   "id": "479d064a",
   "metadata": {},
   "outputs": [
    {
     "name": "stdout",
     "output_type": "stream",
     "text": [
      " \n"
     ]
    }
   ],
   "source": [
    "#Important\n",
    "#wap count the no.of unique vowels in a given string\n",
    "string=\"hai how are you\"\n",
    "string1=\" \"\n",
    "count=0\n",
    "for i in string:\n",
    "    #print(i)\n",
    "    if i in 'aeiou':\n",
    "        string=string1+i\n",
    "        \n",
    "print(string1)"
   ]
  },
  {
   "cell_type": "markdown",
   "id": "8d96d6f0",
   "metadata": {},
   "source": [
    "concentenation"
   ]
  },
  {
   "cell_type": "code",
   "execution_count": 92,
   "id": "4165306c",
   "metadata": {},
   "outputs": [
    {
     "data": {
      "text/plain": [
       "'haihello'"
      ]
     },
     "execution_count": 92,
     "metadata": {},
     "output_type": "execute_result"
    }
   ],
   "source": [
    "str1='hai'\n",
    "str2='hello'\n",
    "str1+str2"
   ]
  },
  {
   "cell_type": "code",
   "execution_count": 93,
   "id": "8b34657c",
   "metadata": {},
   "outputs": [
    {
     "ename": "TypeError",
     "evalue": "unsupported operand type(s) for -: 'str' and 'str'",
     "output_type": "error",
     "traceback": [
      "\u001b[1;31m---------------------------------------------------------------------------\u001b[0m",
      "\u001b[1;31mTypeError\u001b[0m                                 Traceback (most recent call last)",
      "Cell \u001b[1;32mIn[93], line 1\u001b[0m\n\u001b[1;32m----> 1\u001b[0m str1\u001b[38;5;241m-\u001b[39mstr2\n\u001b[0;32m      2\u001b[0m str1\u001b[38;5;241m*\u001b[39mstr2\n\u001b[0;32m      3\u001b[0m str1\u001b[38;5;241m/\u001b[39mstr2\n",
      "\u001b[1;31mTypeError\u001b[0m: unsupported operand type(s) for -: 'str' and 'str'"
     ]
    }
   ],
   "source": [
    "str1-str2\n",
    "str1*str2\n",
    "str1/str2"
   ]
  },
  {
   "cell_type": "code",
   "execution_count": 94,
   "id": "857e9da9",
   "metadata": {},
   "outputs": [
    {
     "ename": "TypeError",
     "evalue": "can't multiply sequence by non-int of type 'str'",
     "output_type": "error",
     "traceback": [
      "\u001b[1;31m---------------------------------------------------------------------------\u001b[0m",
      "\u001b[1;31mTypeError\u001b[0m                                 Traceback (most recent call last)",
      "Cell \u001b[1;32mIn[94], line 1\u001b[0m\n\u001b[1;32m----> 1\u001b[0m str1\u001b[38;5;241m*\u001b[39mstr2\n",
      "\u001b[1;31mTypeError\u001b[0m: can't multiply sequence by non-int of type 'str'"
     ]
    }
   ],
   "source": [
    "str1*str2\n",
    "\n",
    "#we connt multilple with non interger type"
   ]
  },
  {
   "cell_type": "code",
   "execution_count": 95,
   "id": "391c5292",
   "metadata": {},
   "outputs": [
    {
     "ename": "TypeError",
     "evalue": "unsupported operand type(s) for /: 'str' and 'str'",
     "output_type": "error",
     "traceback": [
      "\u001b[1;31m---------------------------------------------------------------------------\u001b[0m",
      "\u001b[1;31mTypeError\u001b[0m                                 Traceback (most recent call last)",
      "Cell \u001b[1;32mIn[95], line 1\u001b[0m\n\u001b[1;32m----> 1\u001b[0m str1\u001b[38;5;241m/\u001b[39mstr2\n",
      "\u001b[1;31mTypeError\u001b[0m: unsupported operand type(s) for /: 'str' and 'str'"
     ]
    }
   ],
   "source": [
    "str1/str2\n"
   ]
  },
  {
   "cell_type": "code",
   "execution_count": 96,
   "id": "9f7f3128",
   "metadata": {},
   "outputs": [
    {
     "data": {
      "text/plain": [
       "'hellohellohello'"
      ]
     },
     "execution_count": 96,
     "metadata": {},
     "output_type": "execute_result"
    }
   ],
   "source": [
    "3*str2\n",
    "#we can multiple with the integer with the string"
   ]
  },
  {
   "cell_type": "code",
   "execution_count": 98,
   "id": "5f4cd0bf",
   "metadata": {},
   "outputs": [
    {
     "data": {
      "text/plain": [
       "'hellohellohello'"
      ]
     },
     "execution_count": 98,
     "metadata": {},
     "output_type": "execute_result"
    }
   ],
   "source": [
    "str2+str2+str2"
   ]
  },
  {
   "cell_type": "code",
   "execution_count": null,
   "id": "79eed75a",
   "metadata": {},
   "outputs": [],
   "source": [
    "-how to read\n",
    "-type\n",
    "-len\n",
    "-max\n",
    "-min\n",
    "-concatenation\n",
    "\n"
   ]
  },
  {
   "cell_type": "markdown",
   "id": "e2bf2294",
   "metadata": {},
   "source": [
    "INDEX"
   ]
  },
  {
   "cell_type": "code",
   "execution_count": null,
   "id": "a2a909d2",
   "metadata": {},
   "outputs": [],
   "source": [
    "string1='python'     #6 letters\n",
    "\n",
    "p   y    t   h   o   n\n",
    "0   1    2   3   4   5"
   ]
  },
  {
   "cell_type": "code",
   "execution_count": 123,
   "id": "8b7acac1",
   "metadata": {},
   "outputs": [
    {
     "data": {
      "text/plain": [
       "('p', 'y', 't', 'h', 'o', 'n')"
      ]
     },
     "execution_count": 123,
     "metadata": {},
     "output_type": "execute_result"
    }
   ],
   "source": [
    "string1='python'\n",
    "string1[0],string1[1],string1[2],string1[3],string1[4],string1[5]\n"
   ]
  },
  {
   "cell_type": "code",
   "execution_count": 120,
   "id": "f15f9cd2",
   "metadata": {},
   "outputs": [
    {
     "name": "stdout",
     "output_type": "stream",
     "text": [
      "p\n",
      "y\n",
      "t\n",
      "h\n",
      "o\n"
     ]
    }
   ],
   "source": [
    "for i in range(5):\n",
    "    print(string1[i])"
   ]
  },
  {
   "cell_type": "code",
   "execution_count": 110,
   "id": "e16bb300",
   "metadata": {},
   "outputs": [
    {
     "name": "stdout",
     "output_type": "stream",
     "text": [
      "p\n",
      "y\n",
      "t\n",
      "h\n",
      "o\n",
      "n\n",
      "0 p\n",
      "1 y\n",
      "2 t\n",
      "3 h\n",
      "4 o\n",
      "5 n\n"
     ]
    }
   ],
   "source": [
    "string1='python'\n",
    "#i want to print letters using in opertor\n",
    "#i wantto print letters using range operator\n",
    "\n",
    "for i in string1:       #direct method\n",
    "    print(i)\n",
    "    \n",
    "    \n",
    "for i in range(len(string1)):\n",
    "    print(i,string1[i])\n",
    "    "
   ]
  },
  {
   "cell_type": "code",
   "execution_count": 112,
   "id": "b6735050",
   "metadata": {},
   "outputs": [
    {
     "name": "stdout",
     "output_type": "stream",
     "text": [
      "the index no.of R is 0\n",
      "the index no.of E is 1\n",
      "the index no.of N is 2\n",
      "the index no.of U is 3\n",
      "the index no.of K is 4\n",
      "the index no.of A is 5\n"
     ]
    }
   ],
   "source": [
    "name='RENUKA'\n",
    "for i in range(len(name)):\n",
    "    print(\"the index no.of {} is {}\".format(name[i],i))"
   ]
  },
  {
   "cell_type": "code",
   "execution_count": null,
   "id": "6d2d018c",
   "metadata": {},
   "outputs": [],
   "source": [
    "#if u want to print only letters:in opeartor\n",
    "#if u want to print index:range\n",
    "#if u want to print both the indexes and letters:range"
   ]
  }
 ],
 "metadata": {
  "kernelspec": {
   "display_name": "Python 3 (ipykernel)",
   "language": "python",
   "name": "python3"
  },
  "language_info": {
   "codemirror_mode": {
    "name": "ipython",
    "version": 3
   },
   "file_extension": ".py",
   "mimetype": "text/x-python",
   "name": "python",
   "nbconvert_exporter": "python",
   "pygments_lexer": "ipython3",
   "version": "3.11.5"
  }
 },
 "nbformat": 4,
 "nbformat_minor": 5
}
