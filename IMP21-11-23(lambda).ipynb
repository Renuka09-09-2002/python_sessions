{
 "cells": [
  {
   "cell_type": "code",
   "execution_count": null,
   "id": "bc738d3d",
   "metadata": {},
   "outputs": [],
   "source": [
    "#create a basic function\n"
   ]
  },
  {
   "cell_type": "markdown",
   "id": "269fab29",
   "metadata": {},
   "source": [
    "$single-argument$"
   ]
  },
  {
   "cell_type": "code",
   "execution_count": 3,
   "id": "d32eacf1",
   "metadata": {},
   "outputs": [
    {
     "data": {
      "text/plain": [
       "30"
      ]
     },
     "execution_count": 3,
     "metadata": {},
     "output_type": "execute_result"
    }
   ],
   "source": [
    "def add(x):\n",
    "    summ=0\n",
    "    summ=x+10\n",
    "    return(summ)\n",
    "add(20)"
   ]
  },
  {
   "cell_type": "code",
   "execution_count": 5,
   "id": "0090f8f8",
   "metadata": {},
   "outputs": [
    {
     "data": {
      "text/plain": [
       "30"
      ]
     },
     "execution_count": 5,
     "metadata": {},
     "output_type": "execute_result"
    }
   ],
   "source": [
    "def add(x):\n",
    "    \n",
    "    return(x+10)\n",
    "add(20)"
   ]
  },
  {
   "cell_type": "code",
   "execution_count": null,
   "id": "c5b6f2a2",
   "metadata": {},
   "outputs": [],
   "source": [
    "-how many arguments are returns ?\n",
    "-what are u returning ?\n",
    "\n",
    "\n",
    "#format--lambda <argument_name>:<o/p>"
   ]
  },
  {
   "cell_type": "code",
   "execution_count": 6,
   "id": "9bcb8e9c",
   "metadata": {},
   "outputs": [
    {
     "data": {
      "text/plain": [
       "30"
      ]
     },
     "execution_count": 6,
     "metadata": {},
     "output_type": "execute_result"
    }
   ],
   "source": [
    "add=lambda x:x+10\n",
    "add(20)"
   ]
  },
  {
   "cell_type": "code",
   "execution_count": 7,
   "id": "3a956802",
   "metadata": {},
   "outputs": [
    {
     "data": {
      "text/plain": [
       "25"
      ]
     },
     "execution_count": 7,
     "metadata": {},
     "output_type": "execute_result"
    }
   ],
   "source": [
    "def square(x):\n",
    "    return(x*x)\n",
    "square(5)"
   ]
  },
  {
   "cell_type": "code",
   "execution_count": 8,
   "id": "b6a7648b",
   "metadata": {},
   "outputs": [
    {
     "data": {
      "text/plain": [
       "25"
      ]
     },
     "execution_count": 8,
     "metadata": {},
     "output_type": "execute_result"
    }
   ],
   "source": [
    "square=lambda x:x*x\n",
    "square(5)"
   ]
  },
  {
   "cell_type": "code",
   "execution_count": 10,
   "id": "7c47b0cd",
   "metadata": {},
   "outputs": [
    {
     "data": {
      "text/plain": [
       "8"
      ]
     },
     "execution_count": 10,
     "metadata": {},
     "output_type": "execute_result"
    }
   ],
   "source": [
    "def cube(x):\n",
    "    return(x*x*x)\n",
    "cube(2)"
   ]
  },
  {
   "cell_type": "code",
   "execution_count": 11,
   "id": "df9d183b",
   "metadata": {},
   "outputs": [
    {
     "data": {
      "text/plain": [
       "8"
      ]
     },
     "execution_count": 11,
     "metadata": {},
     "output_type": "execute_result"
    }
   ],
   "source": [
    "cube=lambda x:x*x*x\n",
    "cube(2)"
   ]
  },
  {
   "cell_type": "markdown",
   "id": "dbd6210c",
   "metadata": {},
   "source": [
    "$2- $arguments"
   ]
  },
  {
   "cell_type": "code",
   "execution_count": null,
   "id": "7d7abe76",
   "metadata": {},
   "outputs": [],
   "source": [
    "-how many arguments are present ?  a,b\n",
    "-what are u returning ?    a+b\n",
    "\n",
    "#format----lambda<arg1>,<arg2>:<o/p>\n"
   ]
  },
  {
   "cell_type": "code",
   "execution_count": 12,
   "id": "87948816",
   "metadata": {},
   "outputs": [
    {
     "data": {
      "text/plain": [
       "30"
      ]
     },
     "execution_count": 12,
     "metadata": {},
     "output_type": "execute_result"
    }
   ],
   "source": [
    "add=lambda a,b:a+b\n",
    "add(10,20)"
   ]
  },
  {
   "cell_type": "code",
   "execution_count": 13,
   "id": "6c8c142c",
   "metadata": {},
   "outputs": [
    {
     "data": {
      "text/plain": [
       "3.0"
      ]
     },
     "execution_count": 13,
     "metadata": {},
     "output_type": "execute_result"
    }
   ],
   "source": [
    "#implement avg of 3 no's using lambda\n",
    "\n",
    "avg=lambda a,b,c:(a+b+c)/3\n",
    "avg(2,3,4)"
   ]
  },
  {
   "cell_type": "code",
   "execution_count": 23,
   "id": "c234c28e",
   "metadata": {},
   "outputs": [
    {
     "data": {
      "text/plain": [
       "21"
      ]
     },
     "execution_count": 23,
     "metadata": {},
     "output_type": "execute_result"
    }
   ],
   "source": [
    "#implement avg make 'c' ad default parameter\n",
    "\n",
    "avg=lambda a,b,c=10:round((a+b+c)/3)\n",
    "avg(20,34)\n"
   ]
  },
  {
   "cell_type": "markdown",
   "id": "cdbbd045",
   "metadata": {},
   "source": [
    "$if-else$"
   ]
  },
  {
   "cell_type": "code",
   "execution_count": 32,
   "id": "20fd3cd0",
   "metadata": {},
   "outputs": [
    {
     "data": {
      "text/plain": [
       "100"
      ]
     },
     "execution_count": 32,
     "metadata": {},
     "output_type": "execute_result"
    }
   ],
   "source": [
    "#create a fun for finding '>' no's b/w 2 no's\n",
    "\n",
    "def larger(n1,n2):\n",
    "    if n1>n2:\n",
    "        return(n1)\n",
    "    else:\n",
    "        return(n2)\n",
    "larger(20,100)\n",
    "       \n",
    "        \n",
    "    "
   ]
  },
  {
   "cell_type": "code",
   "execution_count": 30,
   "id": "cec97983",
   "metadata": {},
   "outputs": [],
   "source": [
    "def larger(n1,n2):\n",
    "    if n1>n2:\n",
    "        return(n1)\n",
    "    else:\n",
    "        return(n2)\n",
    "larger(20,100)\n",
    "       \n"
   ]
  },
  {
   "cell_type": "code",
   "execution_count": 34,
   "id": "2aa82111",
   "metadata": {},
   "outputs": [],
   "source": [
    "l1=[]\n",
    "def larger(n1,n2):\n",
    "    if n1>n2:\n",
    "        l1.append(n1)\n",
    "    else:\n",
    "        l1.append(n2)\n",
    "larger(20,100)\n"
   ]
  },
  {
   "cell_type": "code",
   "execution_count": null,
   "id": "a774e27d",
   "metadata": {},
   "outputs": [],
   "source": [
    "l1[<if_o/p><if_con>else<else_o/p><loops]"
   ]
  },
  {
   "cell_type": "code",
   "execution_count": 33,
   "id": "f2121c34",
   "metadata": {},
   "outputs": [
    {
     "data": {
      "text/plain": [
       "100"
      ]
     },
     "execution_count": 33,
     "metadata": {},
     "output_type": "execute_result"
    }
   ],
   "source": [
    "#format:lambda<arg1>,<arg2>:<if_o/p>else<else_o/p>\n",
    "\n",
    "larger=lambda a,b:(a if a>b else b)\n",
    "larger(20,100)"
   ]
  },
  {
   "cell_type": "code",
   "execution_count": null,
   "id": "281f3c8f",
   "metadata": {},
   "outputs": [],
   "source": []
  }
 ],
 "metadata": {
  "kernelspec": {
   "display_name": "Python 3 (ipykernel)",
   "language": "python",
   "name": "python3"
  },
  "language_info": {
   "codemirror_mode": {
    "name": "ipython",
    "version": 3
   },
   "file_extension": ".py",
   "mimetype": "text/x-python",
   "name": "python",
   "nbconvert_exporter": "python",
   "pygments_lexer": "ipython3",
   "version": "3.11.5"
  }
 },
 "nbformat": 4,
 "nbformat_minor": 5
}
