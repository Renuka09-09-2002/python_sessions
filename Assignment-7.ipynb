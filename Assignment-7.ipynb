{
 "cells": [
  {
   "cell_type": "code",
   "execution_count": 3,
   "id": "40766d39",
   "metadata": {},
   "outputs": [
    {
     "name": "stdout",
     "output_type": "stream",
     "text": [
      "enter a string :Renuka\n",
      "Renuka\n"
     ]
    }
   ],
   "source": [
    "#1. Write a program that asks the user to enter a string. The program should then print the following:\n",
    "#(a) The total number of characters in the string\n",
    "#(b) The string repeated 10 times\n",
    "#(c) The first character of the string (remember that string indices start at 0) (d) The first three\n",
    "#characters of the string\n",
    "#(e) The last three characters of the string\n",
    "#(f) The string backwards\n",
    "#(g) The seventh character of the string if the string is long enough and a message otherwise\n",
    "#(h) The string with its first and last characters removed\n",
    "#(i) The string in all caps\n",
    "#(j) The string with every a replaced with an e\n",
    "\n",
    "string1=input(\"enter a string :\")\n",
    "print(string1)"
   ]
  },
  {
   "cell_type": "code",
   "execution_count": 5,
   "id": "095d6d01",
   "metadata": {},
   "outputs": [
    {
     "data": {
      "text/plain": [
       "6"
      ]
     },
     "execution_count": 5,
     "metadata": {},
     "output_type": "execute_result"
    }
   ],
   "source": [
    "#(b) The string repeated 10 times\n",
    "len(string1)"
   ]
  },
  {
   "cell_type": "code",
   "execution_count": 11,
   "id": "8e4ff61f",
   "metadata": {},
   "outputs": [
    {
     "name": "stdout",
     "output_type": "stream",
     "text": [
      "enter a string :\"Renuka\"\n",
      "Renuka\n",
      "0\n",
      "1\n",
      "2\n",
      "3\n",
      "4\n",
      "5\n",
      "6\n",
      "7\n",
      "8\n",
      "9\n"
     ]
    }
   ],
   "source": [
    "#(c) The first character of the string (remember that string indices start at 0) (d) The first three\n",
    "#characters of the string\n",
    "string1=eval(input(\"enter a string :\"))\n",
    "print(string1)\n",
    "for i in range(10):\n",
    "    print(i)"
   ]
  },
  {
   "cell_type": "code",
   "execution_count": 14,
   "id": "d6fa9d8e",
   "metadata": {},
   "outputs": [
    {
     "data": {
      "text/plain": [
       "'R'"
      ]
     },
     "execution_count": 14,
     "metadata": {},
     "output_type": "execute_result"
    }
   ],
   "source": [
    "#(e) The last three characters of the string\n",
    "string1=\"Renuka\"\n",
    "string1[0]"
   ]
  },
  {
   "cell_type": "code",
   "execution_count": 15,
   "id": "4beb1f25",
   "metadata": {},
   "outputs": [
    {
     "data": {
      "text/plain": [
       "'Ren'"
      ]
     },
     "execution_count": 15,
     "metadata": {},
     "output_type": "execute_result"
    }
   ],
   "source": [
    "string1=\"Renuka\"\n",
    "string1[0:3]"
   ]
  },
  {
   "cell_type": "code",
   "execution_count": 18,
   "id": "fb5b7d80",
   "metadata": {},
   "outputs": [
    {
     "data": {
      "text/plain": [
       "'uka'"
      ]
     },
     "execution_count": 18,
     "metadata": {},
     "output_type": "execute_result"
    }
   ],
   "source": [
    "#(f) The string backwards\n",
    "string1=\"Renuka\"\n",
    "string1[-3:]"
   ]
  },
  {
   "cell_type": "code",
   "execution_count": 23,
   "id": "220592da",
   "metadata": {},
   "outputs": [
    {
     "data": {
      "text/plain": [
       "'akuneR'"
      ]
     },
     "execution_count": 23,
     "metadata": {},
     "output_type": "execute_result"
    }
   ],
   "source": [
    "string1[::-1]"
   ]
  },
  {
   "cell_type": "code",
   "execution_count": 24,
   "id": "8d2ee7e6",
   "metadata": {},
   "outputs": [
    {
     "name": "stdout",
     "output_type": "stream",
     "text": [
      "enter a string :'hai hello how are u?'\n",
      "hai hello how are u? is too much length\n"
     ]
    }
   ],
   "source": [
    "#(g) The seventh character of the string if the string is long enough and a message otherwise\n",
    "string1=eval(input(\"enter a string :\"))\n",
    "if len(string1) >= 7:\n",
    "    print(\"{} is too much length\".format(string1,len(string1)))\n",
    "else:\n",
    "    print('{} is a message to be sent'.format(string1,len(string1)))\n",
    "       "
   ]
  },
  {
   "cell_type": "code",
   "execution_count": 25,
   "id": "3c6c68cd",
   "metadata": {},
   "outputs": [
    {
     "data": {
      "text/plain": [
       "'ai hello how are u'"
      ]
     },
     "execution_count": 25,
     "metadata": {},
     "output_type": "execute_result"
    }
   ],
   "source": [
    "#(h) The string with its first and last characters removed\n",
    "string1[1:-1]"
   ]
  },
  {
   "cell_type": "code",
   "execution_count": 27,
   "id": "cb4aab71",
   "metadata": {},
   "outputs": [
    {
     "data": {
      "text/plain": [
       "'HAI HELLO HOW ARE U?'"
      ]
     },
     "execution_count": 27,
     "metadata": {},
     "output_type": "execute_result"
    }
   ],
   "source": [
    "#(i) The string in all caps\n",
    "string1.upper()"
   ]
  },
  {
   "cell_type": "code",
   "execution_count": 31,
   "id": "7214de77",
   "metadata": {},
   "outputs": [
    {
     "data": {
      "text/plain": [
       "'hei hello how ere u?'"
      ]
     },
     "execution_count": 31,
     "metadata": {},
     "output_type": "execute_result"
    }
   ],
   "source": [
    "#(j) The string with every a replaced with an e\n",
    "string1.replace( 'a','e')"
   ]
  },
  {
   "cell_type": "code",
   "execution_count": null,
   "id": "b0fff0dd",
   "metadata": {},
   "outputs": [],
   "source": [
    "#2. A simple way to estimate the number of words in a string is to count the number of spaces in the\n",
    "#string. Write a program that asks the user for a string and returns an estimate of how many words\n",
    "#are in the string.\n",
    "#Tip: You need to count the number of words using spaces"
   ]
  },
  {
   "cell_type": "code",
   "execution_count": 9,
   "id": "b8507cdd",
   "metadata": {},
   "outputs": [
    {
     "name": "stdout",
     "output_type": "stream",
     "text": [
      "enter a string :hi hello how r u\n"
     ]
    },
    {
     "data": {
      "text/plain": [
       "4"
      ]
     },
     "execution_count": 9,
     "metadata": {},
     "output_type": "execute_result"
    }
   ],
   "source": [
    "s1=input(\"enter a string :\")\n",
    "space=s1.count(' ')\n",
    "space"
   ]
  },
  {
   "cell_type": "code",
   "execution_count": 61,
   "id": "0bab6e95",
   "metadata": {},
   "outputs": [
    {
     "name": "stdout",
     "output_type": "stream",
     "text": [
      "enter a string :'hai hello how are u ?'\n",
      "8\n"
     ]
    }
   ],
   "source": [
    "#3.Write a program that asks the user to enter a word and prints out whether that word contains any vowels.\n",
    "string1=eval(input('enter a string :'))\n",
    "count=0\n",
    "for i in string1:\n",
    "    #print(i)\n",
    "    if i in 'aeiou': \n",
    "        count=count+1\n",
    "print(count)"
   ]
  },
  {
   "cell_type": "code",
   "execution_count": 11,
   "id": "ccd16672",
   "metadata": {},
   "outputs": [
    {
     "name": "stdout",
     "output_type": "stream",
     "text": [
      "5\n"
     ]
    }
   ],
   "source": [
    "#4. Improvise above code by providing unique vowels\n",
    "str1='aeiouaeiou'\n",
    "count=0\n",
    "str2=''\n",
    "for i in str1:\n",
    "   \n",
    "        if i not in str2:\n",
    "            str2=str2+i\n",
    "            count+=1\n",
    "print(count)"
   ]
  },
  {
   "cell_type": "code",
   "execution_count": 12,
   "id": "45854bea",
   "metadata": {},
   "outputs": [
    {
     "data": {
      "text/plain": [
       "'Q*ert'"
      ]
     },
     "execution_count": 12,
     "metadata": {},
     "output_type": "execute_result"
    }
   ],
   "source": [
    "#5. Write a program that asks the user to enter a string. The program should create a new string\n",
    "#called new_string from the user’s string such that the second character is changed to an asterisk and\n",
    "#three exclamation points are attached to the end of the string. Finally, print new_string.\n",
    "#Typical output is shown below:\n",
    "#Enter your string: Qbert\n",
    "#Output: Q*ert!!!\n",
    "str1='Qbert'\n",
    "new_str=''\n",
    "for i in range(len(str1)):\n",
    "    if i ==1:\n",
    "        new_str+='*'\n",
    "    else:\n",
    "        new_str +=str1[i]\n",
    "new_str"
   ]
  },
  {
   "cell_type": "code",
   "execution_count": 73,
   "id": "d18d1e5f",
   "metadata": {},
   "outputs": [
    {
     "name": "stdout",
     "output_type": "stream",
     "text": [
      "0\n",
      "1\n",
      "2\n",
      "3\n",
      "4\n",
      "5\n",
      "6\n"
     ]
    }
   ],
   "source": [
    "str1='ajgtpen'\n",
    "new_str=''\n",
    "for i in range(len(str1)):\n",
    "    print(i)"
   ]
  },
  {
   "cell_type": "code",
   "execution_count": 2,
   "id": "4a7a885d",
   "metadata": {},
   "outputs": [
    {
     "name": "stdout",
     "output_type": "stream",
     "text": [
      "enter u r string :1221\n",
      "Yes,1221 is a palindrome\n"
     ]
    }
   ],
   "source": [
    "#6. Write a program that asks the user to enter a word and determines whether the word is a\n",
    "#palindrome or not. A palindrome is a word that reads the same backwards as forwards\n",
    "str1=input(\"enter u r string :\")\n",
    "str2=''\n",
    "\n",
    "for i in str1:\n",
    "    str2=i+str2\n",
    "if(str1==str2):\n",
    "        print('Yes,{} is a palindrome'.format(str2))\n",
    "else:\n",
    "        print('No,{} is not a palindrome'.format(str2))\n",
    "\n",
    "    \n",
    "   \n"
   ]
  },
  {
   "cell_type": "code",
   "execution_count": 4,
   "id": "2fe159aa",
   "metadata": {},
   "outputs": [
    {
     "name": "stdout",
     "output_type": "stream",
     "text": [
      "No\n",
      "No\n",
      "No\n",
      "No\n",
      "Yes\n"
     ]
    }
   ],
   "source": [
    "str1 = \"madam\"\n",
    " \n",
    "str2 = ''\n",
    "for i in str1:\n",
    "    str2=str2 +i\n",
    "    if (str1 == str2):\n",
    "        print(\"Yes\")\n",
    "    else:\n",
    "        print(\"No\")"
   ]
  },
  {
   "cell_type": "code",
   "execution_count": 53,
   "id": "4a68b9f4",
   "metadata": {},
   "outputs": [
    {
     "data": {
      "text/plain": [
       "['__add__',\n",
       " '__class__',\n",
       " '__contains__',\n",
       " '__delattr__',\n",
       " '__dir__',\n",
       " '__doc__',\n",
       " '__eq__',\n",
       " '__format__',\n",
       " '__ge__',\n",
       " '__getattribute__',\n",
       " '__getitem__',\n",
       " '__getnewargs__',\n",
       " '__getstate__',\n",
       " '__gt__',\n",
       " '__hash__',\n",
       " '__init__',\n",
       " '__init_subclass__',\n",
       " '__iter__',\n",
       " '__le__',\n",
       " '__len__',\n",
       " '__lt__',\n",
       " '__mod__',\n",
       " '__mul__',\n",
       " '__ne__',\n",
       " '__new__',\n",
       " '__reduce__',\n",
       " '__reduce_ex__',\n",
       " '__repr__',\n",
       " '__rmod__',\n",
       " '__rmul__',\n",
       " '__setattr__',\n",
       " '__sizeof__',\n",
       " '__str__',\n",
       " '__subclasshook__',\n",
       " 'capitalize',\n",
       " 'casefold',\n",
       " 'center',\n",
       " 'count',\n",
       " 'encode',\n",
       " 'endswith',\n",
       " 'expandtabs',\n",
       " 'find',\n",
       " 'format',\n",
       " 'format_map',\n",
       " 'index',\n",
       " 'isalnum',\n",
       " 'isalpha',\n",
       " 'isascii',\n",
       " 'isdecimal',\n",
       " 'isdigit',\n",
       " 'isidentifier',\n",
       " 'islower',\n",
       " 'isnumeric',\n",
       " 'isprintable',\n",
       " 'isspace',\n",
       " 'istitle',\n",
       " 'isupper',\n",
       " 'join',\n",
       " 'ljust',\n",
       " 'lower',\n",
       " 'lstrip',\n",
       " 'maketrans',\n",
       " 'partition',\n",
       " 'removeprefix',\n",
       " 'removesuffix',\n",
       " 'replace',\n",
       " 'rfind',\n",
       " 'rindex',\n",
       " 'rjust',\n",
       " 'rpartition',\n",
       " 'rsplit',\n",
       " 'rstrip',\n",
       " 'split',\n",
       " 'splitlines',\n",
       " 'startswith',\n",
       " 'strip',\n",
       " 'swapcase',\n",
       " 'title',\n",
       " 'translate',\n",
       " 'upper',\n",
       " 'zfill']"
      ]
     },
     "execution_count": 53,
     "metadata": {},
     "output_type": "execute_result"
    }
   ],
   "source": [
    "dir('')"
   ]
  },
  {
   "cell_type": "code",
   "execution_count": 25,
   "id": "8b67848b",
   "metadata": {},
   "outputs": [
    {
     "name": "stdout",
     "output_type": "stream",
     "text": [
      "How many email addresses will you be entering? 2\n",
      "enter u r email address :renu@student.college.edu\n",
      "enter u r email address :omkar@prof.college.edu\n",
      "There were some professor addresses entered.\n"
     ]
    },
    {
     "data": {
      "text/plain": [
       "2"
      ]
     },
     "execution_count": 25,
     "metadata": {},
     "output_type": "execute_result"
    }
   ],
   "source": [
    "#7. At a certain school, student email addresses end with @student.college.edu, while professor\n",
    "#email addresses end with @prof.college.edu. Write a program that first asks the user how many\n",
    "#email addresses they will be entering, and then has the user enter those addresses. After all the\n",
    "#email addresses are entered, the program should print out a message indicating either that all the\n",
    "#addresses are student addresses or that there were some professor addresses entered.\n",
    "str1 = int(input(\"How many email addresses will you be entering? \"))\n",
    "stud_email=0\n",
    "prof_email=0\n",
    "for i in range(str1):\n",
    "    email=input(\"enter u r email address :\")\n",
    "    if email.endswith(\"@student.college.edu\"):\n",
    "            stud_email+=1\n",
    "    elif email.endswith(\"@prof.college.edu\"):\n",
    "        prof_email+=1\n",
    "if stud_email == str1:\n",
    "    print(\"All addresses are student addresses.\")\n",
    "elif prof_email > 0:\n",
    "    print(\"There were some professor addresses entered.\")\n",
    "else:\n",
    "    print(\"No professor addresses were entered.\")\n",
    "str1\n",
    "\n"
   ]
  },
  {
   "cell_type": "code",
   "execution_count": 27,
   "id": "d50a8a53",
   "metadata": {},
   "outputs": [
    {
     "name": "stdout",
     "output_type": "stream",
     "text": [
      "enter a string :HEY\n",
      "HH\n",
      "EE\n",
      "YY\n"
     ]
    }
   ],
   "source": [
    "#8. Write a program that asks the user to enter a string, then prints out each letter of the string\n",
    "#doubled and on a separate line. For instance,\n",
    "#if the user entered HEY,\n",
    "#the output would be\n",
    "#HH\n",
    "#EE\n",
    "#YY\n",
    "str1=input('enter a string :')\n",
    "for char in str1:\n",
    "    print(char*2)"
   ]
  },
  {
   "cell_type": "code",
   "execution_count": 8,
   "id": "12d5c214",
   "metadata": {},
   "outputs": [
    {
     "name": "stdout",
     "output_type": "stream",
     "text": [
      "enter a string :buffalo\n",
      "First line: buffa\n",
      "Second line: lo\n"
     ]
    }
   ],
   "source": [
    "#9.Write a program that asks the user to enter a word that contains the letter a. The program should\n",
    "#then print the following two lines: On the first line should be the part of the string up to and\n",
    "#including the the first a, and on the second line should be the rest of the string.\n",
    "#Sample output is shown below:\n",
    "#Enter a word: buffalo\n",
    "#buffa\n",
    "#lo\n",
    "\n",
    "str1=input(\"enter a string :\")\n",
    "print(\"First line:\",str1[:str1.find('a')+1])\n",
    "print(\"Second line:\",str1[str1.find('a')+1:])\n"
   ]
  },
  {
   "cell_type": "code",
   "execution_count": 7,
   "id": "a4e18d5e",
   "metadata": {},
   "outputs": [
    {
     "name": "stdout",
     "output_type": "stream",
     "text": [
      "enter a string :rhinoceros\n"
     ]
    },
    {
     "data": {
      "text/plain": [
       "'rHiNoCeRoS'"
      ]
     },
     "execution_count": 7,
     "metadata": {},
     "output_type": "execute_result"
    }
   ],
   "source": [
    "#10. Write a program that asks the user to enter a word and then capitalizes every other letter of that word.\n",
    "#So if the user enters rhinoceros,the program should print rHiNoCeRoS.\n",
    "str1=input(\"enter a string :\")\n",
    "cap=''\n",
    "for i in range(len(str1)):\n",
    "    if i % 2 == 0:\n",
    "        cap+=str1[i].lower()\n",
    "    else:\n",
    "        cap+=str1[i].upper()\n",
    "cap"
   ]
  },
  {
   "cell_type": "code",
   "execution_count": 14,
   "id": "e31a5076",
   "metadata": {},
   "outputs": [
    {
     "name": "stdout",
     "output_type": "stream",
     "text": [
      "enter a string1 :abcde\n",
      "enter a string2 :ABCDE\n",
      "AaBbCcDdEe\n"
     ]
    }
   ],
   "source": [
    "#11. Write a program that asks the user to enter two strings of the same length. The program should\n",
    "#then check to see if the strings are of the same length. If they are not, the program should print an\n",
    "#appropriate message and exit. If they are of the same length, the program should alternate the\n",
    "#characters of the two strings. For example,\n",
    "#if the user enters abcde and ABCDE\n",
    "#the program should print out AaBbCcDdEe.\n",
    "\n",
    "str1=input('enter a string1 :')\n",
    "str2=input(\"enter a string2 :\")\n",
    "str3=''\n",
    "for i,j in zip(str1,str2):\n",
    "    if len(str1)!=len(str2):\n",
    "        print(\"error\")\n",
    "    else:\n",
    "        str3+=j+i\n",
    "        \n",
    "print(str3)\n",
    "    \n",
    "    \n"
   ]
  },
  {
   "cell_type": "code",
   "execution_count": 165,
   "id": "1e2cba88",
   "metadata": {},
   "outputs": [
    {
     "name": "stdout",
     "output_type": "stream",
     "text": [
      "enter u r name :RENUKA PARI\n"
     ]
    },
    {
     "data": {
      "text/plain": [
       "'Renuka Pari'"
      ]
     },
     "execution_count": 165,
     "metadata": {},
     "output_type": "execute_result"
    }
   ],
   "source": [
    "#12. Write a program that asks the user to enter their name in lowercase and then capitalizes the first\n",
    "#letter of each word of their name.\n",
    "str1=input(\"enter u r name :\")\n",
    "a=str1.title()\n",
    "a\n",
    "\n",
    "\n"
   ]
  },
  {
   "cell_type": "code",
   "execution_count": 31,
   "id": "d471c1b7",
   "metadata": {},
   "outputs": [
    {
     "name": "stdout",
     "output_type": "stream",
     "text": [
      "enter u r string :apple\n",
      "a\n",
      "the letter  is present in apple\n"
     ]
    }
   ],
   "source": [
    "#13. The goal of this exercise is to see if you can mimic the behavior of the in operator and the count\n",
    "#and index methods using only variables, for loops, and if statements.\n",
    "#(a) Without using the in operator, write a program that asks the user for a string and a letter\n",
    "#and prints out whether or not the letter appears in the string.\n",
    "#(b) Without using the count method, write a program that asks the user for a string and a\n",
    "#letter and counts how manstr1=y occurrences there are of the letter in the string.\n",
    "#(c) Without using the index method, write a program that asks the user for a string and a\n",
    "#letter and prints out the index of the first occurrence of the letter in the string. If the letter is\n",
    "#not in the string, the program should say so.\n",
    "str1=input(\"enter u r string :\")\n",
    "str2=input()\n",
    "for i in range(len(str1)):\n",
    "    \n",
    "    if str1[i]==str2:\n",
    "        str2+=str1[i]\n",
    "        print('the letter  is present in {}'.format(str1,str1[i]))\n",
    "        break\n",
    "    else:\n",
    "        \n",
    "        print('no')\n",
    "        \n",
    "               \n",
    "\n",
    "        \n",
    "\n",
    "\n"
   ]
  },
  {
   "cell_type": "code",
   "execution_count": 22,
   "id": "fdfb7b5a",
   "metadata": {},
   "outputs": [
    {
     "data": {
      "text/plain": [
       "('afshkjg', 'j')"
      ]
     },
     "execution_count": 22,
     "metadata": {},
     "output_type": "execute_result"
    }
   ],
   "source": [
    "str1 ='afshkjg j'\n",
    "s = str1.split()\n",
    "s[0],s[1]"
   ]
  },
  {
   "cell_type": "code",
   "execution_count": 88,
   "id": "05d0cfb5",
   "metadata": {},
   "outputs": [
    {
     "name": "stdout",
     "output_type": "stream",
     "text": [
      "Enter your string: apple\n"
     ]
    },
    {
     "data": {
      "text/plain": [
       "1"
      ]
     },
     "execution_count": 88,
     "metadata": {},
     "output_type": "execute_result"
    }
   ],
   "source": [
    "#(b) Without using the count method, write a program that asks the user for a string and a\n",
    "#letter and counts how manstr1=y occurrences there are of the letter in the string.\n",
    "str1 = input(\"Enter your string: \")\n",
    "str2=''\n",
    "for i in str1:\n",
    "    if i =='a':\n",
    "        str2+=i\n",
    "len(str2)\n"
   ]
  },
  {
   "cell_type": "code",
   "execution_count": 85,
   "id": "5af1aa05",
   "metadata": {},
   "outputs": [
    {
     "data": {
      "text/plain": [
       "['__add__',\n",
       " '__class__',\n",
       " '__contains__',\n",
       " '__delattr__',\n",
       " '__dir__',\n",
       " '__doc__',\n",
       " '__eq__',\n",
       " '__format__',\n",
       " '__ge__',\n",
       " '__getattribute__',\n",
       " '__getitem__',\n",
       " '__getnewargs__',\n",
       " '__getstate__',\n",
       " '__gt__',\n",
       " '__hash__',\n",
       " '__init__',\n",
       " '__init_subclass__',\n",
       " '__iter__',\n",
       " '__le__',\n",
       " '__len__',\n",
       " '__lt__',\n",
       " '__mod__',\n",
       " '__mul__',\n",
       " '__ne__',\n",
       " '__new__',\n",
       " '__reduce__',\n",
       " '__reduce_ex__',\n",
       " '__repr__',\n",
       " '__rmod__',\n",
       " '__rmul__',\n",
       " '__setattr__',\n",
       " '__sizeof__',\n",
       " '__str__',\n",
       " '__subclasshook__',\n",
       " 'capitalize',\n",
       " 'casefold',\n",
       " 'center',\n",
       " 'count',\n",
       " 'encode',\n",
       " 'endswith',\n",
       " 'expandtabs',\n",
       " 'find',\n",
       " 'format',\n",
       " 'format_map',\n",
       " 'index',\n",
       " 'isalnum',\n",
       " 'isalpha',\n",
       " 'isascii',\n",
       " 'isdecimal',\n",
       " 'isdigit',\n",
       " 'isidentifier',\n",
       " 'islower',\n",
       " 'isnumeric',\n",
       " 'isprintable',\n",
       " 'isspace',\n",
       " 'istitle',\n",
       " 'isupper',\n",
       " 'join',\n",
       " 'ljust',\n",
       " 'lower',\n",
       " 'lstrip',\n",
       " 'maketrans',\n",
       " 'partition',\n",
       " 'removeprefix',\n",
       " 'removesuffix',\n",
       " 'replace',\n",
       " 'rfind',\n",
       " 'rindex',\n",
       " 'rjust',\n",
       " 'rpartition',\n",
       " 'rsplit',\n",
       " 'rstrip',\n",
       " 'split',\n",
       " 'splitlines',\n",
       " 'startswith',\n",
       " 'strip',\n",
       " 'swapcase',\n",
       " 'title',\n",
       " 'translate',\n",
       " 'upper',\n",
       " 'zfill']"
      ]
     },
     "execution_count": 85,
     "metadata": {},
     "output_type": "execute_result"
    }
   ],
   "source": [
    "dir('')"
   ]
  },
  {
   "cell_type": "code",
   "execution_count": null,
   "id": "f3b73c27",
   "metadata": {},
   "outputs": [],
   "source": []
  },
  {
   "cell_type": "code",
   "execution_count": null,
   "id": "21198089",
   "metadata": {},
   "outputs": [],
   "source": []
  },
  {
   "cell_type": "code",
   "execution_count": 4,
   "id": "aeb07c9a",
   "metadata": {},
   "outputs": [
    {
     "name": "stdout",
     "output_type": "stream",
     "text": [
      "Index of 'b': 1\n",
      "True\n"
     ]
    },
    {
     "data": {
      "text/plain": [
       "3"
      ]
     },
     "execution_count": 4,
     "metadata": {},
     "output_type": "execute_result"
    }
   ],
   "source": [
    "#(c) Without using the index method, write a program that asks the user for a string and a\n",
    "#letter and prints out the index of the first occurrence of the letter in the string. If the letter is\n",
    "#not in the string, the program should say so.\n",
    "str1='abcd'\n",
    "for i in range(len(str1)):\n",
    "    if str1[i]=='b':\n",
    "        print(\"Index of 'b':\", i)\n",
    "        print('True')\n",
    "i\n"
   ]
  },
  {
   "cell_type": "code",
   "execution_count": 45,
   "id": "5ed329a9",
   "metadata": {},
   "outputs": [
    {
     "name": "stdout",
     "output_type": "stream",
     "text": [
      "First line: stephen.marquard@\n",
      "Second line:  Sat Jan 5 09:14:16 2008\n",
      "stephen.marquard@ Sat Jan 5 09:14:16 2008\n"
     ]
    },
    {
     "ename": "TypeError",
     "evalue": "object of type 'NoneType' has no len()",
     "output_type": "error",
     "traceback": [
      "\u001b[1;31m---------------------------------------------------------------------------\u001b[0m",
      "\u001b[1;31mTypeError\u001b[0m                                 Traceback (most recent call last)",
      "Cell \u001b[1;32mIn[45], line 16\u001b[0m\n\u001b[0;32m     14\u001b[0m \u001b[38;5;66;03m# Print both lines together\u001b[39;00m\n\u001b[0;32m     15\u001b[0m a\u001b[38;5;241m=\u001b[39m\u001b[38;5;28mprint\u001b[39m(first_line \u001b[38;5;241m+\u001b[39m second_line)\n\u001b[1;32m---> 16\u001b[0m \u001b[38;5;28mlen\u001b[39m(a)\n",
      "\u001b[1;31mTypeError\u001b[0m: object of type 'NoneType' has no len()"
     ]
    }
   ],
   "source": [
    "#14. Finding a substring within a string\n",
    "#For example, if we were presented a series of lines formatted as follows:\n",
    "#From stephen.marquard@uct.ac.za Sat Jan 5 09:14:16 2008\n",
    "#and we wanted to pull out only the second half of the address (i.e., uct.ac.za)\n",
    "\n",
    "str1 = 'stephen.marquard@uct.ac.za Sat Jan 5 09:14:16 2008'\n",
    "\n",
    "first_line = str1[:str1.find('@')+1]\n",
    "second_line = str1[str1.find('S')-1:str1.find('8')+1]\n",
    "\n",
    "print(\"First line:\", first_line)\n",
    "print(\"Second line:\", second_line)\n",
    "\n",
    "# Print both lines together\n",
    "print(first_line + second_line)\n"
   ]
  },
  {
   "cell_type": "code",
   "execution_count": 13,
   "id": "fe88177f",
   "metadata": {},
   "outputs": [
    {
     "name": "stdout",
     "output_type": "stream",
     "text": [
      "abcing\n"
     ]
    }
   ],
   "source": [
    "#15 Write a Python program to add 'ing' at the end of a given string (length should be at least 3). If the\n",
    "#given string already ends with 'ing' then add 'ly' instead.\n",
    "#If the string length of the given string is less than 3, leave it unchanged.\n",
    "#Go to the editor\n",
    "#Sample String : 'abc'\n",
    "#Expected Result : 'abcing'\n",
    "#Sample String : 'string'\n",
    "#Expected Result : 'stringly'\n",
    "\n",
    "str1='abc'\n",
    "new_str=''\n",
    "\n",
    "if len(str1) < 3:\n",
    "    new_str = str1\n",
    "else:\n",
    "    if str1.endswith('ing'):\n",
    "        new_str = str1 + 'ly'\n",
    "    else:\n",
    "        new_str = str1 + 'ing'\n",
    "\n",
    "print(new_str)\n",
    "\n",
    "  "
   ]
  },
  {
   "cell_type": "code",
   "execution_count": 42,
   "id": "8b2d487e",
   "metadata": {},
   "outputs": [
    {
     "data": {
      "text/plain": [
       "0.8475"
      ]
     },
     "execution_count": 42,
     "metadata": {},
     "output_type": "execute_result"
    }
   ],
   "source": [
    "# 16-Take the following Python code that stores a string:‘\n",
    "#string = 'X-DSPAM-Confidence: 0.8475'\n",
    "#Extract the portion of the string after the colon character and then use the float function to convert\n",
    "#the extracted string into a floating point number.\n",
    "\n",
    "str1 = 'X-DSPAM-Confidence: 0.8475'\n",
    "\n",
    "extract=str1[str1.find(':')+1:]\n",
    "a=float(extract)\n",
    "a\n",
    "\n",
    "\n"
   ]
  },
  {
   "cell_type": "code",
   "execution_count": 89,
   "id": "b43b194b",
   "metadata": {},
   "outputs": [
    {
     "data": {
      "text/plain": [
       "'ddwqkwd'"
      ]
     },
     "execution_count": 89,
     "metadata": {},
     "output_type": "execute_result"
    }
   ],
   "source": [
    "strin1='ddwqkwd'\n",
    "strin1[::]"
   ]
  },
  {
   "cell_type": "code",
   "execution_count": 57,
   "id": "575bcab6",
   "metadata": {},
   "outputs": [
    {
     "name": "stdout",
     "output_type": "stream",
     "text": [
      "2\n",
      "4\n",
      "6\n",
      "8\n",
      "9\n",
      "8\n",
      "8\n"
     ]
    }
   ],
   "source": [
    "a=1,2,3,4,9,8,8\n",
    "b=1,2,3,4\n",
    "\n",
    "res = (0 for i in range(len(a)-len(b)))\n",
    "b = b+tuple(res)\n",
    "\n",
    "for i,j in zip(a,b):\n",
    "    print(i+j)"
   ]
  },
  {
   "cell_type": "code",
   "execution_count": 52,
   "id": "5727a56c",
   "metadata": {},
   "outputs": [],
   "source": [
    "b=(1,2,3,4)\n"
   ]
  },
  {
   "cell_type": "code",
   "execution_count": 90,
   "id": "1ebfc57c",
   "metadata": {},
   "outputs": [
    {
     "name": "stdout",
     "output_type": "stream",
     "text": [
      "2\n",
      "4\n",
      "6\n",
      "8\n",
      "9\n",
      "8\n",
      "8\n"
     ]
    }
   ],
   "source": [
    "a=1,2,3,4,9,8,8\n",
    "b=1,2,3,4\n",
    "\n",
    "res = (0 for i in range(len(a)-len(b)))\n",
    "b = b+tuple(res)\n",
    "\n",
    "for i,j in zip(a,b):\n",
    "    print(i+j)"
   ]
  },
  {
   "cell_type": "code",
   "execution_count": null,
   "id": "2131e7c4",
   "metadata": {},
   "outputs": [],
   "source": []
  }
 ],
 "metadata": {
  "kernelspec": {
   "display_name": "Python 3 (ipykernel)",
   "language": "python",
   "name": "python3"
  },
  "language_info": {
   "codemirror_mode": {
    "name": "ipython",
    "version": 3
   },
   "file_extension": ".py",
   "mimetype": "text/x-python",
   "name": "python",
   "nbconvert_exporter": "python",
   "pygments_lexer": "ipython3",
   "version": "3.11.5"
  }
 },
 "nbformat": 4,
 "nbformat_minor": 5
}
