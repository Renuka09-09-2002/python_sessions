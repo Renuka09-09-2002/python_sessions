{
 "cells": [
  {
   "cell_type": "code",
   "execution_count": 8,
   "id": "85d98e47",
   "metadata": {},
   "outputs": [
    {
     "name": "stdout",
     "output_type": "stream",
     "text": [
      "Ramesh enter u r salary :1000000\n",
      "ramesh gross salary 1000000 is 400000.0\n"
     ]
    }
   ],
   "source": [
    "#Ramesh’s basic salary is input through the keyboard. His dearness allowance is 40% of\n",
    "#basic salary, and house rent allowance is 20% of basic salary. Write a program to\n",
    "#calculate his gross salary.\n",
    "try:\n",
    "    salary=eval(input(\"Ramesh enter u r salary :\"))\n",
    "    allowance=salary*(40/100)\n",
    "\n",
    "    house_rent=salary*(20/100)\n",
    "    gross_salary = salary + allowance + house_rent\n",
    "    print(\"ramesh gross salary {} is {}\".format(salary,allowance,house_rent,(gross_salary)))\n",
    "except Exception as e:\n",
    "    print(e)"
   ]
  },
  {
   "cell_type": "markdown",
   "id": "7acb28a9",
   "metadata": {},
   "source": [
    "#The distance between two cities (in km.) is input through the keyboard. Write a program\n",
    "#to convert and print this distance in meters, feet, inches and centimeters.\n"
   ]
  },
  {
   "cell_type": "code",
   "execution_count": 9,
   "id": "88856118",
   "metadata": {},
   "outputs": [
    {
     "name": "stdout",
     "output_type": "stream",
     "text": [
      "The distance between two cities (in km) 10\n",
      "The distance in meters 10 is 10000\n",
      "The distance in feet 10 is 32808.4\n",
      "the distance in inches 10 is 393701.0\n",
      "the distance in centimeters 10 is 1000000\n"
     ]
    }
   ],
   "source": [
    "try:\n",
    "    travel=eval(input(\"The distance between two cities (in km) \"))\n",
    "    meters = travel * 1000 # 1 kilometer = 1000 meters\n",
    "    feet = travel * 3280.84  # 1 kilometer = 3280.84 feet\n",
    "    inches = travel * 39370.1  # 1 kilometer = 39370.1 inches\n",
    "    centimeters = travel*100000\n",
    "    print(\"The distance in meters {} is {}\".format(travel,(meters)))\n",
    "    print(\"The distance in feet {} is {}\".format(travel,feet))\n",
    "    print(\"the distance in inches {} is {}\".format(travel,inches))\n",
    "    print(\"the distance in centimeters {} is {}\".format(travel,centimeters))\n",
    "except Exception as e:\n",
    "    print(e)"
   ]
  },
  {
   "cell_type": "code",
   "execution_count": 10,
   "id": "7b7e5c5c",
   "metadata": {},
   "outputs": [
    {
     "name": "stdout",
     "output_type": "stream",
     "text": [
      "enter u r english marks 60\n",
      "enter u r maths marks 78\n",
      "enter u r science marks 86\n",
      "enter u r social marks 93\n",
      "enter u r physics marks 97\n",
      "the marks in english is 60 and aggregate is 414 is 82.8 %\n",
      "the marks in maths is 78 and aggregate is 414 is 82.8 %\n",
      "the marks in science is 86 and aggregate is 414 is 82.8 %\n",
      "the marks in social is 93 and aggregate is 414 is 82.8 %\n",
      "the marks in physics is 97 and aggregate is 414 is 82.8 %\n"
     ]
    }
   ],
   "source": [
    "#If the marks obtained by a student in five different subjects are input through the\n",
    "#keyboard, find out the aggregate marks and percentage marks obtained by the student.\n",
    "#Assume that the maximum marks that can be obtained by a student in each subject is 100.\n",
    "\n",
    "try:\n",
    "    sub1=eval(input(\"enter u r english marks \"))\n",
    "    sub2=eval(input(\"enter u r maths marks \"))\n",
    "    sub3=eval(input(\"enter u r science marks \"))\n",
    "    sub4=eval(input(\"enter u r social marks \"))\n",
    "    sub5=eval(input(\"enter u r physics marks \"))\n",
    "    assigned_marks=100\n",
    "    aggregate_marks=sub1+sub2+sub3+sub4+sub5\n",
    "    total_marks_obtained=5*assigned_marks\n",
    "    percentage=(aggregate_marks/total_marks_obtained)*100\n",
    "    #print(\"the marks in {},{},{} ,{} and {}is {}\".format(sub1,sub2,sub3,sub4,sub5,(aggregate_marks,percentage)))\n",
    "    print(\"the marks in english is {} and aggregate is {} is {} %\".format(sub1,aggregate_marks,(percentage) ))\n",
    "    print(\"the marks in maths is {} and aggregate is {} is {} %\".format(sub2,aggregate_marks,(percentage) ))\n",
    "    print(\"the marks in science is {} and aggregate is {} is {} %\".format(sub3,aggregate_marks,(percentage) ))\n",
    "    print(\"the marks in social is {} and aggregate is {} is {} %\".format(sub4,aggregate_marks,(percentage) ))\n",
    "    print(\"the marks in physics is {} and aggregate is {} is {} %\".format(sub5,aggregate_marks,(percentage) ))\n",
    "except Exception as e:\n",
    "    print(e)\n",
    "\n"
   ]
  },
  {
   "cell_type": "code",
   "execution_count": 15,
   "id": "7579bee1",
   "metadata": {},
   "outputs": [
    {
     "name": "stdout",
     "output_type": "stream",
     "text": [
      "Temperature of a city in Fahrenheit degree 43\n",
      "the temperature into centigrade degrees 6.111111111111111 is 43\n"
     ]
    }
   ],
   "source": [
    "#Temperature of a city in Fahrenheit degrees is input through the keyboard. Write a\n",
    "#program to convert this temperature into Centigrade degrees.\n",
    "try:\n",
    "    climate=eval(input(\"Temperature of a city in Fahrenheit degree \"))\n",
    "    celsius = (climate - 32) * 5/9\n",
    "    print(\"the temperature into centigrade degrees {} is {}\".format(celsius,climate))\n",
    "except Exception as e:\n",
    "    print(e)\n",
    "\n",
    "\n"
   ]
  },
  {
   "cell_type": "code",
   "execution_count": 1,
   "id": "fb64ea2d",
   "metadata": {},
   "outputs": [
    {
     "name": "stdout",
     "output_type": "stream",
     "text": [
      "enter the length of thr reactangle12\n",
      "enter the breath of the rectangle6\n",
      "area of rectangle 12 and 6 is 72\n",
      "perimeter of rectangle 12 and 6 is 144\n",
      "enter the radius of the circle5\n",
      "area1 of circle 5 is 78.5\n",
      "circumference of circle 5 is 157.0\n"
     ]
    }
   ],
   "source": [
    "#The length & breadth of a rectangle and radius of a circle are input through the\n",
    "#keyboard. Write a program to calculate the area & perimeter of the rectangle, and the\n",
    "#area & circumference of the circle.\n",
    "try:\n",
    "    height=eval(input(\"enter the length of thr reactangle\"))\n",
    "    width=eval(input(\"enter the breath of the rectangle\"))\n",
    "    area=height*width\n",
    "    print(\"area of rectangle {} and {} is {}\".format(height,width,area))\n",
    "    perimeter=2*area\n",
    "    print(\"perimeter of rectangle {} and {} is {}\".format(height,width,perimeter))\n",
    "    cir=eval(input(\"enter the radius of the circle\"))\n",
    "    pii=3.14\n",
    "    area1=pii*cir*cir\n",
    "    print(\"area1 of circle {} is {}\".format(cir,area1))\n",
    "    circumference=2*area1\n",
    "    print(\"circumference of circle {} is {}\".format(cir,circumference))\n",
    "except Exception as e:\n",
    "    print(e)   "
   ]
  },
  {
   "cell_type": "code",
   "execution_count": null,
   "id": "0edb4292",
   "metadata": {},
   "outputs": [],
   "source": [
    "#Two numbers are input through the keyboard into two locations C and D. Write a\n",
    "#program to interchange the contents of C and D."
   ]
  },
  {
   "cell_type": "code",
   "execution_count": 3,
   "id": "682571a4",
   "metadata": {},
   "outputs": [
    {
     "name": "stdout",
     "output_type": "stream",
     "text": [
      "enter a number_1 12\n",
      "enter a number_2 22\n",
      "value of a is 22\n",
      "value of b is 12\n"
     ]
    }
   ],
   "source": [
    "try:\n",
    "    a=eval(input(\"enter a number_1 \"))\n",
    "    b=eval(input(\"enter a number_2 \"))\n",
    "    temp=a\n",
    "    a=b\n",
    "    b=temp\n",
    "    print(\"value of a is {}\".format(a))\n",
    "    print(\"value of b is {}\".format(b))\n",
    "except Exception as e:\n",
    "    print(e)      \n"
   ]
  },
  {
   "cell_type": "code",
   "execution_count": 7,
   "id": "f448ac88",
   "metadata": {},
   "outputs": [
    {
     "name": "stdout",
     "output_type": "stream",
     "text": [
      "enter a five digit number: 12345\n",
      "reversed number: 5\n",
      "reversed number: 54\n",
      "reversed number: 543\n",
      "reversed number: 5432\n",
      "reversed number: 54321\n"
     ]
    }
   ],
   "source": [
    "#If a five-digit number is input through the keyboard, write a program to reverse the number.\n",
    "try:\n",
    "    n1=eval(input(\"enter a five digit number: \"))\n",
    "    rev=0\n",
    "    while(n1>0):\n",
    "        rev=rev*10+n1%10\n",
    "        n1=n1//10\n",
    "        print(\"reversed number:\",rev)\n",
    "except Exception as e:\n",
    "    print(e)      \n",
    "\n"
   ]
  },
  {
   "cell_type": "code",
   "execution_count": 1,
   "id": "0a4d68de",
   "metadata": {},
   "outputs": [
    {
     "name": "stdout",
     "output_type": "stream",
     "text": [
      "enter a four digit number:1235\n",
      "the 1st digit of the number 1235 is 1\n",
      "the last digit of the number 1235 is 5\n",
      "the sum of the numbers is 1235 is 6\n"
     ]
    }
   ],
   "source": [
    "#If a four-digit number is input through the keyboard, write a program to obtain the sum of\n",
    "#the first and last digit of this number.\n",
    "\n",
    "try:\n",
    "    num=eval(input(\"enter a four digit number:\"))\n",
    "    first=num//1000\n",
    "    print(\"the 1st digit of the number {} is {}\".format(num,first))\n",
    "    last=num%10\n",
    "    print(\"the last digit of the number {} is {}\".format(num,last))\n",
    "    sum=first+last\n",
    "    print(\"the sum of the numbers is {} is {}\".format(num,sum))\n",
    "except Exception as e:\n",
    "    print(e)      \n",
    "    \n",
    "\n"
   ]
  },
  {
   "cell_type": "code",
   "execution_count": 16,
   "id": "88d8d5dc",
   "metadata": {},
   "outputs": [
    {
     "name": "stdout",
     "output_type": "stream",
     "text": [
      "the total illiterate men: 13600.0\n",
      "the total illiterate women: 28000.0\n",
      "the total illiterate men and women: 41600.0\n"
     ]
    }
   ],
   "source": [
    "#In a town, the percentage of men is 52. The percentage of total literacy is 48. If total\n",
    "#percentage of literate men is 35 of the total population, write a program to find the total\n",
    "#number of illiterate men and women if the population of the town is 80,000.\n",
    "try:\n",
    "    total_pop=80000\n",
    "    percentage_men=52\n",
    "    total_literacy=48\n",
    "    illiterate_men=35\n",
    "    total_men=(percentage_men/100)*total_pop\n",
    "    total_lit=(total_literacy/100)*total_pop\n",
    "    total_lit_men=(illiterate_men/100)*total_pop\n",
    "    illiterate_men = total_men - total_lit_men\n",
    "    total_women = total_pop - total_men\n",
    "    total_lit_women = total_lit - total_lit_men\n",
    "    illiterate_women = total_women - total_lit_women\n",
    "    total_illiterate = illiterate_men + illiterate_women\n",
    "    print(\"the total illiterate men:\",illiterate_men)\n",
    "    print(\"the total illiterate women:\",illiterate_women)\n",
    "    print(\"the total illiterate men and women:\",total_illiterate)\n",
    "except Exception as e:\n",
    "    print(e)  \n"
   ]
  },
  {
   "cell_type": "code",
   "execution_count": 29,
   "id": "494e81e6",
   "metadata": {},
   "outputs": [
    {
     "name": "stdout",
     "output_type": "stream",
     "text": [
      "enter a currency notes :9087\n",
      "the currency notes of cashier of 908 ,181 and 90  \n"
     ]
    }
   ],
   "source": [
    "#10. A cashier has currency notes of denominations 10, 50 and 100. If the amount to be\n",
    "#withdrawn is input through the keyboard in hundreds, find the total number of currency\n",
    "#notes of each denomination the cashier will have to give to the withdrawer.\n",
    "try:\n",
    "    num=eval(input(\"enter a currency notes :\"))\n",
    "    n1=num//10\n",
    "    n11=n1%10\n",
    "    n2=num//50\n",
    "    n22=n11%50\n",
    "    n3=num//100\n",
    "    n22=num%100\n",
    "    print(\"the currency notes of cashier of {} ,{} and {}  \".format(n1,n2,n3))\n",
    "    \n",
    "    \n",
    "except Exception as e:\n",
    "    print(e) \n"
   ]
  },
  {
   "cell_type": "code",
   "execution_count": 2,
   "id": "7c3d8d6e",
   "metadata": {},
   "outputs": [
    {
     "name": "stdout",
     "output_type": "stream",
     "text": [
      "enter a number 123\n",
      "the last digit of the number 123 is 3\n"
     ]
    }
   ],
   "source": [
    "num=eval(input(\"enter a number \"))\n",
    "last=num%10\n",
    "print(\"the last digit of the number {} is {}\".format(num,last))\n",
    "    "
   ]
  },
  {
   "cell_type": "code",
   "execution_count": 7,
   "id": "507cb79e",
   "metadata": {},
   "outputs": [
    {
     "name": "stdout",
     "output_type": "stream",
     "text": [
      "enter a number123\n",
      "3\n"
     ]
    }
   ],
   "source": [
    "a=eval(input(\"enter a number\"))\n",
    "digit=a%10\n",
    "digit2=a%10\n",
    "\n",
    "\n",
    "print(digit)\n"
   ]
  },
  {
   "cell_type": "code",
   "execution_count": null,
   "id": "e62a4d58",
   "metadata": {},
   "outputs": [],
   "source": []
  }
 ],
 "metadata": {
  "kernelspec": {
   "display_name": "Python 3 (ipykernel)",
   "language": "python",
   "name": "python3"
  },
  "language_info": {
   "codemirror_mode": {
    "name": "ipython",
    "version": 3
   },
   "file_extension": ".py",
   "mimetype": "text/x-python",
   "name": "python",
   "nbconvert_exporter": "python",
   "pygments_lexer": "ipython3",
   "version": "3.11.5"
  }
 },
 "nbformat": 4,
 "nbformat_minor": 5
}
