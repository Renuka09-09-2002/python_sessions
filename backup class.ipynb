{
 "cells": [
  {
   "cell_type": "code",
   "execution_count": 2,
   "id": "c77e89a6",
   "metadata": {},
   "outputs": [
    {
     "name": "stdout",
     "output_type": "stream",
     "text": [
      "[2, 3, 4.5]\n"
     ]
    }
   ],
   "source": [
    "list=[2,3,4.5,'udfhad']\n",
    "list.remove('udfhad')\n",
    "print(list)"
   ]
  },
  {
   "cell_type": "code",
   "execution_count": 3,
   "id": "c8a25edc",
   "metadata": {},
   "outputs": [
    {
     "name": "stdout",
     "output_type": "stream",
     "text": [
      "[2, 4.5, 'udfhad']\n"
     ]
    }
   ],
   "source": [
    "list=[2,3,4.5,'udfhad']\n",
    "list.pop(1)\n",
    "print(list)"
   ]
  },
  {
   "cell_type": "code",
   "execution_count": 4,
   "id": "9e1e8641",
   "metadata": {},
   "outputs": [
    {
     "name": "stdout",
     "output_type": "stream",
     "text": [
      "[2, 3, 4.5]\n"
     ]
    }
   ],
   "source": [
    "list=[2,3,4.5,'udfhad']\n",
    "list.pop()\n",
    "print(list)"
   ]
  },
  {
   "cell_type": "code",
   "execution_count": 5,
   "id": "3547bf2b",
   "metadata": {},
   "outputs": [
    {
     "name": "stdout",
     "output_type": "stream",
     "text": [
      "[]\n"
     ]
    }
   ],
   "source": [
    "list=[2,3,4.5,'udfhad']\n",
    "list.clear()\n",
    "print(list)"
   ]
  },
  {
   "cell_type": "code",
   "execution_count": 8,
   "id": "39500982",
   "metadata": {},
   "outputs": [
    {
     "name": "stdout",
     "output_type": "stream",
     "text": [
      "<class 'list'>\n"
     ]
    }
   ],
   "source": [
    "list=[2,3,4.5,'udfhad']\n",
    "del list\n",
    "print(list)"
   ]
  },
  {
   "cell_type": "code",
   "execution_count": 12,
   "id": "6886c837",
   "metadata": {},
   "outputs": [
    {
     "data": {
      "text/plain": [
       "2"
      ]
     },
     "execution_count": 12,
     "metadata": {},
     "output_type": "execute_result"
    }
   ],
   "source": [
    "list=[2,3,4.5,'udfhad']\n",
    "list.index(4.5)"
   ]
  },
  {
   "cell_type": "code",
   "execution_count": 16,
   "id": "6e29fc42",
   "metadata": {},
   "outputs": [
    {
     "name": "stdout",
     "output_type": "stream",
     "text": [
      "3\n"
     ]
    }
   ],
   "source": [
    "s=\"MISSISIPPI\"\n",
    "print(s.count(\"S\"))"
   ]
  },
  {
   "cell_type": "code",
   "execution_count": 17,
   "id": "3cd1e370",
   "metadata": {},
   "outputs": [
    {
     "name": "stdout",
     "output_type": "stream",
     "text": [
      "['udfhad', 4.5, 3, 2]\n"
     ]
    }
   ],
   "source": [
    "list=[2,3,4.5,'udfhad']\n",
    "list.reverse()\n",
    "print(list)"
   ]
  },
  {
   "cell_type": "code",
   "execution_count": 23,
   "id": "195b1796",
   "metadata": {},
   "outputs": [
    {
     "name": "stdout",
     "output_type": "stream",
     "text": [
      "[-56, -7.73, 1, 10, 5446]\n"
     ]
    }
   ],
   "source": [
    "list=[1,10,5446,-56,-7.73]\n",
    "list.sort(reverse=False)\n",
    "print(list)"
   ]
  },
  {
   "cell_type": "code",
   "execution_count": 20,
   "id": "7d70076a",
   "metadata": {},
   "outputs": [
    {
     "name": "stdout",
     "output_type": "stream",
     "text": [
      "[-20, -10, 10, 20, 30, 40, 50]\n"
     ]
    }
   ],
   "source": [
    "list=[10,20,30,-10,-20,40,50]\n",
    "list.sort(reverse=False)\n",
    "print(list)"
   ]
  },
  {
   "cell_type": "code",
   "execution_count": 21,
   "id": "73d03f8d",
   "metadata": {},
   "outputs": [
    {
     "name": "stdout",
     "output_type": "stream",
     "text": [
      "[50, 40, 30, 20, 10, -10, -20]\n"
     ]
    }
   ],
   "source": [
    "list=[10,20,30,-10,-20,40,50]\n",
    "list.sort(reverse=True)\n",
    "print(list)"
   ]
  },
  {
   "cell_type": "code",
   "execution_count": 22,
   "id": "71bc864c",
   "metadata": {},
   "outputs": [
    {
     "name": "stdout",
     "output_type": "stream",
     "text": [
      "[50, 40, 30.5, 20, 10, 4, -10, -20]\n"
     ]
    }
   ],
   "source": [
    "list=[10,20,4,30.5,-10,-20,40,50]\n",
    "list.sort(reverse=True)\n",
    "print(list)"
   ]
  },
  {
   "cell_type": "code",
   "execution_count": 4,
   "id": "89a3a96e",
   "metadata": {},
   "outputs": [
    {
     "name": "stdout",
     "output_type": "stream",
     "text": [
      "[10, 20]\n",
      "['APPLE', 'BDDWNS']\n"
     ]
    }
   ],
   "source": [
    "list1=[10,20]\n",
    "list2=[\"APPLE\",\"BDDWNS\"]\n",
    "print(list1)\n",
    "print(list2)"
   ]
  },
  {
   "cell_type": "code",
   "execution_count": 5,
   "id": "5460d24e",
   "metadata": {},
   "outputs": [
    {
     "name": "stdout",
     "output_type": "stream",
     "text": [
      "[10, 20, 'APPLE', 'BDDWNS']\n"
     ]
    }
   ],
   "source": [
    "list1.extend(list2)\n",
    "print(list1)\n"
   ]
  },
  {
   "cell_type": "code",
   "execution_count": null,
   "id": "faeb8572",
   "metadata": {},
   "outputs": [],
   "source": []
  }
 ],
 "metadata": {
  "kernelspec": {
   "display_name": "Python 3 (ipykernel)",
   "language": "python",
   "name": "python3"
  },
  "language_info": {
   "codemirror_mode": {
    "name": "ipython",
    "version": 3
   },
   "file_extension": ".py",
   "mimetype": "text/x-python",
   "name": "python",
   "nbconvert_exporter": "python",
   "pygments_lexer": "ipython3",
   "version": "3.11.5"
  }
 },
 "nbformat": 4,
 "nbformat_minor": 5
}
