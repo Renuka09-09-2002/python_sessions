{
 "cells": [
  {
   "cell_type": "code",
   "execution_count": null,
   "id": "9024ac50",
   "metadata": {},
   "outputs": [],
   "source": []
  },
  {
   "cell_type": "code",
   "execution_count": null,
   "id": "66bed48d",
   "metadata": {},
   "outputs": [],
   "source": []
  },
  {
   "cell_type": "code",
   "execution_count": null,
   "id": "593f50b6",
   "metadata": {},
   "outputs": [],
   "source": [
    "-6   -5  -4  -3  -2  -1\n",
    "p     y   t   h   o   n\n",
    "0     1   2   3   4    5==========>pos"
   ]
  },
  {
   "cell_type": "code",
   "execution_count": 2,
   "id": "7a7b045d",
   "metadata": {},
   "outputs": [
    {
     "name": "stdout",
     "output_type": "stream",
     "text": [
      "python\n"
     ]
    }
   ],
   "source": [
    "string1=\"python\"\n",
    "print(string1)"
   ]
  },
  {
   "cell_type": "code",
   "execution_count": 3,
   "id": "a781911d",
   "metadata": {},
   "outputs": [
    {
     "data": {
      "text/plain": [
       "'n'"
      ]
     },
     "execution_count": 3,
     "metadata": {},
     "output_type": "execute_result"
    }
   ],
   "source": [
    "string1[-1]"
   ]
  },
  {
   "cell_type": "code",
   "execution_count": 4,
   "id": "e296410b",
   "metadata": {},
   "outputs": [
    {
     "data": {
      "text/plain": [
       "('p', 'y', 't', 'h', 'o', 'n')"
      ]
     },
     "execution_count": 4,
     "metadata": {},
     "output_type": "execute_result"
    }
   ],
   "source": [
    "string1[-6],string1[-5],string1[-4],string1[-3],string1[-2],string1[-1]"
   ]
  },
  {
   "cell_type": "code",
   "execution_count": 6,
   "id": "e0c042af",
   "metadata": {},
   "outputs": [
    {
     "name": "stdout",
     "output_type": "stream",
     "text": [
      "the -ve index of p id -6\n",
      "the -ve index of y id -5\n",
      "the -ve index of t id -4\n",
      "the -ve index of h id -3\n",
      "the -ve index of o id -2\n",
      "the -ve index of n id -1\n"
     ]
    }
   ],
   "source": [
    "#iterate the for loop on string1\n",
    "#print the letters using -ve index\n",
    "#the idea is 1st you need tom print the numbers b/w -6 to -2 usingfor loop\n",
    "for i in range(-6,0):\n",
    "    print(\"the -ve index of {} id {}\".format(string1[i],i))             #bad way\n"
   ]
  },
  {
   "cell_type": "code",
   "execution_count": 7,
   "id": "423053be",
   "metadata": {},
   "outputs": [
    {
     "name": "stdout",
     "output_type": "stream",
     "text": [
      "the -ve index of p id -6\n",
      "the -ve index of y id -5\n",
      "the -ve index of t id -4\n",
      "the -ve index of h id -3\n",
      "the -ve index of o id -2\n",
      "the -ve index of n id -1\n"
     ]
    }
   ],
   "source": [
    "#generlizated method\n",
    "for i in range(-len(string1),0):\n",
    "    print(\"the -ve index of {} id {}\".format(string1[i],i))             \n"
   ]
  },
  {
   "cell_type": "code",
   "execution_count": 11,
   "id": "1b18bcc9",
   "metadata": {},
   "outputs": [
    {
     "name": "stdout",
     "output_type": "stream",
     "text": [
      "the -ve index of p id -12\n",
      "the -ve index of y id -11\n",
      "the -ve index of t id -10\n",
      "the -ve index of h id -9\n",
      "the -ve index of o id -8\n",
      "the -ve index of n id -7\n"
     ]
    }
   ],
   "source": [
    "for i in range(-len(string1),0):\n",
    "    print(\"the -ve index of {} id {}\".format(string1[i],i-6)) "
   ]
  },
  {
   "cell_type": "code",
   "execution_count": 8,
   "id": "712d7e2a",
   "metadata": {},
   "outputs": [
    {
     "name": "stdout",
     "output_type": "stream",
     "text": [
      "-6 -5 -4 -3 -2 -1 "
     ]
    }
   ],
   "source": [
    "for i in range(-6,0):\n",
    "    print(i,end=\" \")\n"
   ]
  },
  {
   "cell_type": "code",
   "execution_count": 10,
   "id": "fc094ff8",
   "metadata": {},
   "outputs": [
    {
     "name": "stdout",
     "output_type": "stream",
     "text": [
      "-6 -5 -4 -3 -2 -1 "
     ]
    }
   ],
   "source": [
    "for i in range(0,6):\n",
    "    print(i-6,end=\" \")"
   ]
  },
  {
   "cell_type": "code",
   "execution_count": 13,
   "id": "e85f67be",
   "metadata": {},
   "outputs": [
    {
     "name": "stdout",
     "output_type": "stream",
     "text": [
      "the -ve index is fill and +ve index is p of  -6\n",
      "the -ve index is fill and +ve index is y of  -5\n",
      "the -ve index is fill and +ve index is t of  -4\n",
      "the -ve index is fill and +ve index is h of  -3\n",
      "the -ve index is fill and +ve index is o of  -2\n",
      "the -ve index is fill and +ve index is n of  -1\n"
     ]
    }
   ],
   "source": [
    "\n",
    "for i in range(len(string1)):\n",
    "    print(\"the -ve index is {} and +ve index is {} of  {}\".format('fill',string1[i],i-6)) "
   ]
  },
  {
   "cell_type": "code",
   "execution_count": 18,
   "id": "6a232976",
   "metadata": {},
   "outputs": [
    {
     "name": "stdout",
     "output_type": "stream",
     "text": [
      "the +ve index is 0 and -ve index is p of  -6\n",
      "the +ve index is 1 and -ve index is y of  -5\n",
      "the +ve index is 2 and -ve index is t of  -4\n",
      "the +ve index is 3 and -ve index is h of  -3\n",
      "the +ve index is 4 and -ve index is o of  -2\n",
      "the +ve index is 5 and -ve index is n of  -1\n"
     ]
    }
   ],
   "source": [
    "#the +ve index is 0 and -ve index is -6 for a letter p\n",
    "for i in range(len(string1)):\n",
    "    print(\"the +ve index is {} and -ve index is {} of  {}\".format(i,string1[i],i-6)) "
   ]
  },
  {
   "cell_type": "code",
   "execution_count": 9,
   "id": "df7a0ea0",
   "metadata": {},
   "outputs": [
    {
     "name": "stdout",
     "output_type": "stream",
     "text": [
      "0 1 2 3 4 5 "
     ]
    }
   ],
   "source": [
    "for i in range(0,6):             #0-------- -6   i-6\n",
    "    print(i,end=\" \")             #1------------- -5"
   ]
  },
  {
   "cell_type": "code",
   "execution_count": 24,
   "id": "b787e8db",
   "metadata": {},
   "outputs": [
    {
     "name": "stdout",
     "output_type": "stream",
     "text": [
      "the +ve index of p id 0\n",
      "the +ve index of y id 1\n",
      "the +ve index of t id 2\n",
      "the +ve index of h id 3\n",
      "the +ve index of o id 4\n",
      "the +ve index of n id 5\n",
      "the -ve index of p id -6\n",
      "the -ve index of y id -5\n",
      "the -ve index of t id -4\n",
      "the -ve index of h id -3\n",
      "the -ve index of o id -2\n",
      "the -ve index of n id -1\n",
      "the +ve index is 6 and -ve index is p of  -6\n",
      "the +ve index is 6 and -ve index is y of  -5\n",
      "the +ve index is 6 and -ve index is t of  -4\n",
      "the +ve index is 6 and -ve index is h of  -3\n",
      "the +ve index is 6 and -ve index is o of  -2\n",
      "the +ve index is 6 and -ve index is n of  -1\n"
     ]
    }
   ],
   "source": [
    "for i in range(-len(string1),0):\n",
    "    print(\"the +ve index of {} id {}\".format(string1[i],i+6))\n",
    "    \n",
    "    \n",
    "    \n",
    "for i in range(-len(string1),0):\n",
    "    print(\"the -ve index of {} id {}\".format(string1[i],i)) \n",
    "\n",
    "    \n",
    "    \n",
    "for i in range(-len(string1),0):\n",
    "    print(\"the +ve index is {} and -ve index is {} of  {}\".format(6,string1[i],i))     \n"
   ]
  },
  {
   "cell_type": "code",
   "execution_count": null,
   "id": "ea8923da",
   "metadata": {},
   "outputs": [],
   "source": [
    "for i in range(len(string1)):\n",
    "    print(\"the +ve index of {} id {}\".format(string1[i],i)) \n",
    "    \n",
    "    \n",
    "    \n",
    "for i in range(-len(string1)):\n",
    "    print(\"the -ve index of {} id {}\".format(string1[i],i-6)) \n",
    "    \n",
    "    \n",
    "for i in range(len(string1)):\n",
    "    print(\"the +ve index is {} and -ve index is {} of  {}\".format(i,string1[i],i-6))     \n",
    "\n",
    "   "
   ]
  },
  {
   "cell_type": "code",
   "execution_count": 11,
   "id": "4f4fc2cf",
   "metadata": {},
   "outputs": [
    {
     "name": "stdout",
     "output_type": "stream",
     "text": [
      "the +ve index of 0  and -ve index -6 is  p\n",
      "the +ve index of 1  and -ve index -5 is  y\n",
      "the +ve index of 2  and -ve index -4 is  t\n",
      "the +ve index of 3  and -ve index -3 is  h\n",
      "the +ve index of 4  and -ve index -2 is  o\n",
      "the +ve index of 5  and -ve index -1 is  n\n"
     ]
    }
   ],
   "source": [
    "string1=\"python\"\n",
    "i=0 \n",
    "while i<len(string1):\n",
    "    print(\"the +ve index of {}  and -ve index {} is  {}\".format(i,i-6,string1[i],i)) \n",
    "    i=i+1"
   ]
  },
  {
   "cell_type": "code",
   "execution_count": 9,
   "id": "b1d97583",
   "metadata": {},
   "outputs": [
    {
     "name": "stdout",
     "output_type": "stream",
     "text": [
      "-6 -12\n",
      "-5 -11\n",
      "-4 -10\n",
      "-3 -9\n",
      "-2 -8\n",
      "-1 -7\n"
     ]
    }
   ],
   "source": [
    "for i in range(-len(string1),0):\n",
    "    print(i,i-6)"
   ]
  },
  {
   "cell_type": "code",
   "execution_count": 18,
   "id": "bfb34149",
   "metadata": {},
   "outputs": [
    {
     "name": "stdout",
     "output_type": "stream",
     "text": [
      "2\n"
     ]
    }
   ],
   "source": [
    "string1=\"hai how are you\"\n",
    "count=0\n",
    "for i in string1:\n",
    "    if i=='a':\n",
    "        count+=1\n",
    "print(count)"
   ]
  },
  {
   "cell_type": "code",
   "execution_count": 17,
   "id": "91cc8468",
   "metadata": {},
   "outputs": [
    {
     "name": "stdout",
     "output_type": "stream",
     "text": [
      "2\n"
     ]
    }
   ],
   "source": [
    "string1=\"hai how are you\"\n",
    "count=0\n",
    "for i in range(len(string1)):\n",
    "    if string1[i]=='a':\n",
    "        count+=1\n",
    "print(count)"
   ]
  },
  {
   "cell_type": "markdown",
   "id": "cc228cea",
   "metadata": {},
   "source": [
    "MUTABLE AND IMMUTABLE\n"
   ]
  },
  {
   "cell_type": "raw",
   "id": "a816fc33",
   "metadata": {},
   "source": [
    "mutable------->change\n",
    "immutable----->cannt change"
   ]
  },
  {
   "cell_type": "code",
   "execution_count": null,
   "id": "7bffd702",
   "metadata": {},
   "outputs": [],
   "source": [
    "mutable------->change\n",
    "immutable----->cannt change the value by using index operation\n",
    "\n",
    "String are Immutable"
   ]
  },
  {
   "cell_type": "code",
   "execution_count": 19,
   "id": "2a36c952",
   "metadata": {},
   "outputs": [
    {
     "ename": "TypeError",
     "evalue": "'str' object does not support item assignment",
     "output_type": "error",
     "traceback": [
      "\u001b[1;31m---------------------------------------------------------------------------\u001b[0m",
      "\u001b[1;31mTypeError\u001b[0m                                 Traceback (most recent call last)",
      "Cell \u001b[1;32mIn[19], line 4\u001b[0m\n\u001b[0;32m      1\u001b[0m string1\u001b[38;5;241m=\u001b[39m\u001b[38;5;124m'\u001b[39m\u001b[38;5;124mpython\u001b[39m\u001b[38;5;124m'\u001b[39m\n\u001b[0;32m      2\u001b[0m \u001b[38;5;66;03m#I want change      'p' ============= 'P'\u001b[39;00m\n\u001b[0;32m      3\u001b[0m \u001b[38;5;66;03m#o/p:'python'\u001b[39;00m\n\u001b[1;32m----> 4\u001b[0m string1[\u001b[38;5;241m0\u001b[39m]\u001b[38;5;241m=\u001b[39m\u001b[38;5;124m'\u001b[39m\u001b[38;5;124mP\u001b[39m\u001b[38;5;124m'\u001b[39m\n",
      "\u001b[1;31mTypeError\u001b[0m: 'str' object does not support item assignment"
     ]
    }
   ],
   "source": [
    "string1='python'\n",
    "#I want change      'p' ============= 'P'\n",
    "#o/p:'python'\n",
    "string1[0]='P'\n"
   ]
  },
  {
   "cell_type": "code",
   "execution_count": 20,
   "id": "7c6e1c64",
   "metadata": {},
   "outputs": [
    {
     "data": {
      "text/plain": [
       "[1000, 200, 300]"
      ]
     },
     "execution_count": 20,
     "metadata": {},
     "output_type": "execute_result"
    }
   ],
   "source": [
    "list1=[100,200,300]         #100========1000\n",
    "list1[0]=1000\n",
    "list1                                  #list are mutable by using index opeartor"
   ]
  },
  {
   "cell_type": "markdown",
   "id": "38221410",
   "metadata": {},
   "source": [
    "SLICE"
   ]
  },
  {
   "cell_type": "code",
   "execution_count": null,
   "id": "9f13254f",
   "metadata": {},
   "outputs": [],
   "source": [
    "h  a  i   h  o  w   a  r  e       y   o    u\n",
    "0  1  2 3 4  5  6 7  8 9  10  11   12   13  14"
   ]
  },
  {
   "cell_type": "code",
   "execution_count": 21,
   "id": "54b74059",
   "metadata": {},
   "outputs": [
    {
     "data": {
      "text/plain": [
       "'i how ar'"
      ]
     },
     "execution_count": 21,
     "metadata": {},
     "output_type": "execute_result"
    }
   ],
   "source": [
    "string1=\"hai how are you\"\n",
    "string1[2:10]\n",
    "#start=2\n",
    "#stop=10-1=9\n",
    "#+ve"
   ]
  },
  {
   "cell_type": "code",
   "execution_count": 23,
   "id": "c71868b8",
   "metadata": {},
   "outputs": [
    {
     "data": {
      "text/plain": [
       "'ioa'"
      ]
     },
     "execution_count": 23,
     "metadata": {},
     "output_type": "execute_result"
    }
   ],
   "source": [
    "string1=\"hai how are you\"\n",
    "string1[2:10:3]\n",
    "#start=2\n",
    "#dir=+ step=3\n",
    "#stop=10-1=9\n",
    "#2  5  8\n"
   ]
  },
  {
   "cell_type": "code",
   "execution_count": 24,
   "id": "85053aed",
   "metadata": {},
   "outputs": [
    {
     "data": {
      "text/plain": [
       "'hai how are you'"
      ]
     },
     "execution_count": 24,
     "metadata": {},
     "output_type": "execute_result"
    }
   ],
   "source": [
    "string1[:]\n",
    "#nothing mentioned means take start and last letters"
   ]
  },
  {
   "cell_type": "code",
   "execution_count": 26,
   "id": "965f71a3",
   "metadata": {},
   "outputs": [
    {
     "data": {
      "text/plain": [
       "'hai how are you'"
      ]
     },
     "execution_count": 26,
     "metadata": {},
     "output_type": "execute_result"
    }
   ],
   "source": [
    "string1[: :]\n",
    "#start=0\n",
    "#stop=last letter len(string1)\n",
    "#step=+1"
   ]
  },
  {
   "cell_type": "code",
   "execution_count": 28,
   "id": "f366ddf2",
   "metadata": {},
   "outputs": [
    {
     "data": {
      "text/plain": [
       "'hai how are you'"
      ]
     },
     "execution_count": 28,
     "metadata": {},
     "output_type": "execute_result"
    }
   ],
   "source": [
    "string1=\"hai how are you\"\n",
    "string1[2:10]\n",
    "string1[2:10:3]\n",
    "string1[:]\n",
    "string1[::]"
   ]
  },
  {
   "cell_type": "code",
   "execution_count": 29,
   "id": "5e41bdda",
   "metadata": {},
   "outputs": [
    {
     "data": {
      "text/plain": [
       "'ioa'"
      ]
     },
     "execution_count": 29,
     "metadata": {},
     "output_type": "execute_result"
    }
   ],
   "source": [
    "string1[2:10:3]"
   ]
  },
  {
   "cell_type": "code",
   "execution_count": 31,
   "id": "f528222c",
   "metadata": {},
   "outputs": [],
   "source": [
    "for i in range(2,10,-3):\n",
    "    print(i)               #not showing the error in the for"
   ]
  },
  {
   "cell_type": "code",
   "execution_count": 33,
   "id": "5afee426",
   "metadata": {},
   "outputs": [
    {
     "data": {
      "text/plain": [
       "15"
      ]
     },
     "execution_count": 33,
     "metadata": {},
     "output_type": "execute_result"
    }
   ],
   "source": [
    "len(string1)"
   ]
  },
  {
   "cell_type": "code",
   "execution_count": 35,
   "id": "5bc875bd",
   "metadata": {},
   "outputs": [
    {
     "data": {
      "text/plain": [
       "'o r o '"
      ]
     },
     "execution_count": 35,
     "metadata": {},
     "output_type": "execute_result"
    }
   ],
   "source": [
    "string1[2:14:2]   #p\n",
    "string1[2:14:-2]  #np\n",
    "string1[2:-14:2]   #np\n",
    "string1[2:-14:-2]   #\n",
    "string1[-2:14:2]    #p\n",
    "string1[-2:-14:2]   #np      \n",
    "string1[-2:-14:-2]  #"
   ]
  },
  {
   "cell_type": "code",
   "execution_count": 34,
   "id": "a6edf975",
   "metadata": {},
   "outputs": [
    {
     "name": "stdout",
     "output_type": "stream",
     "text": [
      "2 0 -2 -4 -6 -8 -10 -12 "
     ]
    }
   ],
   "source": [
    "for i in range(2,-14,-2):\n",
    "    print(i,end=\" \")"
   ]
  },
  {
   "cell_type": "markdown",
   "id": "e3e70631",
   "metadata": {},
   "source": [
    "STRING METHODS"
   ]
  },
  {
   "cell_type": "raw",
   "id": "5bf65eba",
   "metadata": {},
   "source": [
    "-reading methods\n",
    "-single/double/triple(doc string)\n",
    "-type\n",
    "-len\n",
    "-max\n",
    "-min\n",
    "-concatenation\n",
    "-subtraction/mult/div\n",
    "-in\n",
    "-index\n",
    "-mutable\n",
    "-slice"
   ]
  },
  {
   "cell_type": "code",
   "execution_count": null,
   "id": "d9f7d4fa",
   "metadata": {},
   "outputs": [],
   "source": [
    "import <package_name>\n",
    "dir(<package_name>)\n",
    "help(<package_name>.<method_name>)"
   ]
  },
  {
   "cell_type": "code",
   "execution_count": 36,
   "id": "f0b9b734",
   "metadata": {},
   "outputs": [
    {
     "data": {
      "text/plain": [
       "['__add__',\n",
       " '__class__',\n",
       " '__contains__',\n",
       " '__delattr__',\n",
       " '__dir__',\n",
       " '__doc__',\n",
       " '__eq__',\n",
       " '__format__',\n",
       " '__ge__',\n",
       " '__getattribute__',\n",
       " '__getitem__',\n",
       " '__getnewargs__',\n",
       " '__getstate__',\n",
       " '__gt__',\n",
       " '__hash__',\n",
       " '__init__',\n",
       " '__init_subclass__',\n",
       " '__iter__',\n",
       " '__le__',\n",
       " '__len__',\n",
       " '__lt__',\n",
       " '__mod__',\n",
       " '__mul__',\n",
       " '__ne__',\n",
       " '__new__',\n",
       " '__reduce__',\n",
       " '__reduce_ex__',\n",
       " '__repr__',\n",
       " '__rmod__',\n",
       " '__rmul__',\n",
       " '__setattr__',\n",
       " '__sizeof__',\n",
       " '__str__',\n",
       " '__subclasshook__',\n",
       " 'capitalize',\n",
       " 'casefold',\n",
       " 'center',\n",
       " 'count',\n",
       " 'encode',\n",
       " 'endswith',\n",
       " 'expandtabs',\n",
       " 'find',\n",
       " 'format',\n",
       " 'format_map',\n",
       " 'index',\n",
       " 'isalnum',\n",
       " 'isalpha',\n",
       " 'isascii',\n",
       " 'isdecimal',\n",
       " 'isdigit',\n",
       " 'isidentifier',\n",
       " 'islower',\n",
       " 'isnumeric',\n",
       " 'isprintable',\n",
       " 'isspace',\n",
       " 'istitle',\n",
       " 'isupper',\n",
       " 'join',\n",
       " 'ljust',\n",
       " 'lower',\n",
       " 'lstrip',\n",
       " 'maketrans',\n",
       " 'partition',\n",
       " 'removeprefix',\n",
       " 'removesuffix',\n",
       " 'replace',\n",
       " 'rfind',\n",
       " 'rindex',\n",
       " 'rjust',\n",
       " 'rpartition',\n",
       " 'rsplit',\n",
       " 'rstrip',\n",
       " 'split',\n",
       " 'splitlines',\n",
       " 'startswith',\n",
       " 'strip',\n",
       " 'swapcase',\n",
       " 'title',\n",
       " 'translate',\n",
       " 'upper',\n",
       " 'zfill']"
      ]
     },
     "execution_count": 36,
     "metadata": {},
     "output_type": "execute_result"
    }
   ],
   "source": [
    "dir('')"
   ]
  },
  {
   "cell_type": "markdown",
   "id": "88f23165",
   "metadata": {},
   "source": [
    "CAPITALIZE METHOD"
   ]
  },
  {
   "cell_type": "code",
   "execution_count": 37,
   "id": "4350510a",
   "metadata": {},
   "outputs": [
    {
     "name": "stdout",
     "output_type": "stream",
     "text": [
      "Help on built-in function capitalize:\n",
      "\n",
      "capitalize() method of builtins.str instance\n",
      "    Return a capitalized version of the string.\n",
      "    \n",
      "    More specifically, make the first character have upper case and the rest lower\n",
      "    case.\n",
      "\n"
     ]
    }
   ],
   "source": [
    "string1='welcome'\n",
    "help(string1.capitalize)"
   ]
  },
  {
   "cell_type": "code",
   "execution_count": 38,
   "id": "b4f4c3f1",
   "metadata": {},
   "outputs": [
    {
     "ename": "TypeError",
     "evalue": "Random.randint() missing 2 required positional arguments: 'a' and 'b'",
     "output_type": "error",
     "traceback": [
      "\u001b[1;31m---------------------------------------------------------------------------\u001b[0m",
      "\u001b[1;31mTypeError\u001b[0m                                 Traceback (most recent call last)",
      "Cell \u001b[1;32mIn[38], line 2\u001b[0m\n\u001b[0;32m      1\u001b[0m \u001b[38;5;28;01mimport\u001b[39;00m \u001b[38;5;21;01mrandom\u001b[39;00m\n\u001b[1;32m----> 2\u001b[0m random\u001b[38;5;241m.\u001b[39mrandint()\n",
      "\u001b[1;31mTypeError\u001b[0m: Random.randint() missing 2 required positional arguments: 'a' and 'b'"
     ]
    }
   ],
   "source": [
    "import random\n",
    "random.randint()"
   ]
  },
  {
   "cell_type": "code",
   "execution_count": 40,
   "id": "25631186",
   "metadata": {},
   "outputs": [
    {
     "data": {
      "text/plain": [
       "'Welcome'"
      ]
     },
     "execution_count": 40,
     "metadata": {},
     "output_type": "execute_result"
    }
   ],
   "source": [
    "string1='welcome'\n",
    "string1.capitalize()      #1st letter will be capital"
   ]
  },
  {
   "cell_type": "code",
   "execution_count": 41,
   "id": "3c819800",
   "metadata": {},
   "outputs": [
    {
     "data": {
      "text/plain": [
       "'WELCOME'"
      ]
     },
     "execution_count": 41,
     "metadata": {},
     "output_type": "execute_result"
    }
   ],
   "source": [
    "string1.upper()            #total word will be in capital"
   ]
  },
  {
   "cell_type": "code",
   "execution_count": 42,
   "id": "1c248997",
   "metadata": {},
   "outputs": [
    {
     "data": {
      "text/plain": [
       "'welcome'"
      ]
     },
     "execution_count": 42,
     "metadata": {},
     "output_type": "execute_result"
    }
   ],
   "source": [
    "string1.lower()  "
   ]
  },
  {
   "cell_type": "code",
   "execution_count": 43,
   "id": "06d3975e",
   "metadata": {},
   "outputs": [
    {
     "name": "stdout",
     "output_type": "stream",
     "text": [
      "Welcome\n",
      "WELCOME\n",
      "welcome\n"
     ]
    }
   ],
   "source": [
    "string1='welcome'\n",
    "print(string1.capitalize())\n",
    "print(string1.upper())\n",
    "print(string1.lower())"
   ]
  },
  {
   "cell_type": "code",
   "execution_count": null,
   "id": "743dbd6a",
   "metadata": {},
   "outputs": [],
   "source": [
    "string1='hai how are u'\n",
    "#how many 'a's are there"
   ]
  },
  {
   "cell_type": "markdown",
   "id": "99317807",
   "metadata": {},
   "source": [
    "# "
   ]
  },
  {
   "cell_type": "code",
   "execution_count": 44,
   "id": "11e7b1f4",
   "metadata": {},
   "outputs": [
    {
     "data": {
      "text/plain": [
       "0"
      ]
     },
     "execution_count": 44,
     "metadata": {},
     "output_type": "execute_result"
    }
   ],
   "source": [
    "string1.count('a')"
   ]
  },
  {
   "cell_type": "code",
   "execution_count": 45,
   "id": "b7414428",
   "metadata": {},
   "outputs": [],
   "source": [
    "count=0\n",
    "for i in string1:\n",
    "    if i=='a':\n",
    "        count+=1"
   ]
  },
  {
   "cell_type": "code",
   "execution_count": 49,
   "id": "9cb09f4a",
   "metadata": {},
   "outputs": [
    {
     "data": {
      "text/plain": [
       "'weLcome'"
      ]
     },
     "execution_count": 49,
     "metadata": {},
     "output_type": "execute_result"
    }
   ],
   "source": [
    "string1='welcome'\n",
    "#output:'weLcome'\n",
    "#idea:\n",
    "#str1=we\n",
    "#str2=come\n",
    "#index\n",
    "#slice\n",
    "#concatenation=str1+'L+str2'\n",
    "\n",
    "str1=string1[:2]\n",
    "str2=string1[3:]\n",
    "str1+'L'+str2"
   ]
  },
  {
   "cell_type": "code",
   "execution_count": 50,
   "id": "672710a5",
   "metadata": {},
   "outputs": [
    {
     "data": {
      "text/plain": [
       "'weLcome'"
      ]
     },
     "execution_count": 50,
     "metadata": {},
     "output_type": "execute_result"
    }
   ],
   "source": [
    "string1.replace('l','L')"
   ]
  },
  {
   "cell_type": "code",
   "execution_count": null,
   "id": "dca01393",
   "metadata": {},
   "outputs": [],
   "source": []
  }
 ],
 "metadata": {
  "kernelspec": {
   "display_name": "Python 3 (ipykernel)",
   "language": "python",
   "name": "python3"
  },
  "language_info": {
   "codemirror_mode": {
    "name": "ipython",
    "version": 3
   },
   "file_extension": ".py",
   "mimetype": "text/x-python",
   "name": "python",
   "nbconvert_exporter": "python",
   "pygments_lexer": "ipython3",
   "version": "3.11.5"
  }
 },
 "nbformat": 4,
 "nbformat_minor": 5
}
