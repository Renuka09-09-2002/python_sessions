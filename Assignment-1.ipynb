{
 "cells": [
  {
   "cell_type": "code",
   "execution_count": 11,
   "id": "30f3d17c",
   "metadata": {},
   "outputs": [
    {
     "name": "stdout",
     "output_type": "stream",
     "text": [
      "enter a number 10\n",
      "the square root of 10 is 100\n"
     ]
    }
   ],
   "source": [
    "#Ask the user to enter a number. Print out the square of the number,\n",
    "#Sample output is shown below.\n",
    "#Enter a number: 5\n",
    "#The square of 5 is 25.\n",
    "number=eval(input(\"enter a number \"))\n",
    "square=number*number\n",
    "print(\"the square root of {} is {}\".format(number,square))\n",
    "\n"
   ]
  },
  {
   "cell_type": "code",
   "execution_count": 63,
   "id": "86279a09",
   "metadata": {},
   "outputs": [
    {
     "name": "stdout",
     "output_type": "stream",
     "text": [
      "Enter a number x: 7\n",
      "\n",
      "7---14---21---28---35\n"
     ]
    }
   ],
   "source": [
    "#Ask the user to enter a number x. print out x, 2x, 3x, 4x, and 5x,\n",
    "#each separated by three dashes, like below.\n",
    "#Enter a number: 7\n",
    "#7---14---21---28---35\n",
    "number = eval(input(\"Enter a number x: \"))\n",
    "end = \"\"\n",
    "print(end)\n",
    "for i in range(1, 6):\n",
    "    end += str(i * number)\n",
    "    if i != 5:\n",
    "        end += '---'  \n",
    "print(end)"
   ]
  },
  {
   "cell_type": "code",
   "execution_count": 2,
   "id": "966c0902",
   "metadata": {},
   "outputs": [
    {
     "name": "stdout",
     "output_type": "stream",
     "text": [
      "Enter a number x: 7\n",
      "7----14----21----28----35\n"
     ]
    }
   ],
   "source": [
    "x= eval(input(\"Enter a number x: \"))\n",
    "print(x,2*x,3*x,4*x,5*x,sep='----')"
   ]
  },
  {
   "cell_type": "code",
   "execution_count": 68,
   "id": "5078d24f",
   "metadata": {},
   "outputs": [
    {
     "name": "stdout",
     "output_type": "stream",
     "text": [
      "enter u r weight in kg 100\n",
      "the weight of 100 is 220.00000000000003 in pounds\n"
     ]
    }
   ],
   "source": [
    "#Write a program that asks the user for a weight in kilograms and\n",
    "#converts it to pounds. There are 2.2 pounds in a kilogram.\n",
    "weight=eval(input(\"enter u r weight in kg \"))\n",
    "pounds=weight*2.2\n",
    "print(\"the weight of {} is {} in pounds\".format(weight,pounds) )"
   ]
  },
  {
   "cell_type": "code",
   "execution_count": 3,
   "id": "d8a8f3ea",
   "metadata": {},
   "outputs": [
    {
     "name": "stdout",
     "output_type": "stream",
     "text": [
      "enter u r num_1 :12\n",
      "enter u r number_2 : 23\n",
      "enter u r number_3 :45\n",
      "80\n",
      "26.666666666666668\n",
      "the total and avg of 12,23 and45 is (80, 26.666666666666668)\n"
     ]
    }
   ],
   "source": [
    "#Write a program that asks the user to enter three numbers (use three\n",
    "#separate input statements).Create variables called total and average\n",
    "#that hold the sum and average of the three numbers and print out the\n",
    "#values of total and average.\n",
    "num1=eval(input(\"enter u r num_1 :\"))\n",
    "num2=eval(input(\"enter u r number_2 : \"))\n",
    "num3=eval(input(\"enter u r number_3 :\"))\n",
    "total=num1+num2+num3\n",
    "print(total)\n",
    "avg=total/3\n",
    "print(avg)\n",
    "print(\"the total and avg of {},{} and{} is {}\".format(num1,num2,num3,(total,avg)))\n"
   ]
  },
  {
   "cell_type": "code",
   "execution_count": 10,
   "id": "bc9966a6",
   "metadata": {},
   "outputs": [
    {
     "name": "stdout",
     "output_type": "stream",
     "text": [
      "enter the price of the meal 200\n",
      "enter the price of the tip_percent if u want to leave 12\n",
      "the tip_amount  200 and 12 is 24.0\n",
      "the tip_amount  200 and 12 is 24.0\n",
      "the tip_bill  200 and 12 is 248.0\n"
     ]
    }
   ],
   "source": [
    "#A lot of cell phones have tip calculators. Write one. Ask the user for\n",
    "#the price of the meal and the percent tip they want to leave. Then\n",
    "#print both the tip amount and the total bill with the tip included.\n",
    "meal=eval(input(\"enter the price of the meal \"))\n",
    "tip=eval(input(\"enter the price of the tip_percent if u want to leave \"))\n",
    "tip_amount=tip/100\n",
    "tip_amount=meal*tip_amount\n",
    "total_bill=meal+tip_amount\n",
    "print(\"the tip_amount  {} and {} is {}\".format(meal,tip,(tip_amount)))\n",
    "print(\"the tip_amount  {} and {} is {}\".format(meal,tip,(tip_amount)))\n",
    "print(\"the tip_bill  {} and {} is {}\".format(meal,tip,(total_bill+tip_amount)))\n"
   ]
  },
  {
   "cell_type": "code",
   "execution_count": null,
   "id": "c1aca874",
   "metadata": {},
   "outputs": [],
   "source": []
  }
 ],
 "metadata": {
  "kernelspec": {
   "display_name": "Python 3 (ipykernel)",
   "language": "python",
   "name": "python3"
  },
  "language_info": {
   "codemirror_mode": {
    "name": "ipython",
    "version": 3
   },
   "file_extension": ".py",
   "mimetype": "text/x-python",
   "name": "python",
   "nbconvert_exporter": "python",
   "pygments_lexer": "ipython3",
   "version": "3.11.5"
  }
 },
 "nbformat": 4,
 "nbformat_minor": 5
}
