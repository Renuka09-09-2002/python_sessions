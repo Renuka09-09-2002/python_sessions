{
 "cells": [
  {
   "cell_type": "code",
   "execution_count": 1,
   "id": "f200fd4d",
   "metadata": {},
   "outputs": [
    {
     "data": {
      "text/plain": [
       "['__class__',\n",
       " '__class_getitem__',\n",
       " '__contains__',\n",
       " '__delattr__',\n",
       " '__delitem__',\n",
       " '__dir__',\n",
       " '__doc__',\n",
       " '__eq__',\n",
       " '__format__',\n",
       " '__ge__',\n",
       " '__getattribute__',\n",
       " '__getitem__',\n",
       " '__getstate__',\n",
       " '__gt__',\n",
       " '__hash__',\n",
       " '__init__',\n",
       " '__init_subclass__',\n",
       " '__ior__',\n",
       " '__iter__',\n",
       " '__le__',\n",
       " '__len__',\n",
       " '__lt__',\n",
       " '__ne__',\n",
       " '__new__',\n",
       " '__or__',\n",
       " '__reduce__',\n",
       " '__reduce_ex__',\n",
       " '__repr__',\n",
       " '__reversed__',\n",
       " '__ror__',\n",
       " '__setattr__',\n",
       " '__setitem__',\n",
       " '__sizeof__',\n",
       " '__str__',\n",
       " '__subclasshook__',\n",
       " 'clear',\n",
       " 'copy',\n",
       " 'fromkeys',\n",
       " 'get',\n",
       " 'items',\n",
       " 'keys',\n",
       " 'pop',\n",
       " 'popitem',\n",
       " 'setdefault',\n",
       " 'update',\n",
       " 'values']"
      ]
     },
     "execution_count": 1,
     "metadata": {},
     "output_type": "execute_result"
    }
   ],
   "source": [
    "dir({})"
   ]
  },
  {
   "cell_type": "code",
   "execution_count": 3,
   "id": "47c8c5a5",
   "metadata": {},
   "outputs": [
    {
     "name": "stdout",
     "output_type": "stream",
     "text": [
      "{}\n",
      "{'a': 20, 'b': 25, 'c': 29}\n"
     ]
    }
   ],
   "source": [
    "#take 1 dict\n",
    "#take 2nd dict\n",
    "#copy 1st dict into 2nd\n",
    "#clear 1st dict\n",
    "#and print both\n",
    "\n",
    "d1={'a':20,'b':25,'c':29}\n",
    "d2=d1.copy()\n",
    "d1.clear()\n",
    "print(d1)\n",
    "print(d2)"
   ]
  },
  {
   "cell_type": "markdown",
   "id": "b0800458",
   "metadata": {},
   "source": [
    "$pop-popitem-del$"
   ]
  },
  {
   "cell_type": "code",
   "execution_count": 7,
   "id": "bf14b30b",
   "metadata": {},
   "outputs": [
    {
     "data": {
      "text/plain": [
       "29"
      ]
     },
     "execution_count": 7,
     "metadata": {},
     "output_type": "execute_result"
    }
   ],
   "source": [
    "#pop----it removes a specific key and returns the va\n",
    "d2.pop('c')"
   ]
  },
  {
   "cell_type": "code",
   "execution_count": 8,
   "id": "415d95b9",
   "metadata": {},
   "outputs": [
    {
     "name": "stdout",
     "output_type": "stream",
     "text": [
      "{'a': 20, 'b': 25}\n"
     ]
    }
   ],
   "source": [
    "\n",
    "print(d2)"
   ]
  },
  {
   "cell_type": "code",
   "execution_count": 9,
   "id": "dcfb7ab3",
   "metadata": {},
   "outputs": [
    {
     "data": {
      "text/plain": [
       "{'a': 20}"
      ]
     },
     "execution_count": 9,
     "metadata": {},
     "output_type": "execute_result"
    }
   ],
   "source": [
    "#popitem----default,it remove the last value\n",
    "d2.popitem()      #-----LIFO-last in first order\n",
    "d2"
   ]
  },
  {
   "cell_type": "code",
   "execution_count": 17,
   "id": "771dcab1",
   "metadata": {},
   "outputs": [
    {
     "data": {
      "text/plain": [
       "{'a': 20, 'b': 24}"
      ]
     },
     "execution_count": 17,
     "metadata": {},
     "output_type": "execute_result"
    }
   ],
   "source": [
    "#del-----is a keyword,it deleted the item by providing specific key\n",
    "d3={'a':20,'b':24,'c':30}\n",
    "d3\n",
    "del d3['c']\n",
    "d3\n"
   ]
  },
  {
   "cell_type": "code",
   "execution_count": 10,
   "id": "30aaa326",
   "metadata": {},
   "outputs": [
    {
     "data": {
      "text/plain": [
       "[1, 3, 4, 5]"
      ]
     },
     "execution_count": 10,
     "metadata": {},
     "output_type": "execute_result"
    }
   ],
   "source": [
    "l1=[1,2,3,4,5]\n",
    "del l1[1]        #-----------list is access by index\n",
    "l1"
   ]
  },
  {
   "cell_type": "code",
   "execution_count": null,
   "id": "9074e246",
   "metadata": {},
   "outputs": [],
   "source": [
    "-items/values/keys\n",
    "-if iprovide 2 lists u know how to make dict\n",
    "-if i provide dict, u know how to generate\n",
    "-create e empty string,dict\n",
    "-counter\n",
    "-summ\n",
    "-func\n",
    "-pop/popitem/del\n",
    "-copy/clear"
   ]
  },
  {
   "cell_type": "markdown",
   "id": "148ba4a8",
   "metadata": {},
   "source": [
    "$from keys-get$"
   ]
  },
  {
   "cell_type": "code",
   "execution_count": 20,
   "id": "ccc3e549",
   "metadata": {},
   "outputs": [
    {
     "data": {
      "text/plain": [
       "{'a': 20, 'b': 24, 'c': 30}"
      ]
     },
     "execution_count": 20,
     "metadata": {},
     "output_type": "execute_result"
    }
   ],
   "source": [
    "d3={'a':20,'b':24,'c':30}\n",
    "d3"
   ]
  },
  {
   "cell_type": "code",
   "execution_count": 21,
   "id": "26d3c379",
   "metadata": {},
   "outputs": [
    {
     "data": {
      "text/plain": [
       "24"
      ]
     },
     "execution_count": 21,
     "metadata": {},
     "output_type": "execute_result"
    }
   ],
   "source": [
    "d3['b']"
   ]
  },
  {
   "cell_type": "code",
   "execution_count": 23,
   "id": "fef05f2b",
   "metadata": {},
   "outputs": [
    {
     "data": {
      "text/plain": [
       "24"
      ]
     },
     "execution_count": 23,
     "metadata": {},
     "output_type": "execute_result"
    }
   ],
   "source": [
    "d3.get('b')"
   ]
  },
  {
   "cell_type": "code",
   "execution_count": null,
   "id": "bc8b4ca4",
   "metadata": {},
   "outputs": [],
   "source": [
    "-how many ways we can do\n",
    "-what o/p it is returning\n",
    "-what is the difference\n",
    "-we can access the value by providing keyas index and key in get method\n",
    "-but if the key is not present in dict,key as index will give key error\n",
    "-get method will not return anything and no error"
   ]
  },
  {
   "cell_type": "markdown",
   "id": "904cac93",
   "metadata": {},
   "source": [
    "$from keys$"
   ]
  },
  {
   "cell_type": "code",
   "execution_count": 28,
   "id": "6f11268e",
   "metadata": {},
   "outputs": [
    {
     "data": {
      "text/plain": [
       "{'r': None, 'a': None, 'h': None, 'e': None, 'm': None}"
      ]
     },
     "execution_count": 28,
     "metadata": {},
     "output_type": "execute_result"
    }
   ],
   "source": [
    "#it create a new dictionary from the exisiting dictionary/with empty dict\n",
    "#create a new dictionary with iterable key\n",
    "d4=d3.fromkeys('raheem')\n",
    "d4"
   ]
  },
  {
   "cell_type": "code",
   "execution_count": 29,
   "id": "4c49c8c2",
   "metadata": {},
   "outputs": [
    {
     "data": {
      "text/plain": [
       "{'r': 3, 'a': 3, 'h': 3, 'e': 3, 'm': 3}"
      ]
     },
     "execution_count": 29,
     "metadata": {},
     "output_type": "execute_result"
    }
   ],
   "source": [
    "d4=d3.fromkeys('raheem',3)\n",
    "d4"
   ]
  },
  {
   "cell_type": "code",
   "execution_count": 30,
   "id": "23a0e3e1",
   "metadata": {},
   "outputs": [
    {
     "data": {
      "text/plain": [
       "{'r': 3, 'o': 3, 'h': 3, 'i': 3, 't': 3}"
      ]
     },
     "execution_count": 30,
     "metadata": {},
     "output_type": "execute_result"
    }
   ],
   "source": [
    "d4={}.fromkeys('rohit',3)\n",
    "d4"
   ]
  },
  {
   "cell_type": "code",
   "execution_count": 31,
   "id": "20fe023e",
   "metadata": {},
   "outputs": [
    {
     "data": {
      "text/plain": [
       "{'r': 3, 'o': 3, 'h': 3, 'i': 3, 't': 3}"
      ]
     },
     "execution_count": 31,
     "metadata": {},
     "output_type": "execute_result"
    }
   ],
   "source": [
    "d4"
   ]
  },
  {
   "cell_type": "code",
   "execution_count": 33,
   "id": "94faf556",
   "metadata": {},
   "outputs": [
    {
     "data": {
      "text/plain": [
       "{1: '1st 3 numbers', 2: '1st 3 numbers', 3: '1st 3 numbers'}"
      ]
     },
     "execution_count": 33,
     "metadata": {},
     "output_type": "execute_result"
    }
   ],
   "source": [
    "d3={}.fromkeys([1,2,3],'1st 3 numbers')\n",
    "d3"
   ]
  },
  {
   "cell_type": "code",
   "execution_count": 34,
   "id": "ee2119fd",
   "metadata": {},
   "outputs": [
    {
     "name": "stdout",
     "output_type": "stream",
     "text": [
      "1\n",
      "2\n",
      "3\n"
     ]
    }
   ],
   "source": [
    "for i in [1,2,3]:\n",
    "    print(i)"
   ]
  },
  {
   "cell_type": "markdown",
   "id": "e2bfeb0e",
   "metadata": {},
   "source": [
    "$setdefault$"
   ]
  },
  {
   "cell_type": "code",
   "execution_count": 36,
   "id": "434e1836",
   "metadata": {},
   "outputs": [
    {
     "data": {
      "text/plain": [
       "{'rohit': 40}"
      ]
     },
     "execution_count": 36,
     "metadata": {},
     "output_type": "execute_result"
    }
   ],
   "source": [
    "d5={}\n",
    "d5.setdefault('rohit',40)\n",
    "d5"
   ]
  },
  {
   "cell_type": "code",
   "execution_count": 39,
   "id": "73b9480b",
   "metadata": {},
   "outputs": [
    {
     "data": {
      "text/plain": [
       "{'rohit': 40, 'naresh': None}"
      ]
     },
     "execution_count": 39,
     "metadata": {},
     "output_type": "execute_result"
    }
   ],
   "source": [
    "d5.setdefault('naresh')\n",
    "d5.setdefault('naresh',['DS','DE','MLoop'])    #setting the values as default,so it cann't take the values\n",
    "d5"
   ]
  },
  {
   "cell_type": "code",
   "execution_count": 42,
   "id": "c6bbfd35",
   "metadata": {},
   "outputs": [
    {
     "data": {
      "text/plain": [
       "{'rohit': 40, 'naresh': ['DS', 'DE', 'MLoop']}"
      ]
     },
     "execution_count": 42,
     "metadata": {},
     "output_type": "execute_result"
    }
   ],
   "source": [
    "d5.setdefault('naresh')\n",
    "d5.setdefault('naresh',['DS','DE','MLoop'])\n",
    "d5['naresh']=['DS','DE','MLoop']\n",
    "d5"
   ]
  },
  {
   "cell_type": "markdown",
   "id": "7ba4daba",
   "metadata": {},
   "source": [
    "$update$"
   ]
  },
  {
   "cell_type": "markdown",
   "id": "4923c24b",
   "metadata": {},
   "source": [
    "* it  insert the particular items to the dictionary *"
   ]
  },
  {
   "cell_type": "code",
   "execution_count": 44,
   "id": "3b4eca8a",
   "metadata": {},
   "outputs": [
    {
     "data": {
      "text/plain": [
       "{'rohit': 40, 'naresh': ['DS', 'DE', 'MLoop']}"
      ]
     },
     "execution_count": 44,
     "metadata": {},
     "output_type": "execute_result"
    }
   ],
   "source": [
    "d5"
   ]
  },
  {
   "cell_type": "code",
   "execution_count": 47,
   "id": "74a7df9c",
   "metadata": {},
   "outputs": [
    {
     "name": "stdout",
     "output_type": "stream",
     "text": [
      "{'a': 20, 'b': 25, 'c': 29, 'd': 30}\n"
     ]
    }
   ],
   "source": [
    "d1={'a':20,'b':25,'c':29}\n",
    "d2={'a': 21, 'b': 25, 'c': 29,'d':30}            #duplication are not allowed in dict\n",
    "d2.update(d1)\n",
    "print(d2)"
   ]
  },
  {
   "cell_type": "code",
   "execution_count": 48,
   "id": "92e8d387",
   "metadata": {},
   "outputs": [
    {
     "name": "stdout",
     "output_type": "stream",
     "text": [
      "[4, 5, 1, 2, 3]\n"
     ]
    }
   ],
   "source": [
    "l1=[1,2,3]\n",
    "l2=[4,5]\n",
    "l2.extend(l1)\n",
    "print(l2)"
   ]
  },
  {
   "cell_type": "code",
   "execution_count": 50,
   "id": "865aabae",
   "metadata": {},
   "outputs": [
    {
     "name": "stdout",
     "output_type": "stream",
     "text": [
      "[1, 2, 3, 4, 5]\n"
     ]
    }
   ],
   "source": [
    "l1=[1,2,3]\n",
    "l2=[4,5]\n",
    "l1.extend(l2)\n",
    "print(l1)"
   ]
  },
  {
   "cell_type": "markdown",
   "id": "3bfb32f4",
   "metadata": {},
   "source": [
    "-update method will update a dict with elements from another dict*\n",
    "-it modifies the dict"
   ]
  },
  {
   "cell_type": "code",
   "execution_count": 52,
   "id": "50e3cd1e",
   "metadata": {},
   "outputs": [
    {
     "data": {
      "text/plain": [
       "{1: 2, 3: 4}"
      ]
     },
     "execution_count": 52,
     "metadata": {},
     "output_type": "execute_result"
    }
   ],
   "source": [
    "t1=[(1,2),(3,4)]\n",
    "d1={}\n",
    "d1.update(t1)\n",
    "d1"
   ]
  },
  {
   "cell_type": "code",
   "execution_count": null,
   "id": "b776fa1f",
   "metadata": {},
   "outputs": [],
   "source": []
  },
  {
   "cell_type": "code",
   "execution_count": null,
   "id": "9b50cb3e",
   "metadata": {},
   "outputs": [],
   "source": []
  },
  {
   "cell_type": "code",
   "execution_count": null,
   "id": "2915dcf4",
   "metadata": {},
   "outputs": [],
   "source": []
  },
  {
   "cell_type": "code",
   "execution_count": null,
   "id": "11b59c72",
   "metadata": {},
   "outputs": [],
   "source": []
  }
 ],
 "metadata": {
  "kernelspec": {
   "display_name": "Python 3 (ipykernel)",
   "language": "python",
   "name": "python3"
  },
  "language_info": {
   "codemirror_mode": {
    "name": "ipython",
    "version": 3
   },
   "file_extension": ".py",
   "mimetype": "text/x-python",
   "name": "python",
   "nbconvert_exporter": "python",
   "pygments_lexer": "ipython3",
   "version": "3.11.5"
  }
 },
 "nbformat": 4,
 "nbformat_minor": 5
}
