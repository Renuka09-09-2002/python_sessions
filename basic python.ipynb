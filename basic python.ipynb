{
 "cells": [
  {
   "cell_type": "code",
   "execution_count": 1,
   "id": "6e13b858",
   "metadata": {},
   "outputs": [
    {
     "data": {
      "text/plain": [
       "200"
      ]
     },
     "execution_count": 1,
     "metadata": {},
     "output_type": "execute_result"
    }
   ],
   "source": [
    "number1=100\n",
    "number2=200\n",
    "number1 # 100 is not coming\n",
    "number2 # 200 is latest so it is coming"
   ]
  },
  {
   "cell_type": "code",
   "execution_count": 2,
   "id": "ebf0d1c8",
   "metadata": {},
   "outputs": [
    {
     "name": "stdout",
     "output_type": "stream",
     "text": [
      "100\n",
      "200\n"
     ]
    }
   ],
   "source": [
    "number1=100 # 100 is saved in a variable number1\n",
    "number2=200 # 200 is saved in a variable number2\n",
    "print(number1) # print the value of number1 =100\n",
    "print(number2) # print the value of number2=200"
   ]
  },
  {
   "cell_type": "code",
   "execution_count": 3,
   "id": "180e8ba5",
   "metadata": {},
   "outputs": [
    {
     "name": "stdout",
     "output_type": "stream",
     "text": [
      "hello\n",
      "how\n",
      "are\n",
      "you\n"
     ]
    },
    {
     "ename": "NameError",
     "evalue": "name 'hello' is not defined",
     "output_type": "error",
     "traceback": [
      "\u001b[1;31m---------------------------------------------------------------------------\u001b[0m",
      "\u001b[1;31mNameError\u001b[0m                                 Traceback (most recent call last)",
      "Cell \u001b[1;32mIn[3], line 5\u001b[0m\n\u001b[0;32m      3\u001b[0m \u001b[38;5;28mprint\u001b[39m(\u001b[38;5;124m'\u001b[39m\u001b[38;5;124mare\u001b[39m\u001b[38;5;124m'\u001b[39m) \u001b[38;5;66;03m# step-3: are\u001b[39;00m\n\u001b[0;32m      4\u001b[0m \u001b[38;5;28mprint\u001b[39m(\u001b[38;5;124m'\u001b[39m\u001b[38;5;124myou\u001b[39m\u001b[38;5;124m'\u001b[39m) \u001b[38;5;66;03m# step-4: you\u001b[39;00m\n\u001b[1;32m----> 5\u001b[0m \u001b[38;5;28mprint\u001b[39m(hello) \u001b[38;5;66;03m# step-5: hello is variable , is hello intoalised above\u001b[39;00m\n\u001b[0;32m      6\u001b[0m \u001b[38;5;28mprint\u001b[39m(number1)\n",
      "\u001b[1;31mNameError\u001b[0m: name 'hello' is not defined"
     ]
    }
   ],
   "source": [
    "print('hello') # step-1: hello\n",
    "print('how') # step-2: how\n",
    "print('are') # step-3: are\n",
    "print('you') # step-4: you\n",
    "print(hello) # step-5: hello is variable , is hello intoalised above\n",
    "print(number1)"
   ]
  },
  {
   "cell_type": "raw",
   "id": "f34390bc",
   "metadata": {},
   "source": [
    "# you written 500 lines of code\n",
    "# you got error at 200 line\n",
    "# after 200 line, 201 to 500 will not execute"
   ]
  },
  {
   "cell_type": "code",
   "execution_count": 4,
   "id": "4cd4810a",
   "metadata": {},
   "outputs": [
    {
     "name": "stdout",
     "output_type": "stream",
     "text": [
      "100 200\n"
     ]
    }
   ],
   "source": [
    "print(number1,number2) # 100,200"
   ]
  },
  {
   "cell_type": "code",
   "execution_count": 5,
   "id": "49349f43",
   "metadata": {},
   "outputs": [
    {
     "name": "stdout",
     "output_type": "stream",
     "text": [
      "100\n",
      "200\n"
     ]
    }
   ],
   "source": [
    "print(number1)\n",
    "print(number2)"
   ]
  },
  {
   "cell_type": "code",
   "execution_count": 6,
   "id": "1c1ac442",
   "metadata": {},
   "outputs": [
    {
     "name": "stdout",
     "output_type": "stream",
     "text": [
      "100\n",
      "-------\n",
      "200\n",
      "**********\n"
     ]
    }
   ],
   "source": [
    "print(number1)\n",
    "print('-------')\n",
    "print(200)\n",
    "print('**********')"
   ]
  },
  {
   "cell_type": "code",
   "execution_count": 7,
   "id": "0ebb8ae2",
   "metadata": {},
   "outputs": [
    {
     "name": "stdout",
     "output_type": "stream",
     "text": [
      "hai how are you\n",
      "hai how are you\n"
     ]
    }
   ],
   "source": [
    "print('hai','how','are','you')\n",
    "print('hai how are you')"
   ]
  },
  {
   "cell_type": "raw",
   "id": "6c218ac0",
   "metadata": {},
   "source": [
    "joining multiple print statements"
   ]
  },
  {
   "cell_type": "code",
   "execution_count": 8,
   "id": "43a23e24",
   "metadata": {},
   "outputs": [
    {
     "name": "stdout",
     "output_type": "stream",
     "text": [
      "hai how\n"
     ]
    }
   ],
   "source": [
    "print('hai' , 'how')"
   ]
  },
  {
   "cell_type": "raw",
   "id": "e1f58ccc",
   "metadata": {},
   "source": [
    "end"
   ]
  },
  {
   "cell_type": "code",
   "execution_count": 9,
   "id": "89cd704a",
   "metadata": {},
   "outputs": [
    {
     "name": "stdout",
     "output_type": "stream",
     "text": [
      "hai----->how\n"
     ]
    }
   ],
   "source": [
    "print('hai',end='----->')\n",
    "print('how')"
   ]
  },
  {
   "cell_type": "code",
   "execution_count": 10,
   "id": "6034cb40",
   "metadata": {},
   "outputs": [
    {
     "name": "stdout",
     "output_type": "stream",
     "text": [
      "hai and how\n"
     ]
    }
   ],
   "source": [
    "print('hai ',end='and')\n",
    "print(' how')"
   ]
  },
  {
   "cell_type": "code",
   "execution_count": 11,
   "id": "05fbd416",
   "metadata": {},
   "outputs": [
    {
     "name": "stdout",
     "output_type": "stream",
     "text": [
      "how"
     ]
    }
   ],
   "source": [
    "print('how',end='')"
   ]
  },
  {
   "cell_type": "code",
   "execution_count": 12,
   "id": "7bc58d97",
   "metadata": {},
   "outputs": [
    {
     "name": "stdout",
     "output_type": "stream",
     "text": [
      "1 2 3\n"
     ]
    }
   ],
   "source": [
    "print('1',end=' ')\n",
    "print('2',end=' ')\n",
    "print('3')"
   ]
  },
  {
   "cell_type": "code",
   "execution_count": 13,
   "id": "a40f0875",
   "metadata": {},
   "outputs": [
    {
     "name": "stdout",
     "output_type": "stream",
     "text": [
      "the addition of number1 and number2 is 600\n"
     ]
    }
   ],
   "source": [
    "number1=200\n",
    "number2=400\n",
    "add=number1+number2\n",
    "print(\"the addition of number1 and number2 is\",add)"
   ]
  },
  {
   "cell_type": "code",
   "execution_count": 1,
   "id": "5d22a21d",
   "metadata": {},
   "outputs": [
    {
     "name": "stdout",
     "output_type": "stream",
     "text": [
      "the addition of 2000 and 4000 is 6000\n"
     ]
    }
   ],
   "source": [
    "num1=2000\n",
    "num2=4000\n",
    "add=num1+num2\n",
    "print(\"the addition of\",num1,\"and\",num2,\"is\",add)"
   ]
  },
  {
   "cell_type": "code",
   "execution_count": 2,
   "id": "c88c2173",
   "metadata": {},
   "outputs": [
    {
     "name": "stdout",
     "output_type": "stream",
     "text": [
      "my name is python Im from hyd and im 10 old\n"
     ]
    }
   ],
   "source": [
    "# the addition of 20 and 40 is 60\n",
    "# Step-1: variable name ='python'\n",
    "# step-2: city='Hyd'\n",
    "# step-3 age=10\n",
    "# my name is python, I came from hyd and Im 10 years old\n",
    "name=\"python\"\n",
    "city=\"hyd\"\n",
    "age=10\n",
    "print(\"my name is\",name,'Im from',city,'and im',age,'old')"
   ]
  },
  {
   "cell_type": "code",
   "execution_count": 3,
   "id": "c99e6d98",
   "metadata": {},
   "outputs": [
    {
     "name": "stdout",
     "output_type": "stream",
     "text": [
      "my name is python Im from hyd and im 10 years old\n"
     ]
    }
   ],
   "source": [
    "# my name is python, I came from hyd and Im 10 years old\n",
    "name=\"python\"\n",
    "city=\"hyd\"\n",
    "age=10\n",
    "print(\"my name is\",name,'Im from',city,end=' and ')\n",
    "print(\"im\",age,'years old')"
   ]
  },
  {
   "cell_type": "code",
   "execution_count": 4,
   "id": "77485cc9",
   "metadata": {},
   "outputs": [
    {
     "name": "stdout",
     "output_type": "stream",
     "text": [
      "my name is  python i came from hyd i am 10 yers old\n"
     ]
    }
   ],
   "source": [
    "name='python'\n",
    "city='hyd'\n",
    "age=10\n",
    "print('my name is ',name ,'i came from',city ,'i am',age ,'yers old')"
   ]
  },
  {
   "cell_type": "code",
   "execution_count": 5,
   "id": "ef9c8062",
   "metadata": {},
   "outputs": [
    {
     "name": "stdout",
     "output_type": "stream",
     "text": [
      "The addition of 200 and 300 is 500\n",
      "The subtraction of 200 and 300 is -100\n",
      "The multiplication of 200 and 300 is 60000\n",
      "The division of 200 and 300 is 0.67\n"
     ]
    }
   ],
   "source": [
    "# step-1: value1=20\n",
    "# step-2: value2=30\n",
    "# step-3: add=value1+value2\n",
    "# step-4: sub=value1-value2\n",
    "# step-5: mul=value1*value2\n",
    "# step-6: div=value1/value2\n",
    "#The addition of 20 and 30 is:50\n",
    "#The subtraction 20 and 30 is: -10\n",
    "#The multiplication of 20 and 30 is:600\n",
    "#The division of 20 and 30 is : 0.66666\n",
    "val1 = 200\n",
    "val2 = 300\n",
    "add = val1+val2\n",
    "sub = val1-val2\n",
    "mul = val1*val2\n",
    "div = round(val1/val2,2)\n",
    "print('The addition of {} and {} is {}'.format(val1,val2,add))\n",
    "print('The subtraction of {} and {} is {}'.format(val1,val2,sub))\n",
    "print('The multiplication of {} and {} is {}'.format(val1,val2,mul))\n",
    "print('The division of {} and {} is {}'.format(val1,val2,div))"
   ]
  },
  {
   "cell_type": "code",
   "execution_count": 6,
   "id": "fc8bc8fb",
   "metadata": {},
   "outputs": [
    {
     "name": "stdout",
     "output_type": "stream",
     "text": [
      "The addition of 20 and 30 is 50\n",
      "The Substraction of 20 and 30 is -10\n",
      "The multiplication of 20 and 30 is 600\n",
      "The division of 20 and 30 is 0.6666666666666666\n"
     ]
    }
   ],
   "source": [
    "value1=20\n",
    "value2=30\n",
    "add=value1+value2\n",
    "sub=value1-value2\n",
    "mul=value1*value2\n",
    "div=value1/value2\n",
    "print(\"The addition of {} and {} is {}\".format(value1,value2,add))\n",
    "print(\"The Substraction of {} and {} is {}\".format(value1,value2,sub))\n",
    "print(\"The multiplication of {} and {} is {}\".format(value1,value2,mul))\n",
    "print(\"The division of {} and {} is {}\".format(value1,value2,div))"
   ]
  },
  {
   "cell_type": "code",
   "execution_count": 8,
   "id": "1c90c43f",
   "metadata": {},
   "outputs": [
    {
     "data": {
      "text/plain": [
       "0.667"
      ]
     },
     "execution_count": 8,
     "metadata": {},
     "output_type": "execute_result"
    }
   ],
   "source": [
    "round(value1/value2,3)"
   ]
  },
  {
   "cell_type": "code",
   "execution_count": 9,
   "id": "e24910d9",
   "metadata": {},
   "outputs": [
    {
     "data": {
      "text/plain": [
       "0.6666666666666666"
      ]
     },
     "execution_count": 9,
     "metadata": {},
     "output_type": "execute_result"
    }
   ],
   "source": [
    "20/30"
   ]
  },
  {
   "cell_type": "code",
   "execution_count": 10,
   "id": "815a14a1",
   "metadata": {},
   "outputs": [
    {
     "data": {
      "text/plain": [
       "20"
      ]
     },
     "execution_count": 10,
     "metadata": {},
     "output_type": "execute_result"
    }
   ],
   "source": [
    "20%30"
   ]
  },
  {
   "cell_type": "code",
   "execution_count": 11,
   "id": "7b411e8d",
   "metadata": {},
   "outputs": [
    {
     "data": {
      "text/plain": [
       "2"
      ]
     },
     "execution_count": 11,
     "metadata": {},
     "output_type": "execute_result"
    }
   ],
   "source": [
    "5//2"
   ]
  },
  {
   "cell_type": "code",
   "execution_count": null,
   "id": "1522cc1c",
   "metadata": {},
   "outputs": [],
   "source": []
  }
 ],
 "metadata": {
  "kernelspec": {
   "display_name": "Python 3 (ipykernel)",
   "language": "python",
   "name": "python3"
  },
  "language_info": {
   "codemirror_mode": {
    "name": "ipython",
    "version": 3
   },
   "file_extension": ".py",
   "mimetype": "text/x-python",
   "name": "python",
   "nbconvert_exporter": "python",
   "pygments_lexer": "ipython3",
   "version": "3.11.5"
  }
 },
 "nbformat": 4,
 "nbformat_minor": 5
}
