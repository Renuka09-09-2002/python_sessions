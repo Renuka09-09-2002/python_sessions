{
 "cells": [
  {
   "cell_type": "code",
   "execution_count": 1,
   "id": "cde17b6d",
   "metadata": {},
   "outputs": [
    {
     "data": {
      "text/plain": [
       "100"
      ]
     },
     "execution_count": 1,
     "metadata": {},
     "output_type": "execute_result"
    }
   ],
   "source": [
    "number=100\n",
    "number"
   ]
  },
  {
   "cell_type": "code",
   "execution_count": 2,
   "id": "167c8c5d",
   "metadata": {},
   "outputs": [
    {
     "data": {
      "text/plain": [
       "int"
      ]
     },
     "execution_count": 2,
     "metadata": {},
     "output_type": "execute_result"
    }
   ],
   "source": [
    "type(number)"
   ]
  },
  {
   "cell_type": "raw",
   "id": "a9a796ed",
   "metadata": {},
   "source": [
    "case1:\n",
    "int------>float"
   ]
  },
  {
   "cell_type": "code",
   "execution_count": 7,
   "id": "5858c16c",
   "metadata": {},
   "outputs": [
    {
     "data": {
      "text/plain": [
       "100.0"
      ]
     },
     "execution_count": 7,
     "metadata": {},
     "output_type": "execute_result"
    }
   ],
   "source": [
    "float_number=float(number)   #convert int into float as 100 is 100.0\n",
    "float_number"
   ]
  },
  {
   "cell_type": "code",
   "execution_count": 8,
   "id": "02d6c1f6",
   "metadata": {
    "scrolled": true
   },
   "outputs": [
    {
     "data": {
      "text/plain": [
       "float"
      ]
     },
     "execution_count": 8,
     "metadata": {},
     "output_type": "execute_result"
    }
   ],
   "source": [
    "type(float_number)"
   ]
  },
  {
   "cell_type": "code",
   "execution_count": 9,
   "id": "ce55f14d",
   "metadata": {},
   "outputs": [
    {
     "data": {
      "text/plain": [
       "'100'"
      ]
     },
     "execution_count": 9,
     "metadata": {},
     "output_type": "execute_result"
    }
   ],
   "source": [
    "#100 as string ----'100'\n",
    "string_number=str(number)\n",
    "string_number"
   ]
  },
  {
   "cell_type": "raw",
   "id": "ed079095",
   "metadata": {},
   "source": [
    "case3:integer to boolean"
   ]
  },
  {
   "cell_type": "code",
   "execution_count": 10,
   "id": "2f0ab111",
   "metadata": {},
   "outputs": [
    {
     "data": {
      "text/plain": [
       "True"
      ]
     },
     "execution_count": 10,
     "metadata": {},
     "output_type": "execute_result"
    }
   ],
   "source": [
    "boolean_number=bool(number)\n",
    "boolean_number"
   ]
  },
  {
   "cell_type": "code",
   "execution_count": 11,
   "id": "2c29e157",
   "metadata": {},
   "outputs": [
    {
     "data": {
      "text/plain": [
       "bool"
      ]
     },
     "execution_count": 11,
     "metadata": {},
     "output_type": "execute_result"
    }
   ],
   "source": [
    "type(boolean_number)"
   ]
  },
  {
   "cell_type": "code",
   "execution_count": 13,
   "id": "46e5662b",
   "metadata": {},
   "outputs": [
    {
     "data": {
      "text/plain": [
       "False"
      ]
     },
     "execution_count": 13,
     "metadata": {},
     "output_type": "execute_result"
    }
   ],
   "source": [
    "bool(0)   # when it will provide False"
   ]
  },
  {
   "cell_type": "code",
   "execution_count": 5,
   "id": "a1f2c2ca",
   "metadata": {},
   "outputs": [
    {
     "ename": "NameError",
     "evalue": "name 'number' is not defined",
     "output_type": "error",
     "traceback": [
      "\u001b[1;31m---------------------------------------------------------------------------\u001b[0m",
      "\u001b[1;31mNameError\u001b[0m                                 Traceback (most recent call last)",
      "Cell \u001b[1;32mIn[5], line 2\u001b[0m\n\u001b[0;32m      1\u001b[0m \u001b[38;5;66;03m#100-------?   complex(100)\u001b[39;00m\n\u001b[1;32m----> 2\u001b[0m complex_number\u001b[38;5;241m=\u001b[39m\u001b[38;5;28mcomplex\u001b[39m(number)\n\u001b[0;32m      3\u001b[0m complex_number\n",
      "\u001b[1;31mNameError\u001b[0m: name 'number' is not defined"
     ]
    }
   ],
   "source": [
    "#100-------?   complex(100)\n",
    "complex_number=complex(number)\n",
    "complex_number"
   ]
  },
  {
   "cell_type": "raw",
   "id": "4ed429d9",
   "metadata": {},
   "source": [
    "number1=100\n",
    "float_number=float(number1)\n",
    "string_number=str(number1)\n",
    "boolean_number=bool(number1)\n",
    "complex_number=complex(number1)\n"
   ]
  },
  {
   "cell_type": "markdown",
   "id": "0f7e84fb",
   "metadata": {},
   "source": [
    "convert float to all other types"
   ]
  },
  {
   "cell_type": "raw",
   "id": "db53e447",
   "metadata": {},
   "source": [
    "number2=100.5\n",
    "int_number=int(number2)   #100\n",
    "string_number=str(number2)  #'100.5'\n",
    "complex_number=complex(number2)   #100.5+0j\n",
    "boolean_number=bool(number2)"
   ]
  },
  {
   "cell_type": "code",
   "execution_count": 6,
   "id": "846bf328",
   "metadata": {},
   "outputs": [
    {
     "data": {
      "text/plain": [
       "100"
      ]
     },
     "execution_count": 6,
     "metadata": {},
     "output_type": "execute_result"
    }
   ],
   "source": [
    "number2=100.5\n",
    "int_number=int(number2)\n",
    "int_number"
   ]
  },
  {
   "cell_type": "code",
   "execution_count": 7,
   "id": "23e6410d",
   "metadata": {},
   "outputs": [
    {
     "data": {
      "text/plain": [
       "'100.5'"
      ]
     },
     "execution_count": 7,
     "metadata": {},
     "output_type": "execute_result"
    }
   ],
   "source": [
    "number2=100.5\n",
    "string_number=str(number2)\n",
    "string_number"
   ]
  },
  {
   "cell_type": "code",
   "execution_count": 8,
   "id": "c53c32ef",
   "metadata": {},
   "outputs": [
    {
     "data": {
      "text/plain": [
       "(100.5+0j)"
      ]
     },
     "execution_count": 8,
     "metadata": {},
     "output_type": "execute_result"
    }
   ],
   "source": [
    "number2=100.5\n",
    "complex_number=complex(number2)\n",
    "complex_number"
   ]
  },
  {
   "cell_type": "code",
   "execution_count": 9,
   "id": "b5075078",
   "metadata": {},
   "outputs": [
    {
     "data": {
      "text/plain": [
       "101"
      ]
     },
     "execution_count": 9,
     "metadata": {},
     "output_type": "execute_result"
    }
   ],
   "source": [
    "# I have a doubt,why 100.5 is not 101\n",
    "round(100.6)"
   ]
  },
  {
   "cell_type": "raw",
   "id": "f7ae5959",
   "metadata": {},
   "source": [
    "100\n",
    "100.5\n",
    "'100'\n",
    "True\n",
    "100+5j"
   ]
  },
  {
   "cell_type": "raw",
   "id": "eb53d3fe",
   "metadata": {},
   "source": [
    "string to other data types"
   ]
  },
  {
   "cell_type": "raw",
   "id": "87581a0e",
   "metadata": {},
   "source": [
    "#case-1\n",
    "string_value1='apple'\n",
    "int(string_value1)\n",
    "float(string_value1)\n",
    "bool(string_value1)\n",
    "complex(string_value1)"
   ]
  },
  {
   "cell_type": "code",
   "execution_count": 11,
   "id": "36c2f4fe",
   "metadata": {},
   "outputs": [
    {
     "ename": "ValueError",
     "evalue": "invalid literal for int() with base 10: 'apple'",
     "output_type": "error",
     "traceback": [
      "\u001b[1;31m---------------------------------------------------------------------------\u001b[0m",
      "\u001b[1;31mValueError\u001b[0m                                Traceback (most recent call last)",
      "Cell \u001b[1;32mIn[11], line 2\u001b[0m\n\u001b[0;32m      1\u001b[0m string_value1\u001b[38;5;241m=\u001b[39m\u001b[38;5;124m'\u001b[39m\u001b[38;5;124mapple\u001b[39m\u001b[38;5;124m'\u001b[39m\n\u001b[1;32m----> 2\u001b[0m \u001b[38;5;28mint\u001b[39m(string_value1)\n",
      "\u001b[1;31mValueError\u001b[0m: invalid literal for int() with base 10: 'apple'"
     ]
    }
   ],
   "source": [
    "string_value1='apple'\n",
    "int(string_value1)"
   ]
  },
  {
   "cell_type": "code",
   "execution_count": 12,
   "id": "84bd698a",
   "metadata": {},
   "outputs": [
    {
     "ename": "ValueError",
     "evalue": "could not convert string to float: 'apple'",
     "output_type": "error",
     "traceback": [
      "\u001b[1;31m---------------------------------------------------------------------------\u001b[0m",
      "\u001b[1;31mValueError\u001b[0m                                Traceback (most recent call last)",
      "Cell \u001b[1;32mIn[12], line 2\u001b[0m\n\u001b[0;32m      1\u001b[0m string_value1\u001b[38;5;241m=\u001b[39m\u001b[38;5;124m'\u001b[39m\u001b[38;5;124mapple\u001b[39m\u001b[38;5;124m'\u001b[39m\n\u001b[1;32m----> 2\u001b[0m \u001b[38;5;28mfloat\u001b[39m(string_value1)\n",
      "\u001b[1;31mValueError\u001b[0m: could not convert string to float: 'apple'"
     ]
    }
   ],
   "source": [
    "string_value1='apple'\n",
    "float(string_value1)"
   ]
  },
  {
   "cell_type": "code",
   "execution_count": 13,
   "id": "90808831",
   "metadata": {},
   "outputs": [
    {
     "data": {
      "text/plain": [
       "True"
      ]
     },
     "execution_count": 13,
     "metadata": {},
     "output_type": "execute_result"
    }
   ],
   "source": [
    "string_value1='apple'\n",
    "bool(string_value1)\n"
   ]
  },
  {
   "cell_type": "code",
   "execution_count": 14,
   "id": "581e9e41",
   "metadata": {},
   "outputs": [
    {
     "ename": "ValueError",
     "evalue": "complex() arg is a malformed string",
     "output_type": "error",
     "traceback": [
      "\u001b[1;31m---------------------------------------------------------------------------\u001b[0m",
      "\u001b[1;31mValueError\u001b[0m                                Traceback (most recent call last)",
      "Cell \u001b[1;32mIn[14], line 2\u001b[0m\n\u001b[0;32m      1\u001b[0m string_value1\u001b[38;5;241m=\u001b[39m\u001b[38;5;124m'\u001b[39m\u001b[38;5;124mapple\u001b[39m\u001b[38;5;124m'\u001b[39m\n\u001b[1;32m----> 2\u001b[0m \u001b[38;5;28mcomplex\u001b[39m(string_value1)\n",
      "\u001b[1;31mValueError\u001b[0m: complex() arg is a malformed string"
     ]
    }
   ],
   "source": [
    "string_value1='apple'\n",
    "complex(string_value1)\n"
   ]
  },
  {
   "cell_type": "code",
   "execution_count": 15,
   "id": "8fa3eaeb",
   "metadata": {},
   "outputs": [
    {
     "data": {
      "text/plain": [
       "(10.5+0j)"
      ]
     },
     "execution_count": 15,
     "metadata": {},
     "output_type": "execute_result"
    }
   ],
   "source": [
    "string_value2='10.5'\n",
    "complex(string_value2)"
   ]
  },
  {
   "cell_type": "code",
   "execution_count": 18,
   "id": "034c4864",
   "metadata": {},
   "outputs": [
    {
     "data": {
      "text/plain": [
       "(10.5+0j)"
      ]
     },
     "execution_count": 18,
     "metadata": {},
     "output_type": "execute_result"
    }
   ],
   "source": [
    "complex(10.5)\n",
    "complex('10.5')"
   ]
  },
  {
   "cell_type": "code",
   "execution_count": 19,
   "id": "3ea233d3",
   "metadata": {},
   "outputs": [
    {
     "data": {
      "text/plain": [
       "10.5"
      ]
     },
     "execution_count": 19,
     "metadata": {},
     "output_type": "execute_result"
    }
   ],
   "source": [
    "float(10.5)"
   ]
  },
  {
   "cell_type": "code",
   "execution_count": 20,
   "id": "5cc91ce8",
   "metadata": {},
   "outputs": [
    {
     "data": {
      "text/plain": [
       "10.5"
      ]
     },
     "execution_count": 20,
     "metadata": {},
     "output_type": "execute_result"
    }
   ],
   "source": [
    "float('10.5')"
   ]
  },
  {
   "cell_type": "code",
   "execution_count": 21,
   "id": "94ae1752",
   "metadata": {},
   "outputs": [
    {
     "data": {
      "text/plain": [
       "10"
      ]
     },
     "execution_count": 21,
     "metadata": {},
     "output_type": "execute_result"
    }
   ],
   "source": [
    "int(10.5)"
   ]
  },
  {
   "cell_type": "code",
   "execution_count": 22,
   "id": "37ddaafc",
   "metadata": {},
   "outputs": [
    {
     "ename": "ValueError",
     "evalue": "invalid literal for int() with base 10: '10.5'",
     "output_type": "error",
     "traceback": [
      "\u001b[1;31m---------------------------------------------------------------------------\u001b[0m",
      "\u001b[1;31mValueError\u001b[0m                                Traceback (most recent call last)",
      "Cell \u001b[1;32mIn[22], line 1\u001b[0m\n\u001b[1;32m----> 1\u001b[0m \u001b[38;5;28mint\u001b[39m(\u001b[38;5;124m'\u001b[39m\u001b[38;5;124m10.5\u001b[39m\u001b[38;5;124m'\u001b[39m)\n",
      "\u001b[1;31mValueError\u001b[0m: invalid literal for int() with base 10: '10.5'"
     ]
    }
   ],
   "source": [
    "int('10.5')"
   ]
  },
  {
   "cell_type": "code",
   "execution_count": 23,
   "id": "706987c9",
   "metadata": {},
   "outputs": [
    {
     "data": {
      "text/plain": [
       "10"
      ]
     },
     "execution_count": 23,
     "metadata": {},
     "output_type": "execute_result"
    }
   ],
   "source": [
    "float('10')\n",
    "int(10.5)"
   ]
  },
  {
   "cell_type": "code",
   "execution_count": 24,
   "id": "b9bbb49a",
   "metadata": {},
   "outputs": [
    {
     "data": {
      "text/plain": [
       "10.0"
      ]
     },
     "execution_count": 24,
     "metadata": {},
     "output_type": "execute_result"
    }
   ],
   "source": [
    "float('10')"
   ]
  },
  {
   "cell_type": "code",
   "execution_count": 25,
   "id": "fcc59c63",
   "metadata": {},
   "outputs": [
    {
     "data": {
      "text/plain": [
       "10"
      ]
     },
     "execution_count": 25,
     "metadata": {},
     "output_type": "execute_result"
    }
   ],
   "source": [
    "int(10.5)"
   ]
  },
  {
   "cell_type": "raw",
   "id": "89a50cc5",
   "metadata": {},
   "source": [
    "converting string to integer with out error"
   ]
  },
  {
   "cell_type": "code",
   "execution_count": 26,
   "id": "bae2b522",
   "metadata": {},
   "outputs": [
    {
     "data": {
      "text/plain": [
       "10"
      ]
     },
     "execution_count": 26,
     "metadata": {},
     "output_type": "execute_result"
    }
   ],
   "source": [
    "string1='10.5'\n",
    "n1=float(string1)\n",
    "n2=int(n1)\n",
    "n2"
   ]
  },
  {
   "cell_type": "code",
   "execution_count": null,
   "id": "6c93cf84",
   "metadata": {},
   "outputs": [],
   "source": []
  }
 ],
 "metadata": {
  "kernelspec": {
   "display_name": "Python 3 (ipykernel)",
   "language": "python",
   "name": "python3"
  },
  "language_info": {
   "codemirror_mode": {
    "name": "ipython",
    "version": 3
   },
   "file_extension": ".py",
   "mimetype": "text/x-python",
   "name": "python",
   "nbconvert_exporter": "python",
   "pygments_lexer": "ipython3",
   "version": "3.11.5"
  }
 },
 "nbformat": 4,
 "nbformat_minor": 5
}
