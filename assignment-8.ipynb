{
 "cells": [
  {
   "cell_type": "markdown",
   "id": "6145650e",
   "metadata": {},
   "source": [
    "$TUPLE$"
   ]
  },
  {
   "cell_type": "markdown",
   "id": "5d9cb3ef",
   "metadata": {},
   "source": [
    "*Creating a Tuple*"
   ]
  },
  {
   "cell_type": "markdown",
   "id": "be8ee403",
   "metadata": {},
   "source": [
    "- A tuple is created by placing all the items (elements) inside parentheses (), separated by commas.\n",
    "- A tuple can have any number of items and they may be of different types (integer, float, list, string, etc.).\n",
    "- Tuples are used to store multiple items in a single variable.A tuple is a collection which is ordered"
   ]
  },
  {
   "cell_type": "markdown",
   "id": "95b7fab3",
   "metadata": {},
   "source": [
    "*types of tuples*"
   ]
  },
  {
   "cell_type": "code",
   "execution_count": 1,
   "id": "0cc840a2",
   "metadata": {},
   "outputs": [
    {
     "name": "stdout",
     "output_type": "stream",
     "text": [
      "()\n"
     ]
    }
   ],
   "source": [
    "# Empty tuple\n",
    "tup1=()\n",
    "print(tup1)"
   ]
  },
  {
   "cell_type": "code",
   "execution_count": 2,
   "id": "036b9600",
   "metadata": {},
   "outputs": [
    {
     "name": "stdout",
     "output_type": "stream",
     "text": [
      "(1, 2, 3, 4, 5)\n"
     ]
    }
   ],
   "source": [
    "# Tuple having integers\n",
    "tup2=(1,2,3,4,5)\n",
    "print(tup2)"
   ]
  },
  {
   "cell_type": "code",
   "execution_count": 4,
   "id": "289925bc",
   "metadata": {},
   "outputs": [
    {
     "name": "stdout",
     "output_type": "stream",
     "text": [
      "(1, 'hai', 2.3, -6)\n"
     ]
    }
   ],
   "source": [
    "# tuple with mixed datatypes\n",
    "tup3=(1,'hai',2.3,-6)\n",
    "print(tup3)"
   ]
  },
  {
   "cell_type": "code",
   "execution_count": 6,
   "id": "39b1ecb0",
   "metadata": {},
   "outputs": [
    {
     "name": "stdout",
     "output_type": "stream",
     "text": [
      "(1, [1, 2, 3, 4], 'hello', (4, 3, 2, 1))\n"
     ]
    }
   ],
   "source": [
    "# nested tuple\n",
    "tup4=(1,[1,2,3,4],\"hello\",(4,3,2,1))\n",
    "print(tup4)"
   ]
  },
  {
   "cell_type": "code",
   "execution_count": 7,
   "id": "32092338",
   "metadata": {},
   "outputs": [
    {
     "name": "stdout",
     "output_type": "stream",
     "text": [
      "<class 'tuple'>\n"
     ]
    }
   ],
   "source": [
    "tup4=(1,[1,2,3,4],\"hello\",(4,3,2,1))\n",
    "print(type(tup4))"
   ]
  },
  {
   "cell_type": "markdown",
   "id": "b399d315",
   "metadata": {},
   "source": [
    "$TYPE()$"
   ]
  },
  {
   "cell_type": "markdown",
   "id": "95e578e6",
   "metadata": {},
   "source": [
    "- the type() function to know which class a variable or a value"
   ]
  },
  {
   "cell_type": "code",
   "execution_count": 8,
   "id": "48c73d42",
   "metadata": {},
   "outputs": [
    {
     "name": "stdout",
     "output_type": "stream",
     "text": [
      "<class 'tuple'>\n",
      "<class 'tuple'>\n",
      "<class 'tuple'>\n"
     ]
    }
   ],
   "source": [
    "tuple1 = (\"apple\", \"banana\", \"cherry\")\n",
    "tuple2 = (1, 5, 7, 9, 3)\n",
    "tuple3 = (True, False, False)\n",
    "\n",
    "print(type(tuple1))\n",
    "print(type(tuple2))\n",
    "print(type(tuple3))"
   ]
  },
  {
   "cell_type": "code",
   "execution_count": 9,
   "id": "ec8c151b",
   "metadata": {},
   "outputs": [
    {
     "name": "stdout",
     "output_type": "stream",
     "text": [
      "(1, [1, 2, 3, 4], 'hello', (4, 3, 2, 1))\n"
     ]
    }
   ],
   "source": [
    "#we can also create tuples without using parentheses:\n",
    "tup4=1,[1,2,3,4],\"hello\",(4,3,2,1)\n",
    "print(tup4)"
   ]
  },
  {
   "cell_type": "markdown",
   "id": "d95d1ccb",
   "metadata": {},
   "source": [
    "- creating a tuple with one element is a bit tricky. Having one element within parentheses is not enough.\n",
    "\n",
    "We will need a trailing comma to indicate that it is a tuple,"
   ]
  },
  {
   "cell_type": "code",
   "execution_count": 13,
   "id": "5944848d",
   "metadata": {},
   "outputs": [
    {
     "name": "stdout",
     "output_type": "stream",
     "text": [
      "Hello\n",
      "('Hello',)\n"
     ]
    }
   ],
   "source": [
    "var1 = 'Hello' \n",
    "var2 = (\"Hello\",)\n",
    "print(var1)\n",
    "print(var2)"
   ]
  },
  {
   "cell_type": "code",
   "execution_count": 14,
   "id": "ef4161bc",
   "metadata": {},
   "outputs": [
    {
     "name": "stdout",
     "output_type": "stream",
     "text": [
      "<class 'str'>\n",
      "<class 'tuple'>\n"
     ]
    }
   ],
   "source": [
    "var1 = (\"hello\")\n",
    "print(type(var1))  \n",
    "\n",
    "# Creating a tuple having one element\n",
    "var2 = (\"hello\",)\n",
    "print(type(var2)) "
   ]
  },
  {
   "cell_type": "markdown",
   "id": "c74357c5",
   "metadata": {},
   "source": [
    "*The tuple() Constructor*"
   ]
  },
  {
   "cell_type": "markdown",
   "id": "eb597bf7",
   "metadata": {},
   "source": [
    "- it is also possible to use the tuple() constructor to make a tuple."
   ]
  },
  {
   "cell_type": "code",
   "execution_count": 15,
   "id": "3f989c4f",
   "metadata": {},
   "outputs": [
    {
     "name": "stdout",
     "output_type": "stream",
     "text": [
      "('apple', 'banana', 'cherry')\n"
     ]
    }
   ],
   "source": [
    "tuple1 = tuple((\"apple\", \"banana\", \"cherry\"))\n",
    "print(tuple1)"
   ]
  },
  {
   "cell_type": "markdown",
   "id": "19f8e15c",
   "metadata": {},
   "source": [
    "$Access Python Tuple Elements$"
   ]
  },
  {
   "cell_type": "markdown",
   "id": "64f438f6",
   "metadata": {},
   "source": [
    "*1. Indexing*"
   ]
  },
  {
   "cell_type": "markdown",
   "id": "fce07ece",
   "metadata": {},
   "source": [
    "- We can use the index operator [] to access an item in a tuple, where the index starts from 0."
   ]
  },
  {
   "cell_type": "code",
   "execution_count": 2,
   "id": "fb774fcb",
   "metadata": {},
   "outputs": [
    {
     "name": "stdout",
     "output_type": "stream",
     "text": [
      "p\n",
      "a\n"
     ]
    }
   ],
   "source": [
    "letters = (\"p\", \"r\", \"o\", \"g\", \"r\", \"a\", \"m\", \"i\", \"z\")\n",
    "\n",
    "print(letters[0])  \n",
    "print(letters[5])"
   ]
  },
  {
   "cell_type": "markdown",
   "id": "6268db34",
   "metadata": {},
   "source": [
    "- 2. Negative Indexing"
   ]
  },
  {
   "cell_type": "markdown",
   "id": "10b536ec",
   "metadata": {},
   "source": [
    "- Python allows negative indexing for its sequences."
   ]
  },
  {
   "cell_type": "code",
   "execution_count": 3,
   "id": "6ce81588",
   "metadata": {},
   "outputs": [
    {
     "name": "stdout",
     "output_type": "stream",
     "text": [
      "z\n",
      "m\n"
     ]
    }
   ],
   "source": [
    "letters = ('p', 'r', 'o', 'g', 'r', 'a', 'm', 'i', 'z')\n",
    "\n",
    "print(letters[-1])   \n",
    "print(letters[-3])"
   ]
  },
  {
   "cell_type": "markdown",
   "id": "3f598fc4",
   "metadata": {},
   "source": [
    "*3. Slicing*\n"
   ]
  },
  {
   "cell_type": "markdown",
   "id": "040be57b",
   "metadata": {},
   "source": [
    "-We can access a range of items in a tuple by using the slicing operator colon "
   ]
  },
  {
   "cell_type": "code",
   "execution_count": 4,
   "id": "c47dcf49",
   "metadata": {},
   "outputs": [
    {
     "name": "stdout",
     "output_type": "stream",
     "text": [
      "('r', 'o', 'g')\n",
      "('p', 'r')\n",
      "('i', 'z')\n",
      "('p', 'r', 'o', 'g', 'r', 'a', 'm', 'i', 'z')\n"
     ]
    }
   ],
   "source": [
    "# accessing tuple elements using slicing\n",
    "my_tuple = ('p', 'r', 'o', 'g', 'r', 'a', 'm', 'i', 'z')\n",
    "\n",
    "# elements 2nd to 4th index\n",
    "print(my_tuple[1:4])  #  prints ('r', 'o', 'g')\n",
    "\n",
    "# elements beginning to 2nd\n",
    "print(my_tuple[:-7]) # prints ('p', 'r')\n",
    "\n",
    "# elements 8th to end\n",
    "print(my_tuple[7:]) # prints ('i', 'z')\n",
    "\n",
    "# elements beginning to end\n",
    "print(my_tuple[:]) # Prints ('p', 'r', 'o', 'g', 'r', 'a', 'm', 'i', 'z')"
   ]
  },
  {
   "cell_type": "code",
   "execution_count": 5,
   "id": "12ef5911",
   "metadata": {},
   "outputs": [
    {
     "name": "stdout",
     "output_type": "stream",
     "text": [
      "('apple', 'banana', 'cherry', 'orange')\n"
     ]
    }
   ],
   "source": [
    "tuple1 = (\"apple\", \"banana\", \"cherry\", \"orange\", \"kiwi\", \"melon\", \"mango\")\n",
    "print(tuple1[:4])\n"
   ]
  },
  {
   "cell_type": "code",
   "execution_count": 6,
   "id": "2aa0634c",
   "metadata": {},
   "outputs": [
    {
     "name": "stdout",
     "output_type": "stream",
     "text": [
      "('kiwi', 'melon', 'mango')\n"
     ]
    }
   ],
   "source": [
    "tuple1 = (\"apple\", \"banana\", \"cherry\", \"orange\", \"kiwi\", \"melon\", \"mango\")\n",
    "print(tuple1[4:])\n"
   ]
  },
  {
   "cell_type": "markdown",
   "id": "f48c817f",
   "metadata": {},
   "source": [
    "$Update Tuples$"
   ]
  },
  {
   "cell_type": "markdown",
   "id": "c10e1a9b",
   "metadata": {},
   "source": [
    "-Tuples are unchangeable, meaning that you cannot change, add, or remove items once the tuple is created."
   ]
  },
  {
   "cell_type": "code",
   "execution_count": 10,
   "id": "3e54b94d",
   "metadata": {},
   "outputs": [
    {
     "name": "stdout",
     "output_type": "stream",
     "text": [
      "('apple', 'kiwi', 'cherry')\n"
     ]
    }
   ],
   "source": [
    "x = (\"apple\", \"banana\", \"cherry\")\n",
    "y = list(x)\n",
    "y[1] = \"kiwi\"\n",
    "x = tuple(y)\n",
    "print(x)"
   ]
  },
  {
   "cell_type": "markdown",
   "id": "96af3e77",
   "metadata": {},
   "source": [
    "*Add Items*"
   ]
  },
  {
   "cell_type": "markdown",
   "id": "3bf226aa",
   "metadata": {},
   "source": [
    "-tuples are immutable, they do not have a built-in append() method, but there are other ways to add items to a tuple.\n",
    "\n",
    "-1. Convert into a list: Just like the workaround for changing a tuple, you can convert it into a list,\n",
    "-add your item(s), and convert it back into a tuple."
   ]
  },
  {
   "cell_type": "code",
   "execution_count": 12,
   "id": "a5ca535d",
   "metadata": {},
   "outputs": [
    {
     "data": {
      "text/plain": [
       "('apple', 'banana', 'cherry', 'orange')"
      ]
     },
     "execution_count": 12,
     "metadata": {},
     "output_type": "execute_result"
    }
   ],
   "source": [
    "tuple1 = (\"apple\", \"banana\", \"cherry\")\n",
    "y = list(tuple1)\n",
    "y.append(\"orange\")\n",
    "tuple1 = tuple(y)\n",
    "tuple1"
   ]
  },
  {
   "cell_type": "markdown",
   "id": "b0477433",
   "metadata": {},
   "source": [
    "*Remove Items*"
   ]
  },
  {
   "cell_type": "markdown",
   "id": "7c1323cd",
   "metadata": {},
   "source": [
    "-Tuples are unchangeable, so you cannot remove items from it, but you can use the same workaround \n",
    "-as we used for changing and adding tuple items:"
   ]
  },
  {
   "cell_type": "code",
   "execution_count": 16,
   "id": "ba4847db",
   "metadata": {},
   "outputs": [
    {
     "data": {
      "text/plain": [
       "('banana', 'cherry')"
      ]
     },
     "execution_count": 16,
     "metadata": {},
     "output_type": "execute_result"
    }
   ],
   "source": [
    "tuple1 = (\"apple\", \"banana\", \"cherry\")\n",
    "y = list(tuple1)\n",
    "y.remove(\"apple\")\n",
    "tuple1 = tuple(y)\n",
    "tuple1\n"
   ]
  },
  {
   "cell_type": "markdown",
   "id": "30379b38",
   "metadata": {},
   "source": [
    "$del keyword$"
   ]
  },
  {
   "cell_type": "code",
   "execution_count": 21,
   "id": "73ef6cb7",
   "metadata": {},
   "outputs": [
    {
     "ename": "NameError",
     "evalue": "name 'tuple1' is not defined",
     "output_type": "error",
     "traceback": [
      "\u001b[1;31m---------------------------------------------------------------------------\u001b[0m",
      "\u001b[1;31mNameError\u001b[0m                                 Traceback (most recent call last)",
      "Cell \u001b[1;32mIn[21], line 4\u001b[0m\n\u001b[0;32m      2\u001b[0m tuple1 \u001b[38;5;241m=\u001b[39m (\u001b[38;5;124m\"\u001b[39m\u001b[38;5;124mapple\u001b[39m\u001b[38;5;124m\"\u001b[39m, \u001b[38;5;124m\"\u001b[39m\u001b[38;5;124mbanana\u001b[39m\u001b[38;5;124m\"\u001b[39m, \u001b[38;5;124m\"\u001b[39m\u001b[38;5;124mcherry\u001b[39m\u001b[38;5;124m\"\u001b[39m)\n\u001b[0;32m      3\u001b[0m \u001b[38;5;28;01mdel\u001b[39;00m tuple1\n\u001b[1;32m----> 4\u001b[0m \u001b[38;5;28mprint\u001b[39m(tuple1)\n",
      "\u001b[1;31mNameError\u001b[0m: name 'tuple1' is not defined"
     ]
    }
   ],
   "source": [
    "#you can delete the tuple completely\n",
    "tuple1 = (\"apple\", \"banana\", \"cherry\")\n",
    "del tuple1\n",
    "print(tuple1)"
   ]
  },
  {
   "cell_type": "markdown",
   "id": "00e401fe",
   "metadata": {},
   "source": [
    "$Loop Tuples$"
   ]
  },
  {
   "cell_type": "code",
   "execution_count": 22,
   "id": "861ad0c2",
   "metadata": {},
   "outputs": [
    {
     "name": "stdout",
     "output_type": "stream",
     "text": [
      "apple\n",
      "banana\n",
      "cherry\n"
     ]
    }
   ],
   "source": [
    "tuple1 = (\"apple\", \"banana\", \"cherry\")\n",
    "for x in tuple1:\n",
    "  print(x)"
   ]
  },
  {
   "cell_type": "markdown",
   "id": "e308f8b0",
   "metadata": {},
   "source": [
    "*Loop Through the Index Numbers*"
   ]
  },
  {
   "cell_type": "markdown",
   "id": "7b2b6957",
   "metadata": {},
   "source": [
    "-You can also loop through the tuple items by referring to their index number.\n",
    "\n",
    "-Use the range() and len() functions to create a suitable iterable."
   ]
  },
  {
   "cell_type": "code",
   "execution_count": 23,
   "id": "8ac7eae1",
   "metadata": {},
   "outputs": [
    {
     "name": "stdout",
     "output_type": "stream",
     "text": [
      "apple\n",
      "banana\n",
      "cherry\n"
     ]
    }
   ],
   "source": [
    "tuple1 = (\"apple\", \"banana\", \"cherry\")\n",
    "for i in range(len(tuple1)):\n",
    "  print(tuple1[i])"
   ]
  },
  {
   "cell_type": "markdown",
   "id": "d5bcf4d4",
   "metadata": {},
   "source": [
    "*Using a While Loop*"
   ]
  },
  {
   "cell_type": "markdown",
   "id": "b0b7e72b",
   "metadata": {},
   "source": [
    "- You can loop through the tuple items by using a while loop.\n",
    "\n",
    "- Use the len() function to determine the length of the tuple, then start at 0 and loop \n",
    "- your way through the tuple items by referring to their indexes."
   ]
  },
  {
   "cell_type": "code",
   "execution_count": 27,
   "id": "2b05bf25",
   "metadata": {},
   "outputs": [
    {
     "name": "stdout",
     "output_type": "stream",
     "text": [
      "apple\n",
      "banana\n",
      "cherry\n"
     ]
    }
   ],
   "source": [
    "tuple1 = (\"apple\", \"banana\", \"cherry\")\n",
    "i = 0\n",
    "while i < len(tuple1):\n",
    "  print(tuple1[i])\n",
    "  i = i + 1\n"
   ]
  },
  {
   "cell_type": "markdown",
   "id": "30e69686",
   "metadata": {},
   "source": [
    "$Join Tuples$"
   ]
  },
  {
   "cell_type": "code",
   "execution_count": 28,
   "id": "65a4ce24",
   "metadata": {},
   "outputs": [
    {
     "name": "stdout",
     "output_type": "stream",
     "text": [
      "apple\n",
      "banana\n",
      "cherry\n"
     ]
    }
   ],
   "source": [
    "fruits = (\"apple\", \"banana\", \"cherry\")\n",
    "\n",
    "(green, yellow, red) = fruits\n",
    "\n",
    "print(green)\n",
    "print(yellow)\n",
    "print(red)"
   ]
  },
  {
   "cell_type": "markdown",
   "id": "5cfebfed",
   "metadata": {},
   "source": [
    "Asterisk*"
   ]
  },
  {
   "cell_type": "markdown",
   "id": "aeb5b9e3",
   "metadata": {},
   "source": [
    "- If the number of variables is less than the number of values, you can add an * to the variable name and \n",
    "- the values will be assigned to the variable as a list:"
   ]
  },
  {
   "cell_type": "code",
   "execution_count": 29,
   "id": "b354c039",
   "metadata": {},
   "outputs": [
    {
     "name": "stdout",
     "output_type": "stream",
     "text": [
      "apple\n",
      "banana\n",
      "['cherry', 'strawberry', 'raspberry']\n"
     ]
    }
   ],
   "source": [
    "fruits = (\"apple\", \"banana\", \"cherry\", \"strawberry\", \"raspberry\")\n",
    "\n",
    "(green, yellow, *red) = fruits\n",
    "\n",
    "print(green)\n",
    "print(yellow)\n",
    "print(red)"
   ]
  },
  {
   "cell_type": "markdown",
   "id": "6085c388",
   "metadata": {},
   "source": [
    "- If the asterisk is added to another variable name than the last, \n",
    "- Python will assign values to the variable until the number of values left matches the number of variables left."
   ]
  },
  {
   "cell_type": "code",
   "execution_count": 30,
   "id": "66973928",
   "metadata": {},
   "outputs": [
    {
     "name": "stdout",
     "output_type": "stream",
     "text": [
      "apple\n",
      "['mango', 'papaya', 'pineapple']\n",
      "cherry\n"
     ]
    }
   ],
   "source": [
    "fruits = (\"apple\", \"mango\", \"papaya\", \"pineapple\", \"cherry\")\n",
    "\n",
    "(green, *tropic, red) = fruits\n",
    "\n",
    "print(green)\n",
    "print(tropic)\n",
    "print(red)"
   ]
  },
  {
   "cell_type": "markdown",
   "id": "eb4bc22a",
   "metadata": {},
   "source": [
    "$Join Tuples$"
   ]
  },
  {
   "cell_type": "markdown",
   "id": "e0eb2ae5",
   "metadata": {},
   "source": [
    "- To join two or more tuples you can use the + operator:"
   ]
  },
  {
   "cell_type": "code",
   "execution_count": 32,
   "id": "af469178",
   "metadata": {},
   "outputs": [
    {
     "name": "stdout",
     "output_type": "stream",
     "text": [
      "('a', 'b', 'c', 1, 2, 3)\n"
     ]
    }
   ],
   "source": [
    "tuple1 = (\"a\", \"b\" , \"c\")\n",
    "tuple2 = (1, 2, 3)\n",
    "\n",
    "tuple3 = tuple1 + tuple2\n",
    "print(tuple3)"
   ]
  },
  {
   "cell_type": "markdown",
   "id": "4e1d5577",
   "metadata": {},
   "source": [
    "*Multiply Tuples*\n",
    "- If you want to multiply the content of a tuple a given number of times, you can use the * operator:"
   ]
  },
  {
   "cell_type": "code",
   "execution_count": 33,
   "id": "3837bf80",
   "metadata": {},
   "outputs": [
    {
     "name": "stdout",
     "output_type": "stream",
     "text": [
      "('apple', 'banana', 'cherry', 'apple', 'banana', 'cherry')\n"
     ]
    }
   ],
   "source": [
    "fruits = (\"apple\", \"banana\", \"cherry\")\n",
    "mytuple = fruits * 2\n",
    "\n",
    "print(mytuple)"
   ]
  },
  {
   "cell_type": "markdown",
   "id": "4fc7d0b0",
   "metadata": {},
   "source": [
    "$Tuple Methods$"
   ]
  },
  {
   "cell_type": "markdown",
   "id": "7aae53d0",
   "metadata": {},
   "source": [
    "- Method\tDescription\n",
    "- count()\tReturns the number of times a specified value occurs in a tuple\n",
    "- index()\tSearches the tuple for a specified value and returns the position of where it was found"
   ]
  },
  {
   "cell_type": "code",
   "execution_count": 35,
   "id": "c8faab4f",
   "metadata": {},
   "outputs": [
    {
     "name": "stdout",
     "output_type": "stream",
     "text": [
      "2\n",
      "3\n"
     ]
    }
   ],
   "source": [
    "my_tuple = ('a', 'p', 'p', 'l', 'e',)\n",
    "\n",
    "print(my_tuple.count('p')) \n",
    "print(my_tuple.index('l')) "
   ]
  },
  {
   "cell_type": "code",
   "execution_count": null,
   "id": "72ee6c3b",
   "metadata": {},
   "outputs": [],
   "source": []
  }
 ],
 "metadata": {
  "kernelspec": {
   "display_name": "Python 3 (ipykernel)",
   "language": "python",
   "name": "python3"
  },
  "language_info": {
   "codemirror_mode": {
    "name": "ipython",
    "version": 3
   },
   "file_extension": ".py",
   "mimetype": "text/x-python",
   "name": "python",
   "nbconvert_exporter": "python",
   "pygments_lexer": "ipython3",
   "version": "3.11.5"
  }
 },
 "nbformat": 4,
 "nbformat_minor": 5
}
