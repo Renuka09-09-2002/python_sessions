{
 "cells": [
  {
   "cell_type": "code",
   "execution_count": null,
   "id": "4eed0ee9",
   "metadata": {},
   "outputs": [],
   "source": [
    "-lambda :is creating a fun\n",
    "-one argument\n",
    "-multiple argument\n",
    "-if else condition\n",
    "-if else cond same like list comprehension"
   ]
  },
  {
   "cell_type": "code",
   "execution_count": 11,
   "id": "67b57dda",
   "metadata": {},
   "outputs": [
    {
     "data": {
      "text/plain": [
       "['Hyd', 'Chennai', 'Mumbai']"
      ]
     },
     "execution_count": 11,
     "metadata": {},
     "output_type": "execute_result"
    }
   ],
   "source": [
    "list1=['hyd','chennai','mumbai']\n",
    "#o/p:['Hyd','Chennai','Mumbai']\n",
    "#m-1:use append method\n",
    "#m-2:use list comprehension\n",
    "list2=[]\n",
    "for i in list1:\n",
    "    list2.append(i.capitalize())            #m-1\n",
    "list2\n",
    "\n",
    "\n",
    "[i.capitalize() for i in list1]           #m-2\n"
   ]
  },
  {
   "cell_type": "code",
   "execution_count": null,
   "id": "b0a087ca",
   "metadata": {},
   "outputs": [],
   "source": [
    "lambda <arguments>:<o/p>"
   ]
  },
  {
   "cell_type": "code",
   "execution_count": null,
   "id": "f9f84838",
   "metadata": {},
   "outputs": [],
   "source": [
    "#whenever u use iteration\n",
    "#iterator:something u want iterable/u can print\n",
    "#list,string,tuple,dictionary"
   ]
  },
  {
   "cell_type": "code",
   "execution_count": 12,
   "id": "ab44d479",
   "metadata": {},
   "outputs": [
    {
     "data": {
      "text/plain": [
       "(<function __main__.<lambda>(i)>, ['hyd', 'chennai', 'mumbai'])"
      ]
     },
     "execution_count": 12,
     "metadata": {},
     "output_type": "execute_result"
    }
   ],
   "source": [
    "#lambda <arg>:<o/p>,<iterator>\n",
    " \n",
    "    \n",
    "    #m-3:make the lambda fun\n",
    "\n",
    "#[i.capitalize() for i in list1]            \n",
    "list1=['hyd','chennai','mumbai']                           #step1:make the lambda fun\n",
    "lambda i:i.capitalize(),list1                              #step2:add u r iterator\n"
   ]
  },
  {
   "cell_type": "code",
   "execution_count": 13,
   "id": "ab11cb40",
   "metadata": {},
   "outputs": [
    {
     "data": {
      "text/plain": [
       "<map at 0x14d690ec040>"
      ]
     },
     "execution_count": 13,
     "metadata": {},
     "output_type": "execute_result"
    }
   ],
   "source": [
    "list1=['hyd','chennai','mumbai']                #step3:map both the fun and iterator\n",
    "map(lambda i:i.capitalize(),list1)"
   ]
  },
  {
   "cell_type": "code",
   "execution_count": 14,
   "id": "c425b102",
   "metadata": {},
   "outputs": [
    {
     "data": {
      "text/plain": [
       "['Hyd', 'Chennai', 'Mumbai']"
      ]
     },
     "execution_count": 14,
     "metadata": {},
     "output_type": "execute_result"
    }
   ],
   "source": [
    "#afetr mapping,store the o/p\n",
    "\n",
    "list(map(lambda i:i.capitalize(),list1))                   #step4:store the result in a list"
   ]
  },
  {
   "cell_type": "code",
   "execution_count": 19,
   "id": "a193800c",
   "metadata": {},
   "outputs": [
    {
     "name": "stdout",
     "output_type": "stream",
     "text": [
      "1\n",
      "4\n",
      "9\n",
      "16\n",
      "25\n"
     ]
    }
   ],
   "source": [
    "list1=[1,2,3,4,5]\n",
    "#0/p:1,4,9,16,25\n",
    "for i in map(lambda i:i*i,list1):\n",
    "    print(i)   "
   ]
  },
  {
   "cell_type": "code",
   "execution_count": 22,
   "id": "b52afc70",
   "metadata": {},
   "outputs": [
    {
     "name": "stdout",
     "output_type": "stream",
     "text": [
      "12\n",
      "24\n",
      "36\n"
     ]
    }
   ],
   "source": [
    "list1=[1,2,3]\n",
    "list2=[11,22,33]\n",
    "\n",
    "for i,j in zip(list1,list2):\n",
    "    print(i+j)"
   ]
  },
  {
   "cell_type": "code",
   "execution_count": 23,
   "id": "91622d55",
   "metadata": {},
   "outputs": [
    {
     "data": {
      "text/plain": [
       "'<map object at 0x0000014D690EE9E0>'"
      ]
     },
     "execution_count": 23,
     "metadata": {},
     "output_type": "execute_result"
    }
   ],
   "source": [
    "str(map(lambda i,j:i+j,list1,list2))"
   ]
  },
  {
   "cell_type": "code",
   "execution_count": 12,
   "id": "22b4b8c7",
   "metadata": {},
   "outputs": [
    {
     "data": {
      "text/plain": [
       "['h#d', 'mum#bai']"
      ]
     },
     "execution_count": 12,
     "metadata": {},
     "output_type": "execute_result"
    }
   ],
   "source": [
    "list1=['h#d','mum#bai','chennai']\n",
    "#[h#d,mu#bai]\n",
    "list2=[]\n",
    "for i in list1:\n",
    "    if '#' in i:\n",
    "        list2.append(i)\n",
    "list2\n",
    "\n"
   ]
  },
  {
   "cell_type": "code",
   "execution_count": 29,
   "id": "b02523c6",
   "metadata": {},
   "outputs": [
    {
     "data": {
      "text/plain": [
       "['h#d', 'mu#bai']"
      ]
     },
     "execution_count": 29,
     "metadata": {},
     "output_type": "execute_result"
    }
   ],
   "source": [
    "[i for i in list1 if '#'in i]"
   ]
  },
  {
   "cell_type": "code",
   "execution_count": null,
   "id": "d2382c0a",
   "metadata": {},
   "outputs": [],
   "source": [
    "#lambda <arg>:<cond>,<iterator>"
   ]
  },
  {
   "cell_type": "code",
   "execution_count": 36,
   "id": "00eced72",
   "metadata": {},
   "outputs": [
    {
     "data": {
      "text/plain": [
       "<filter at 0x14d690edc00>"
      ]
     },
     "execution_count": 36,
     "metadata": {},
     "output_type": "execute_result"
    }
   ],
   "source": [
    "list1=['h#d','mu#bai','chennai']\n",
    "filter(lambda i:'#' in i,list1)"
   ]
  },
  {
   "cell_type": "code",
   "execution_count": 33,
   "id": "c039594f",
   "metadata": {},
   "outputs": [
    {
     "data": {
      "text/plain": [
       "(<function __main__.<lambda>(i)>, ['h#d', 'mu#bai', 'chennai'])"
      ]
     },
     "execution_count": 33,
     "metadata": {},
     "output_type": "execute_result"
    }
   ],
   "source": [
    "list1=['h#d','mu#bai','chennai']\n",
    "lambda i:'#' in i,list1"
   ]
  },
  {
   "cell_type": "code",
   "execution_count": 34,
   "id": "1f433a17",
   "metadata": {},
   "outputs": [
    {
     "data": {
      "text/plain": [
       "<map at 0x14d690eda50>"
      ]
     },
     "execution_count": 34,
     "metadata": {},
     "output_type": "execute_result"
    }
   ],
   "source": [
    "map(lambda i:'#' in i,list1)"
   ]
  },
  {
   "cell_type": "code",
   "execution_count": 35,
   "id": "71cbda9f",
   "metadata": {},
   "outputs": [
    {
     "data": {
      "text/plain": [
       "[True, True, False]"
      ]
     },
     "execution_count": 35,
     "metadata": {},
     "output_type": "execute_result"
    }
   ],
   "source": [
    "list(map(lambda i:'#' in i,list1))"
   ]
  },
  {
   "cell_type": "code",
   "execution_count": 1,
   "id": "d1689ca9",
   "metadata": {},
   "outputs": [
    {
     "data": {
      "text/plain": [
       "'Dfsddn'"
      ]
     },
     "execution_count": 1,
     "metadata": {},
     "output_type": "execute_result"
    }
   ],
   "source": [
    "str1='dfsddn'\n",
    "str1.capitalize()"
   ]
  },
  {
   "cell_type": "code",
   "execution_count": 3,
   "id": "151bfe95",
   "metadata": {},
   "outputs": [
    {
     "ename": "AttributeError",
     "evalue": "'list' object has no attribute 'capitalize'",
     "output_type": "error",
     "traceback": [
      "\u001b[1;31m---------------------------------------------------------------------------\u001b[0m",
      "\u001b[1;31mAttributeError\u001b[0m                            Traceback (most recent call last)",
      "Cell \u001b[1;32mIn[3], line 2\u001b[0m\n\u001b[0;32m      1\u001b[0m list1\u001b[38;5;241m=\u001b[39m[\u001b[38;5;124m'\u001b[39m\u001b[38;5;124mhyd\u001b[39m\u001b[38;5;124m'\u001b[39m]\n\u001b[1;32m----> 2\u001b[0m list1\u001b[38;5;241m.\u001b[39mcapitalize()\n\u001b[0;32m      3\u001b[0m list1\n",
      "\u001b[1;31mAttributeError\u001b[0m: 'list' object has no attribute 'capitalize'"
     ]
    }
   ],
   "source": [
    "list1=['hyd']\n",
    "list1.capitalize()\n",
    "list1"
   ]
  },
  {
   "cell_type": "code",
   "execution_count": null,
   "id": "7e2f8660",
   "metadata": {},
   "outputs": [],
   "source": []
  }
 ],
 "metadata": {
  "kernelspec": {
   "display_name": "Python 3 (ipykernel)",
   "language": "python",
   "name": "python3"
  },
  "language_info": {
   "codemirror_mode": {
    "name": "ipython",
    "version": 3
   },
   "file_extension": ".py",
   "mimetype": "text/x-python",
   "name": "python",
   "nbconvert_exporter": "python",
   "pygments_lexer": "ipython3",
   "version": "3.11.5"
  }
 },
 "nbformat": 4,
 "nbformat_minor": 5
}
