{
 "cells": [
  {
   "cell_type": "code",
   "execution_count": 6,
   "id": "87d21cf1",
   "metadata": {},
   "outputs": [
    {
     "name": "stdout",
     "output_type": "stream",
     "text": [
      "enter the no.of hours worked : 37\n",
      "the firm pay the employee 37 and 960 is 35520$ hours of work\n"
     ]
    }
   ],
   "source": [
    "##### Problem 1\n",
    "#Suppose that a Firm pays its employee at the rate of $12 per hour. An employee has worked for 37\n",
    "#hours. How much should the firm pay the employee? (Do normal way directly takes the input)\n",
    "# Taking input for hours worked\n",
    "worked_hours=eval(input(\"enter the no.of hours worked : \"))\n",
    "rate=12*80\n",
    "total=worked_hours*rate\n",
    "print(\"the firm pay the employee {} and {} is {}$ hours of work\".format(worked_hours,rate,total))"
   ]
  },
  {
   "cell_type": "code",
   "execution_count": 13,
   "id": "3c3fe0a1",
   "metadata": {},
   "outputs": [
    {
     "name": "stdout",
     "output_type": "stream",
     "text": [
      "the firm pay the employee 37 and 960 is 35520$ hours of work\n"
     ]
    }
   ],
   "source": [
    "#### Problem 2\n",
    "#How about prompting the user for the number of hours and using the input value to compute the\n",
    "#total pay? (Above problem use eval concept and sep concept)\n",
    "\n",
    "worked_hours=37\n",
    "rate=12*80\n",
    "total=worked_hours*rate\n",
    "print(\"the firm pay the employee {} and {} is {}$ hours of work\".format(worked_hours,rate,total),sep=\" \")"
   ]
  },
  {
   "cell_type": "code",
   "execution_count": 48,
   "id": "12c2bd30",
   "metadata": {},
   "outputs": [
    {
     "name": "stdout",
     "output_type": "stream",
     "text": [
      "enter marks of quiz 1:20\n",
      "enter marks of quiz 2:20\n",
      "enter marks of class test:50\n",
      "enter marks of assignment:100\n",
      "enter marks of project:200\n",
      "overall marks is  100.0\n"
     ]
    }
   ],
   "source": [
    "#### Problem-3\n",
    "\n",
    "#For a certain academic subject the students are evaluated based on five tests - \n",
    "#Quiz 1 (20 marks - 10% Weight), * Quiz 2 (20 marks - 10% Weight),\n",
    "# Class test (50 marks - 25% Weight),\n",
    "# Assignment (100 marks - 25% weight) and\n",
    "# Project (200 marks - 30% weight).\n",
    "\n",
    "#Design a program that will prompt the user for marks for each of the tests and calculate the overall\n",
    "#marks (out of 100).\n",
    "marks1=eval(input(\"enter marks of quiz 1:\"))\n",
    "marks2=eval(input(\"enter marks of quiz 2:\"))\n",
    "\n",
    "marks3=eval(input(\"enter marks of class test:\"))\n",
    "marks4=eval(input(\"enter marks of assignment:\")) \n",
    "marks5=eval(input(\"enter marks of project:\"))\n",
    "\n",
    "max_marks=(marks1*10)/20 \n",
    "max_marks1=(marks2*10)/20 \n",
    "max_marks2=(marks3*25)/50\n",
    "\n",
    "max_marks3=(marks4*25)/100 \n",
    "max_marks4=(marks5*30)/200\n",
    "\n",
    "overall_marks=max_marks+max_marks1+max_marks2+max_marks3+max_marks4 \n",
    "print(\"overall marks is \",overall_marks)"
   ]
  },
  {
   "cell_type": "code",
   "execution_count": 5,
   "id": "3a51dfa2",
   "metadata": {},
   "outputs": [
    {
     "name": "stdout",
     "output_type": "stream",
     "text": [
      "enter a five-digit number is input through the keyboard :12345\n",
      "The sum of the digits 12345 is 15\n"
     ]
    }
   ],
   "source": [
    "#### Problem-4\n",
    "#If a five-digit number is input through the keyboard, write a program to calculate the sum of its digits.\n",
    "number=input(\"enter a five-digit number is input through the keyboard :\")\n",
    "if len(number) != 5:\n",
    "    print(\"Please enter a valid five-digit number.\")\n",
    "else:\n",
    "    # Initializing the sum variable\n",
    "    digit_sum = 0\n",
    "    \n",
    "    # Calculating the sum of the digits\n",
    "    for digit in number:\n",
    "        digit_sum += int(digit)\n",
    "\n",
    "    # Displaying the sum of the digits\n",
    "    print(\"The sum of the digits {} is {}\".format(number,digit_sum))"
   ]
  },
  {
   "cell_type": "code",
   "execution_count": 10,
   "id": "e9d29eb6",
   "metadata": {},
   "outputs": [
    {
     "name": "stdout",
     "output_type": "stream",
     "text": [
      "enter a five-digit number is input through the keyboard :12371\n",
      "12372\n"
     ]
    }
   ],
   "source": [
    "#### Problem-5\n",
    "#If a five-digit number is input through the keyboard, write a program to print a new number by\n",
    "#adding one to each of its digits. For example if the number that is input is 12371 then the output\n",
    "#should be displayed as 23482.\n",
    "\n",
    "number=eval(input(\"enter a five-digit number is input through the keyboard :\"))\n",
    "add=number+1\n",
    "print(add)"
   ]
  },
  {
   "cell_type": "code",
   "execution_count": 23,
   "id": "29344364",
   "metadata": {},
   "outputs": [
    {
     "name": "stdout",
     "output_type": "stream",
     "text": [
      "Enter the number of hours worked: 2\n",
      "Enter the hourly rate: 200\n",
      "The total pay is: $ 400\n"
     ]
    }
   ],
   "source": [
    "# 7 How about prompting the user for the number of hours and using the input value to compute the total pay?\n",
    "def compute_pay(hours_worked, hourly_rate):\n",
    "    total_pay = hours_worked * hourly_rate\n",
    "    return total_pay\n",
    "\n",
    "\n",
    "hours = eval(input(\"Enter the number of hours worked: \"))\n",
    "rate = eval(input(\"Enter the hourly rate: \"))\n",
    "\n",
    "\n",
    "total_pay = compute_pay(hours, rate)\n",
    "\n",
    "print(\"The total pay is: $\",total_pay)"
   ]
  },
  {
   "cell_type": "code",
   "execution_count": 1,
   "id": "1fb3b2d9",
   "metadata": {},
   "outputs": [
    {
     "name": "stdout",
     "output_type": "stream",
     "text": [
      "enter marks of quiz 1:10\n",
      "enter marks of quiz 2:10\n",
      "enter marks of class test:25\n",
      "enter marks of assignment:50\n",
      "enter marks of project:100\n",
      "overall marks is  50.0\n",
      "second class\n"
     ]
    }
   ],
   "source": [
    "#### Problem-6: (Use conditional statements)\n",
    "\n",
    "#**Recall the problem:**\n",
    "\n",
    "#For a certain academic subject the students are evaluated based on five tests - * Quiz 1 (20 marks - 10% Weight), * Quiz 2 (20 marks - 10% Weight), * Class test (50 marks - 25% Weight), * Assignment (100 marks - 25% weight) and\n",
    "#* Project (200 marks - 30% weight).\n",
    "\n",
    "#Design a program that will prompt the user for marks for each of the tests and calculate the overall\n",
    "#marks (out of 100).\n",
    "\n",
    "#### Add an extension to the problem to display grades:\n",
    "#Display the grades of students using the following table:\n",
    "\n",
    "##Score Grade\n",
    "#>= 60 First Class\n",
    "#>= 40 Second Class\n",
    "#< 40 Fail\n",
    "marks1=eval(input(\"enter marks of quiz 1:\")) \n",
    "marks2=eval(input(\"enter marks of quiz 2:\"))\n",
    "\n",
    "marks3=eval(input(\"enter marks of class test:\")) \n",
    "marks4=eval(input(\"enter marks of assignment:\")) \n",
    "marks5=eval(input(\"enter marks of project:\"))\n",
    "\n",
    "max_marks=(marks1*10)/20 \n",
    "max_marks1=(marks2*10)/20 \n",
    "max_marks2=(marks3*25)/50\n",
    "\n",
    "max_marks3=(marks4*25)/100 \n",
    "max_marks4=(marks5*30)/200\n",
    "\n",
    "overall_marks=max_marks+max_marks1+max_marks2+max_marks3+max_marks4 \n",
    "print(\"overall marks is \",overall_marks)\n",
    "if(overall_marks>=60):\n",
    "    print(\"first class\")\n",
    "elif(overall_marks>=40):\n",
    "    print(\"second class\")\n",
    "elif(overall_marks<40): \n",
    "    print(\"fail\")"
   ]
  },
  {
   "cell_type": "code",
   "execution_count": 4,
   "id": "4a82fed1",
   "metadata": {},
   "outputs": [
    {
     "name": "stdout",
     "output_type": "stream",
     "text": [
      "enter number of hours:8\n",
      "enter salary:25000\n",
      "the total pay is:200000\n"
     ]
    }
   ],
   "source": [
    "#### Problem-8\n",
    "#** try & except **\n",
    "\n",
    "#Rewrite the pay program (refer problem 2) using try and expect so that the program handles non-\n",
    "#numeric input gracefully by printing a message and exiting the program. The following shows two\n",
    "\n",
    "#executions of the program:\n",
    "\n",
    "##Enter rate: nine\n",
    "#rror, please enter numeric input\n",
    "\n",
    "\n",
    "try:\n",
    "    num=eval(input(\"enter number of hours:\")) \n",
    "    salary=eval(input(\"enter salary:\"))\n",
    "    total_pay=num*salary\n",
    "\n",
    "    print(\"the total pay is\" , total_pay ,sep=\":\")\n",
    "\n",
    "except:\n",
    "    print(\"please enter correct input\")"
   ]
  },
  {
   "cell_type": "code",
   "execution_count": 32,
   "id": "eeec8192",
   "metadata": {},
   "outputs": [
    {
     "name": "stdout",
     "output_type": "stream",
     "text": [
      "enter a length in centimeters is: 12\n",
      "coverting the length of centi in 12 inches is 30.48\n"
     ]
    }
   ],
   "source": [
    "#### Problem-9(Use conditional statements)\n",
    "\n",
    "#Write a program that asks the user to enter a length in centimeters. If the user enters a negative\n",
    "#length, the program should tell the user that the entry is invalid. Otherwise, the program should\n",
    "#convert the length to inches and print out the result. There are 2.54 centimeters in an inch.\n",
    "centi=eval(input(\"enter a length in centimeters is: \"))\n",
    "inches=2.54*centi\n",
    "if user==inches:\n",
    "    print(\"it is on processing\")\n",
    "elif user>inches:\n",
    "    print(\"the user enters a negative length\")\n",
    "else:    \n",
    "    print(\"coverting the length of centi in {} inches is {}\".format(centi,inches))"
   ]
  },
  {
   "cell_type": "code",
   "execution_count": 12,
   "id": "1a0d64db",
   "metadata": {},
   "outputs": [
    {
     "name": "stdout",
     "output_type": "stream",
     "text": [
      "Enter the temperature: 30\n",
      "Enter the unit of temperature (Celsius or Fahrenheit): celsius\n",
      "86.0 is the temperature in Fahrenheit  \n"
     ]
    }
   ],
   "source": [
    "#### Problem-10(Use conditional statements)\n",
    "#Ask the user for a temperature. Then ask them what units, Celsius or Fahrenheit, the temperature is\n",
    "#in. Your program should convert the temperature to the other unit. The conversions are F = 9 /5 C +\n",
    "#32 and C = 5/ 9 (F − 32).\n",
    "temperature = eval(input(\"Enter the temperature: \"))\n",
    "unit = input(\"Enter the unit of temperature (Celsius or Fahrenheit): \")\n",
    "\n",
    "if unit == \"celsius\":\n",
    "    converted_temp = (temperature * 9/5) + 32\n",
    "    print(\"{} is the temperature in Fahrenheit  \".format(converted_temp))\n",
    "elif unit == \"fahrenheit\":\n",
    "    converted_temp = (temperature - 32) * 5/9\n",
    "    print(\"{} is a temperature in clesius\".format(converted_temp))\n",
    "else:\n",
    "    print(\"Please enter either Celsius or Fahrenheit as the unit.\")"
   ]
  },
  {
   "cell_type": "code",
   "execution_count": null,
   "id": "eb59b91d",
   "metadata": {},
   "outputs": [],
   "source": [
    "#### Problem-11(Use conditional statements)\n",
    "Ask the user to enter a temperature in Celsius. The program should print a message based on the\n",
    "temperature: \n",
    "    • If the temperature is less than -273.15, \n",
    "    print that the temperature is invalid because it is below absolute zero. \n",
    "    • If it is exactly -273.15, print that the temperature is absolute 0. \n",
    "    • If the temperature is between -273.15 and 0, \n",
    "    print that the temperature is below\n",
    "\n"
   ]
  },
  {
   "cell_type": "code",
   "execution_count": 15,
   "id": "17021649",
   "metadata": {},
   "outputs": [
    {
     "name": "stdout",
     "output_type": "stream",
     "text": [
      "enter a temperature in celsius : 0\n",
      "The temperature is at the freezing point.\n"
     ]
    }
   ],
   "source": [
    "temp=eval(input(\"enter a temperature in celsius : \"))\n",
    "if temp< -273.15:\n",
    "    print(\"The temperature is invalid because it is below absolute zero.\")\n",
    "elif temp == -273.15:\n",
    "    print(\"The temperature is absolute 0.\")\n",
    "elif -273.15 <temp < 0:\n",
    "    print(\"The temperature is below freezing.\")\n",
    "elif temp == 0:\n",
    "    print(\"The temperature is at the freezing point.\")\n",
    "elif 0 < temp < 100:\n",
    "    print(\"The temperature is in the normal range.\")\n",
    "elif temp == 100:\n",
    "    print(\"The temperature is at the boiling point.\")\n",
    "else:\n",
    "    print(\"The temperature is above the boiling point.\")\n"
   ]
  },
  {
   "cell_type": "code",
   "execution_count": 16,
   "id": "f4f83753",
   "metadata": {},
   "outputs": [
    {
     "name": "stdout",
     "output_type": "stream",
     "text": [
      "how many credits they have taken :55\n",
      "You are a junior.\n"
     ]
    }
   ],
   "source": [
    "#### Problem-12(Use conditional statements)\n",
    "#Write a program that asks the user how many credits they have taken. If they have taken 23 or less,\n",
    "#print that the student is a freshman. If they have taken between 24 and 53, print that they are a\n",
    "#sophomore. The range for juniors is 54 to 83, and for seniors it is 84 and over.\n",
    "credits=eval(input(\"how many credits they have taken :\"))\n",
    "if credits <= 23:\n",
    "    print(\"You are a freshman.\")\n",
    "elif 24 <= credits <= 53:\n",
    "    print(\"You are a sophomore.\")\n",
    "elif 54 <= credits <= 83:\n",
    "    print(\"You are a junior.\")\n",
    "else:\n",
    "    print(\"You are a senior.\")\n",
    "\n"
   ]
  },
  {
   "cell_type": "code",
   "execution_count": 22,
   "id": "0371f10c",
   "metadata": {},
   "outputs": [
    {
     "name": "stdout",
     "output_type": "stream",
     "text": [
      "Generate a random number between 1 and 10 : 5\n",
      "it is not,3 is the right number\n"
     ]
    }
   ],
   "source": [
    "#### Problem-13(Use conditional statements)\n",
    "#Generate a random number between 1 and 10. Ask the user to guess the number and print a\n",
    "#message based on whether they get it right or not.\n",
    "import random\n",
    "num=eval(input(\"Generate a random number between 1 and 10 : \"))\n",
    "ran_num=random.randint(1,10)\n",
    "if num >11:\n",
    "    print(\"it is a right number u taken\")\n",
    "else:\n",
    "    print(\"it is not,{} is the right number\".format(ran_num))"
   ]
  },
  {
   "cell_type": "code",
   "execution_count": 32,
   "id": "382c4407",
   "metadata": {},
   "outputs": [
    {
     "name": "stdout",
     "output_type": "stream",
     "text": [
      "enter how many item u brought : 55\n",
      "here u r total amount for u r items 55 is 550\n"
     ]
    }
   ],
   "source": [
    "#### Problem-14(Use conditional statements)\n",
    "#A store charges $12 per item if you buy less than 10 items. If you buy between 10 and 99 items, the\n",
    "#cost is $10 per item. If you buy 100 or more items, the cost is $7 per item. Write a program that asks\n",
    "#the user how many items they are buying and prints the total cost.\n",
    "items=eval(input(\"enter how many item u brought : \"))\n",
    "total_cost = 0\n",
    "if items<10:\n",
    "    total_cost = items * 12\n",
    "    print(\"here u r total amount for u r items {} is {}\".format(items,total_cost))\n",
    "elif  10 <= items <= 99:\n",
    "    total_cost = items * 10\n",
    "    print(\"here u r total amount for u r items {} is {}\".format(items,total_cost))\n",
    "else:\n",
    "    total_cost = items * 7\n",
    "    print(\"here u r total amount for u r items {} is {}\".format(items,total_cost))\n"
   ]
  },
  {
   "cell_type": "code",
   "execution_count": 33,
   "id": "f5569a78",
   "metadata": {},
   "outputs": [
    {
     "name": "stdout",
     "output_type": "stream",
     "text": [
      "Enter the first number: 0.002\n",
      "Enter the second number: 0.001\n",
      "Close\n"
     ]
    }
   ],
   "source": [
    "#### Problem-15(Use conditional statements)\n",
    "#Write a program that asks the user for two numbers and prints Close if the numbers are within .001\n",
    "#of each other and Not close otherwise.\n",
    "\n",
    "num1 = eval(input(\"Enter the first number: \"))\n",
    "num2 = eval(input(\"Enter the second number: \"))\n",
    "\n",
    "\n",
    "if -0.001 <= num1 - num2 <= 0.001:\n",
    "    print(\"Close\")\n",
    "else:\n",
    "    print(\"Not close\")\n",
    "\n"
   ]
  },
  {
   "cell_type": "code",
   "execution_count": 40,
   "id": "8bdb2a27",
   "metadata": {},
   "outputs": [
    {
     "name": "stdout",
     "output_type": "stream",
     "text": [
      "enter a year 2023\n",
      "2023 is not a leap year\n"
     ]
    }
   ],
   "source": [
    "#### Problem-16(Use conditional statements)\n",
    "#A year is a leap year if it is divisible by 4, except that years divisible by 100 are not leap years unless\n",
    "#they are also divisible by 400. Write a program that asks the user for a year and prints out whether it\n",
    "#is a leap year or not.\n",
    "\n",
    "\n",
    "year=eval(input(\"enter a year \"))\n",
    "if year%4==0:\n",
    "    if year%100==0:\n",
    "        if year%400==0:\n",
    "            print(\"{} is a leap year\".format(year))\n",
    "        else:\n",
    "            print(\"{year} is not a leap year\".format(year))\n",
    "    else:\n",
    "        print(\"{} is not a leap year\".format(year))\n",
    "else:\n",
    "    print(\"{} is not a leap year\".format(year))\n"
   ]
  },
  {
   "cell_type": "code",
   "execution_count": 2,
   "id": "61384d09",
   "metadata": {},
   "outputs": [
    {
     "name": "stdout",
     "output_type": "stream",
     "text": [
      "enter a number is divisiors by 10 :10\n",
      "the number is divisible 10 is 1\n",
      "the number is divisible 10 is 2\n",
      "the number is divisible 10 is 5\n",
      "the number is divisible 10 is 10\n",
      "the numbers of divisiors are : 4\n"
     ]
    }
   ],
   "source": [
    "#### Problem-17(Use conditional statements)\n",
    "#Write a program that asks the user to enter a number and prints out all the divisors of that number.\n",
    "#[Hint: the % operator is used to tell if a number is divisible by something.\n",
    "count=0\n",
    "num=eval(input(\"enter a number is divisiors by 10 :\"))\n",
    "for i in range (1,num+1):\n",
    "   \n",
    "    if (num%i)==0:\n",
    "        count=count+1\n",
    "        print(\"the number is divisible {} is {}\".format(num,i))\n",
    "print(\"the numbers of divisiors are :\",count)"
   ]
  },
  {
   "cell_type": "code",
   "execution_count": 17,
   "id": "0c9dd654",
   "metadata": {},
   "outputs": [
    {
     "name": "stdout",
     "output_type": "stream",
     "text": [
      "enter an hour between 1 and 12:7\n",
      "enter am or pm:pm\n",
      "enter how many hours ahead?24\n",
      "7 pm\n"
     ]
    }
   ],
   "source": [
    "#### Problem-18(Use conditional statements)\n",
    "#Write a program that asks the user for an hour between 1 and 12, asks them to enter am or pm, and\n",
    "#asks them how many hours into the future they want to go.\n",
    "#Print out what the hour will be that many hours into the future, printing am or pm as appropriate.\n",
    "#An example is shown below.\n",
    "#Enter hour: 8\n",
    "###New hour: 1 pm\n",
    "\n",
    "\n",
    "hour=eval(input(\"enter an hour between 1 and 12:\")) \n",
    "am=input(\"enter am or pm:\")\n",
    "\n",
    "_hrs=eval(input(\"enter how many hours ahead?\")) \n",
    "new_time=hour+_hrs\n",
    "\n",
    "_hrs=_hrs%24\n",
    "\n",
    "new_time=new_time%24\n",
    "\n",
    "if hour<12 and _hrs>=12: \n",
    "    new_time=new_time-12 \n",
    "    if am=='am': am='pm' \n",
    "    else: am_pm='pm'\n",
    "\n",
    "elif hour<12 and _hrs<12:\n",
    "    if new_time>12:\n",
    "        new_time=new_time-12 \n",
    "        if am=='am': am='pm'\n",
    "        else: am_pm='pm'\n",
    "\n",
    "    elif new_time==12:\n",
    "        if am=='am': am='pm'\n",
    "        else: am='am'\n",
    "elif hour==12:\n",
    "    if _hrs<12:\n",
    "        new_time=hour+e_hrs-12 \n",
    "        if am=='am': am='am' \n",
    "        else: am='pm'\n",
    "\n",
    "    elif _hrs>12:\n",
    "        new_time=hour+_hrs-24 \n",
    "        if am=='am': am='pm' \n",
    "        else: am='am'\n",
    "\n",
    "    elif _hrs==12:\n",
    "        new_time=hour+_hrs-12 \n",
    "        if am=='am': am='pm' \n",
    "        else: am='am'\n",
    "\n",
    "print(\"{} {}\".format(new_time,am))"
   ]
  },
  {
   "cell_type": "code",
   "execution_count": null,
   "id": "09cf47b3",
   "metadata": {},
   "outputs": [],
   "source": []
  }
 ],
 "metadata": {
  "kernelspec": {
   "display_name": "Python 3 (ipykernel)",
   "language": "python",
   "name": "python3"
  },
  "language_info": {
   "codemirror_mode": {
    "name": "ipython",
    "version": 3
   },
   "file_extension": ".py",
   "mimetype": "text/x-python",
   "name": "python",
   "nbconvert_exporter": "python",
   "pygments_lexer": "ipython3",
   "version": "3.11.5"
  }
 },
 "nbformat": 4,
 "nbformat_minor": 5
}
