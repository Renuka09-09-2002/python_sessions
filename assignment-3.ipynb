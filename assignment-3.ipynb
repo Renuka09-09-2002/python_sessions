{
 "cells": [
  {
   "cell_type": "code",
   "execution_count": 1,
   "id": "de53d100",
   "metadata": {},
   "outputs": [
    {
     "name": "stdout",
     "output_type": "stream",
     "text": [
      "enter a number 7\n",
      "the square root of 7 is 49\n"
     ]
    }
   ],
   "source": [
    "#Ask the user to enter a number. Print out the square of the number,\n",
    "#Sample output is shown below.\n",
    "#Enter a number: 5\n",
    "#The square of 5 is 25.\n",
    "try:\n",
    "    number=eval(input(\"enter a number \"))\n",
    "    square=number*number\n",
    "    print(\"the square root of {} is {}\".format(number,square))\n",
    "except Exception as e:\n",
    "    print(e)"
   ]
  },
  {
   "cell_type": "code",
   "execution_count": 2,
   "id": "c223d3bf",
   "metadata": {},
   "outputs": [
    {
     "name": "stdout",
     "output_type": "stream",
     "text": [
      "Enter a number x: 7\n",
      "7----14----21----28----35\n"
     ]
    }
   ],
   "source": [
    "#Ask the user to enter a number x. print out x, 2x, 3x, 4x, and 5x,\n",
    "#each separated by three dashes, like below.\n",
    "#Enter a number: 7\n",
    "#7---14---21---28---35\n",
    "try:\n",
    "    x= eval(input(\"Enter a number x: \"))\n",
    "    print(x,2*x,3*x,4*x,5*x,sep='----')\n",
    "except Exception as e:\n",
    "    print(e)"
   ]
  },
  {
   "cell_type": "code",
   "execution_count": 3,
   "id": "efd43ad5",
   "metadata": {},
   "outputs": [
    {
     "name": "stdout",
     "output_type": "stream",
     "text": [
      "enter u r weight in kg 20\n",
      "the weight of 20 is 44.0 in pounds\n"
     ]
    }
   ],
   "source": [
    "#Write a program that asks the user for a weight in kilograms and\n",
    "#converts it to pounds. There are 2.2 pounds in a kilogram.\n",
    "try:\n",
    "    weight=eval(input(\"enter u r weight in kg \"))\n",
    "    pounds=weight*2.2\n",
    "    print(\"the weight of {} is {} in pounds\".format(weight,pounds) )\n",
    "except Exception as e:\n",
    "    print(e)"
   ]
  },
  {
   "cell_type": "code",
   "execution_count": 9,
   "id": "3e9ec1b9",
   "metadata": {},
   "outputs": [
    {
     "name": "stdout",
     "output_type": "stream",
     "text": [
      "enter u r num_1 :12\n",
      "enter u r number_2 : 34\n",
      "enter u r number_3 :56\n",
      "102\n",
      "34.0\n",
      "the total and avg of 12,34 and56 is (102, 34.0)\n"
     ]
    }
   ],
   "source": [
    "#Write a program that asks the user to enter three numbers (use three\n",
    "#separate input statements).Create variables called total and average\n",
    "#that hold the sum and average of the three numbers and print out the\n",
    "#values of total and average.\n",
    "try:\n",
    "    num1=eval(input(\"enter u r num_1 :\"))\n",
    "    num2=eval(input(\"enter u r number_2 : \"))\n",
    "    num3=eval(input(\"enter u r number_3 :\"))\n",
    "    total=num1+num2+num3\n",
    "    print(total)\n",
    "    avg=total/3\n",
    "    print(avg),\n",
    "    print(\"the total and avg of {},{} and{} is {}\".format(num1,num2,num3,(total,avg)))\n",
    "except Exception as e:\n",
    "    print(e)"
   ]
  },
  {
   "cell_type": "code",
   "execution_count": 10,
   "id": "cb6f3995",
   "metadata": {},
   "outputs": [
    {
     "name": "stdout",
     "output_type": "stream",
     "text": [
      "enter the price of the meal 350\n",
      "enter the price of the tip_percent if u want to leave 50\n",
      "the tip_amount  350 and 50 is 175.0\n",
      "the tip_amount  350 and 50 is 175.0\n",
      "the tip_bill  350 and 50 is 700.0\n"
     ]
    }
   ],
   "source": [
    "#A lot of cell phones have tip calculators. Write one. Ask the user for\n",
    "#the price of the meal and the percent tip they want to leave. Then\n",
    "#print both the tip amount and the total bill with the tip included.\n",
    "try:\n",
    "    meal=eval(input(\"enter the price of the meal \"))\n",
    "    tip=eval(input(\"enter the price of the tip_percent if u want to leave \"))\n",
    "    tip_amount=tip/100\n",
    "    tip_amount=meal*tip_amount\n",
    "    total_bill=meal+tip_amount\n",
    "    print(\"the tip_amount  {} and {} is {}\".format(meal,tip,(tip_amount)))\n",
    "    print(\"the tip_amount  {} and {} is {}\".format(meal,tip,(tip_amount)))\n",
    "    print(\"the tip_bill  {} and {} is {}\".format(meal,tip,(total_bill+tip_amount)))\n",
    "except Exception as e:\n",
    "    print(e)\n"
   ]
  },
  {
   "cell_type": "code",
   "execution_count": 11,
   "id": "bb267d89",
   "metadata": {},
   "outputs": [
    {
     "name": "stdout",
     "output_type": "stream",
     "text": [
      "Ramesh enter u r salary :2000000\n",
      "ramesh gross salary 2000000 is 800000.0\n"
     ]
    }
   ],
   "source": [
    "#Ramesh’s basic salary is input through the keyboard. His dearness allowance is 40% of\n",
    "#basic salary, and house rent allowance is 20% of basic salary. Write a program to\n",
    "#calculate his gross salary.\n",
    "try:\n",
    "    salary=eval(input(\"Ramesh enter u r salary :\"))\n",
    "    allowance=salary*(40/100)\n",
    "\n",
    "    house_rent=salary*(20/100)\n",
    "    gross_salary = salary + allowance + house_rent\n",
    "    print(\"ramesh gross salary {} is {}\".format(salary,allowance,house_rent,(gross_salary)))\n",
    "except Exception as e:\n",
    "    print(e)"
   ]
  },
  {
   "cell_type": "code",
   "execution_count": 12,
   "id": "9d673a7b",
   "metadata": {},
   "outputs": [
    {
     "name": "stdout",
     "output_type": "stream",
     "text": [
      "The distance between two cities (in km) 23\n",
      "The distance in meters 23 is 23000\n",
      "The distance in feet 23 is 75459.32\n",
      "the distance in inches 23 is 905512.2999999999\n",
      "the distance in centimeters 23 is 2300000\n"
     ]
    }
   ],
   "source": [
    "#The distance between two cities (in km.) is input through the keyboard. Write a program\n",
    "#to convert and print this distance in meters, feet, inches and centimeters.\n",
    "try:\n",
    "    travel=eval(input(\"The distance between two cities (in km) \"))\n",
    "    meters = travel * 1000 # 1 kilometer = 1000 meters\n",
    "    feet = travel * 3280.84  # 1 kilometer = 3280.84 feet\n",
    "    inches = travel * 39370.1  # 1 kilometer = 39370.1 inches\n",
    "    centimeters = travel*100000\n",
    "    print(\"The distance in meters {} is {}\".format(travel,(meters)))\n",
    "    print(\"The distance in feet {} is {}\".format(travel,feet))\n",
    "    print(\"the distance in inches {} is {}\".format(travel,inches))\n",
    "    print(\"the distance in centimeters {} is {}\".format(travel,centimeters))\n",
    "except Exception as e:\n",
    "    print(e)"
   ]
  },
  {
   "cell_type": "code",
   "execution_count": 13,
   "id": "0c767f05",
   "metadata": {},
   "outputs": [
    {
     "name": "stdout",
     "output_type": "stream",
     "text": [
      "enter u r english marks 78\n",
      "enter u r maths marks 78\n",
      "enter u r science marks 87\n",
      "enter u r social marks 96\n",
      "enter u r physics marks 100\n",
      "the marks in english is 78 and aggregate is 439 is 87.8 %\n",
      "the marks in maths is 78 and aggregate is 439 is 87.8 %\n",
      "the marks in science is 87 and aggregate is 439 is 87.8 %\n",
      "the marks in social is 96 and aggregate is 439 is 87.8 %\n",
      "the marks in physics is 100 and aggregate is 439 is 87.8 %\n"
     ]
    }
   ],
   "source": [
    "#If the marks obtained by a student in five different subjects are input through the\n",
    "#keyboard, find out the aggregate marks and percentage marks obtained by the student.\n",
    "#Assume that the maximum marks that can be obtained by a student in each subject is 100.\n",
    "\n",
    "try:\n",
    "    sub1=eval(input(\"enter u r english marks \"))\n",
    "    sub2=eval(input(\"enter u r maths marks \"))\n",
    "    sub3=eval(input(\"enter u r science marks \"))\n",
    "    sub4=eval(input(\"enter u r social marks \"))\n",
    "    sub5=eval(input(\"enter u r physics marks \"))\n",
    "    assigned_marks=100\n",
    "    aggregate_marks=sub1+sub2+sub3+sub4+sub5\n",
    "    total_marks_obtained=5*assigned_marks\n",
    "    percentage=(aggregate_marks/total_marks_obtained)*100\n",
    "    #print(\"the marks in {},{},{} ,{} and {}is {}\".format(sub1,sub2,sub3,sub4,sub5,(aggregate_marks,percentage)))\n",
    "    print(\"the marks in english is {} and aggregate is {} is {} %\".format(sub1,aggregate_marks,(percentage) ))\n",
    "    print(\"the marks in maths is {} and aggregate is {} is {} %\".format(sub2,aggregate_marks,(percentage) ))\n",
    "    print(\"the marks in science is {} and aggregate is {} is {} %\".format(sub3,aggregate_marks,(percentage) ))\n",
    "    print(\"the marks in social is {} and aggregate is {} is {} %\".format(sub4,aggregate_marks,(percentage) ))\n",
    "    print(\"the marks in physics is {} and aggregate is {} is {} %\".format(sub5,aggregate_marks,(percentage) ))\n",
    "except Exception as e:\n",
    "    print(e)\n"
   ]
  },
  {
   "cell_type": "code",
   "execution_count": 14,
   "id": "f6bedae3",
   "metadata": {},
   "outputs": [
    {
     "name": "stdout",
     "output_type": "stream",
     "text": [
      "Temperature of a city in Fahrenheit degree 23\n",
      "the temperature into centigrade degrees -5.0 is 23\n"
     ]
    }
   ],
   "source": [
    "#Temperature of a city in Fahrenheit degrees is input through the keyboard. Write a\n",
    "#program to convert this temperature into Centigrade degrees.\n",
    "try:\n",
    "    climate=eval(input(\"Temperature of a city in Fahrenheit degree \"))\n",
    "    celsius = (climate - 32) * 5/9\n",
    "    print(\"the temperature into centigrade degrees {} is {}\".format(celsius,climate))\n",
    "except Exception as e:\n",
    "    print(e)\n"
   ]
  },
  {
   "cell_type": "code",
   "execution_count": 15,
   "id": "df56f97d",
   "metadata": {},
   "outputs": [
    {
     "name": "stdout",
     "output_type": "stream",
     "text": [
      "enter the length of thr reactangle12\n",
      "enter the breath of the rectangle10\n",
      "area of rectangle 12 and 10 is 120\n",
      "perimeter of rectangle 12 and 10 is 240\n",
      "enter the radius of the circle20\n",
      "area1 of circle 20 is 1256.0\n",
      "circumference of circle 20 is 2512.0\n"
     ]
    }
   ],
   "source": [
    "#The length & breadth of a rectangle and radius of a circle are input through the\n",
    "#keyboard. Write a program to calculate the area & perimeter of the rectangle, and the\n",
    "#area & circumference of the circle.\n",
    "try:\n",
    "    height=eval(input(\"enter the length of thr reactangle\"))\n",
    "    width=eval(input(\"enter the breath of the rectangle\"))\n",
    "    area=height*width\n",
    "    print(\"area of rectangle {} and {} is {}\".format(height,width,area))\n",
    "    perimeter=2*area\n",
    "    print(\"perimeter of rectangle {} and {} is {}\".format(height,width,perimeter))\n",
    "    cir=eval(input(\"enter the radius of the circle\"))\n",
    "    pii=3.14\n",
    "    area1=pii*cir*cir\n",
    "    print(\"area1 of circle {} is {}\".format(cir,area1))\n",
    "    circumference=2*area1\n",
    "    print(\"circumference of circle {} is {}\".format(cir,circumference))\n",
    "except Exception as e:\n",
    "    print(e)   "
   ]
  },
  {
   "cell_type": "code",
   "execution_count": 16,
   "id": "e559e2eb",
   "metadata": {},
   "outputs": [
    {
     "name": "stdout",
     "output_type": "stream",
     "text": [
      "enter a number_1 1\n",
      "enter a number_2 2\n",
      "value of a is 2\n",
      "value of b is 1\n"
     ]
    }
   ],
   "source": [
    "#Two numbers are input through the keyboard into two locations C and D. Write a\n",
    "#program to interchange the contents of C and D.\n",
    "try:\n",
    "    a=eval(input(\"enter a number_1 \"))\n",
    "    b=eval(input(\"enter a number_2 \"))\n",
    "    temp=a\n",
    "    a=b\n",
    "    b=temp\n",
    "    print(\"value of a is {}\".format(a))\n",
    "    print(\"value of b is {}\".format(b))\n",
    "except Exception as e:\n",
    "    print(e)      \n"
   ]
  },
  {
   "cell_type": "code",
   "execution_count": 17,
   "id": "555cc6be",
   "metadata": {},
   "outputs": [
    {
     "name": "stdout",
     "output_type": "stream",
     "text": [
      "enter a five digit number: 98765\n",
      "reversed number: 5\n",
      "reversed number: 56\n",
      "reversed number: 567\n",
      "reversed number: 5678\n",
      "reversed number: 56789\n"
     ]
    }
   ],
   "source": [
    "#If a five-digit number is input through the keyboard, write a program to reverse the number.\n",
    "try:\n",
    "    n1=eval(input(\"enter a five digit number: \"))\n",
    "    rev=0\n",
    "    while(n1>0):\n",
    "        rev=rev*10+n1%10\n",
    "        n1=n1//10\n",
    "        print(\"reversed number:\",rev)\n",
    "except Exception as e:\n",
    "    print(e)      \n",
    "\n"
   ]
  },
  {
   "cell_type": "code",
   "execution_count": 18,
   "id": "a9e2119c",
   "metadata": {},
   "outputs": [
    {
     "name": "stdout",
     "output_type": "stream",
     "text": [
      "enter a four digit number:8978\n",
      "the 1st digit of the number 8978 is 8\n",
      "the last digit of the number 8978 is 8\n",
      "the sum of the numbers is 8978 is 16\n"
     ]
    }
   ],
   "source": [
    "#If a four-digit number is input through the keyboard, write a program to obtain the sum of\n",
    "#the first and last digit of this number.\n",
    "try:\n",
    "    num=eval(input(\"enter a four digit number:\"))\n",
    "    first=num//1000\n",
    "    print(\"the 1st digit of the number {} is {}\".format(num,first))\n",
    "    last=num%10\n",
    "    print(\"the last digit of the number {} is {}\".format(num,last))\n",
    "    sum=first+last\n",
    "    print(\"the sum of the numbers is {} is {}\".format(num,sum))\n",
    "except Exception as e:\n",
    "    print(e)    "
   ]
  },
  {
   "cell_type": "code",
   "execution_count": 20,
   "id": "55ec1a6d",
   "metadata": {},
   "outputs": [
    {
     "name": "stdout",
     "output_type": "stream",
     "text": [
      "the total illiterate men: 13600.0\n",
      "the total illiterate women: 28000.0\n",
      "the total illiterate men and women: 41600.0\n"
     ]
    }
   ],
   "source": [
    "#In a town, the percentage of men is 52. The percentage of total literacy is 48. If total\n",
    "#percentage of literate men is 35 of the total population, write a program to find the total\n",
    "#number of illiterate men and women if the population of the town is 80,000.\n",
    "try:\n",
    "    total_pop=80000\n",
    "    percentage_men=52\n",
    "    total_literacy=48\n",
    "    illiterate_men=35\n",
    "    total_men=(percentage_men/100)*total_pop\n",
    "    total_lit=(total_literacy/100)*total_pop\n",
    "    total_lit_men=(illiterate_men/100)*total_pop\n",
    "    illiterate_men = total_men - total_lit_men\n",
    "    total_women = total_pop - total_men\n",
    "    total_lit_women = total_lit - total_lit_men\n",
    "    illiterate_women = total_women - total_lit_women\n",
    "    total_illiterate = illiterate_men + illiterate_women\n",
    "    print(\"the total illiterate men:\",illiterate_men)\n",
    "    print(\"the total illiterate women:\",illiterate_women)\n",
    "    print(\"the total illiterate men and women:\",total_illiterate)\n",
    "except Exception as e:\n",
    "    print(e)  "
   ]
  },
  {
   "cell_type": "code",
   "execution_count": 21,
   "id": "548059dd",
   "metadata": {},
   "outputs": [
    {
     "name": "stdout",
     "output_type": "stream",
     "text": [
      "enter a currency notes :90\n",
      "the currency notes of cashier of 9 ,1 and 0  \n"
     ]
    }
   ],
   "source": [
    "#10. A cashier has currency notes of denominations 10, 50 and 100. If the amount to be\n",
    "#withdrawn is input through the keyboard in hundreds, find the total number of currency\n",
    "#notes of each denomination the cashier will have to give to the withdrawer.\n",
    "try:\n",
    "    num=eval(input(\"enter a currency notes :\"))\n",
    "    n1=num//10\n",
    "    n11=n1%10\n",
    "    n2=num//50\n",
    "    n22=n11%50\n",
    "    n3=num//100\n",
    "    n22=num%100\n",
    "    print(\"the currency notes of cashier of {} ,{} and {}  \".format(n1,n2,n3))\n",
    "    \n",
    "    \n",
    "except Exception as e:\n",
    "    print(e) \n"
   ]
  },
  {
   "cell_type": "code",
   "execution_count": null,
   "id": "5e699fd4",
   "metadata": {},
   "outputs": [],
   "source": []
  }
 ],
 "metadata": {
  "kernelspec": {
   "display_name": "Python 3 (ipykernel)",
   "language": "python",
   "name": "python3"
  },
  "language_info": {
   "codemirror_mode": {
    "name": "ipython",
    "version": 3
   },
   "file_extension": ".py",
   "mimetype": "text/x-python",
   "name": "python",
   "nbconvert_exporter": "python",
   "pygments_lexer": "ipython3",
   "version": "3.11.5"
  }
 },
 "nbformat": 4,
 "nbformat_minor": 5
}
