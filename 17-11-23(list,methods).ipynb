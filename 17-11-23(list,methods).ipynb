{
 "cells": [
  {
   "cell_type": "code",
   "execution_count": 1,
   "id": "ad00ef09",
   "metadata": {},
   "outputs": [
    {
     "data": {
      "text/plain": [
       "[1, 2, 3, 4, 5]"
      ]
     },
     "execution_count": 1,
     "metadata": {},
     "output_type": "execute_result"
    }
   ],
   "source": [
    "#add (something)to the end of a written documnets\n",
    "list1=[1,2,3,4]\n",
    "list1.append(5)          #append for to add the number at the end of the documnet\n",
    "list1"
   ]
  },
  {
   "cell_type": "code",
   "execution_count": 2,
   "id": "151e96b4",
   "metadata": {},
   "outputs": [
    {
     "data": {
      "text/plain": [
       "[100, 200, 300]"
      ]
     },
     "execution_count": 2,
     "metadata": {},
     "output_type": "execute_result"
    }
   ],
   "source": [
    "list=[]\n",
    "list.append(100)\n",
    "list.append(200)\n",
    "list.append(300)\n",
    "list"
   ]
  },
  {
   "cell_type": "code",
   "execution_count": 3,
   "id": "9232e5da",
   "metadata": {},
   "outputs": [
    {
     "ename": "TypeError",
     "evalue": "list.append() takes exactly one argument (2 given)",
     "output_type": "error",
     "traceback": [
      "\u001b[1;31m---------------------------------------------------------------------------\u001b[0m",
      "\u001b[1;31mTypeError\u001b[0m                                 Traceback (most recent call last)",
      "Cell \u001b[1;32mIn[3], line 1\u001b[0m\n\u001b[1;32m----> 1\u001b[0m list1\u001b[38;5;241m.\u001b[39mappend(\u001b[38;5;241m100\u001b[39m,\u001b[38;5;241m200\u001b[39m)\n",
      "\u001b[1;31mTypeError\u001b[0m: list.append() takes exactly one argument (2 given)"
     ]
    }
   ],
   "source": [
    "list1.append(100,200)           #append for only one "
   ]
  },
  {
   "cell_type": "code",
   "execution_count": 5,
   "id": "f95f215d",
   "metadata": {},
   "outputs": [
    {
     "data": {
      "text/plain": [
       "[1, 2, 3, 4, 5, [100, 200], [100, 200]]"
      ]
     },
     "execution_count": 5,
     "metadata": {},
     "output_type": "execute_result"
    }
   ],
   "source": [
    "list1.append([100,200])\n",
    "list1"
   ]
  },
  {
   "cell_type": "code",
   "execution_count": 12,
   "id": "1f991b1e",
   "metadata": {},
   "outputs": [
    {
     "data": {
      "text/plain": [
       "[100, 200, 300, 'apple', 'apple']"
      ]
     },
     "execution_count": 12,
     "metadata": {},
     "output_type": "execute_result"
    }
   ],
   "source": [
    "list.append('apple')\n",
    "list"
   ]
  },
  {
   "cell_type": "code",
   "execution_count": 18,
   "id": "87ead110",
   "metadata": {},
   "outputs": [
    {
     "name": "stdout",
     "output_type": "stream",
     "text": [
      "1\n",
      "4\n",
      "9\n",
      "16\n",
      "25\n"
     ]
    },
    {
     "data": {
      "text/plain": [
       "[1, 4, 9, 16, 25]"
      ]
     },
     "execution_count": 18,
     "metadata": {},
     "output_type": "execute_result"
    }
   ],
   "source": [
    "#input list=[1,2,3,4,5]\n",
    "#create a new list=[1,4,9,16,25]\n",
    "#write a normal code \n",
    "\n",
    "#method -1\n",
    "\n",
    "list=[1,2,3,4,5]\n",
    "for i in list:\n",
    "    print(i*i)\n",
    "    \n",
    "    \n",
    "    \n",
    "#method -2(****)\n",
    "\n",
    "list=[1,2,3,4,5]\n",
    "output=[]\n",
    "for i in list:\n",
    "    output.append(i*i)\n",
    "output\n",
    "    \n"
   ]
  },
  {
   "cell_type": "code",
   "execution_count": 54,
   "id": "b9378031",
   "metadata": {},
   "outputs": [
    {
     "data": {
      "text/plain": [
       "['h#d', 'beng#luru']"
      ]
     },
     "execution_count": 54,
     "metadata": {},
     "output_type": "execute_result"
    }
   ],
   "source": [
    "#list3=['h#d','beng#luru','delhi']\n",
    "#out=['h#d','beng#luru']\n",
    "\n",
    "\n",
    "list3=['h#d','beng#luru','delhi']           #pop is only for the indexing(numbers)\n",
    "output=[]\n",
    "for i in list3:\n",
    "    if '#' in i:\n",
    "        output.append(i)\n",
    "    \n",
    "output"
   ]
  },
  {
   "cell_type": "code",
   "execution_count": 56,
   "id": "207eaf3d",
   "metadata": {},
   "outputs": [
    {
     "name": "stdout",
     "output_type": "stream",
     "text": [
      "Hyd\n",
      "Beng\n",
      "Delhi\n"
     ]
    },
    {
     "data": {
      "text/plain": [
       "['Hyd', 'Beng', 'Delhi']"
      ]
     },
     "execution_count": 56,
     "metadata": {},
     "output_type": "execute_result"
    }
   ],
   "source": [
    "list2=['hyd','beng','delhi']\n",
    "#out=['Hyd','Beng','Delhi']\n",
    "output=[]\n",
    "for i in list2:                         #1st letter to be capital ----->capitalize()\n",
    "    print(i.capitalize())\n",
    "output\n",
    "\n",
    "\n",
    "[<o/p><for loop]\n",
    "output1=[i.capitalize() for i in list2]\n",
    "output1"
   ]
  },
  {
   "cell_type": "code",
   "execution_count": 65,
   "id": "e42b65c2",
   "metadata": {},
   "outputs": [
    {
     "name": "stdout",
     "output_type": "stream",
     "text": [
      "1\n",
      "2\n",
      "3\n",
      "4\n",
      "5\n",
      "6\n",
      "7\n",
      "8\n",
      "9\n",
      "10\n",
      "11\n",
      "12\n",
      "13\n",
      "14\n",
      "15\n",
      "16\n",
      "17\n",
      "18\n",
      "19\n",
      "20\n"
     ]
    },
    {
     "data": {
      "text/plain": [
       "[1, 2, 3, 4, 5, 6, 7, 8, 9, 10, 11, 12, 13, 14, 15, 16, 17, 18, 19, 20]"
      ]
     },
     "execution_count": 65,
     "metadata": {},
     "output_type": "execute_result"
    }
   ],
   "source": [
    "#create the list of 20 no's from 1 to 20\n",
    "##########method-1###########\n",
    "for i in range(1,21):\n",
    "    print(i)\n",
    "\n",
    "\n",
    "###########methods-3############\n",
    "numbers1=[i for i in range(1,21)]\n",
    "numbers1\n",
    "\n",
    "\n",
    "##########method-2##########\n",
    "numbers=[]\n",
    "for i in range(1,21):\n",
    "    numbers.append(i)\n",
    "numbers\n",
    "\n",
    "\n",
    "\n",
    "\n"
   ]
  },
  {
   "cell_type": "code",
   "execution_count": 66,
   "id": "15707ba9",
   "metadata": {},
   "outputs": [
    {
     "data": {
      "text/plain": [
       "['h#d', 'beng#luru']"
      ]
     },
     "execution_count": 66,
     "metadata": {},
     "output_type": "execute_result"
    }
   ],
   "source": [
    "#list3=['h#d','beng#luru','delhi']\n",
    "#out=['h#d','beng#luru']\n",
    "\n",
    "\n",
    "list3=['h#d','beng#luru','delhi']          \n",
    "output=[]\n",
    "for i in list3:\n",
    "    if '#' in i:\n",
    "        output.append(i)\n",
    "    \n",
    "output\n",
    "\n",
    "\n",
    "\n",
    "#[<o/p>,<for loop>,<if_con>\n",
    "output1=[i for i in list3 if '#' in i]\n",
    "output1"
   ]
  },
  {
   "cell_type": "code",
   "execution_count": 73,
   "id": "3bd83dd4",
   "metadata": {},
   "outputs": [
    {
     "data": {
      "text/plain": [
       "['ab', 'a']"
      ]
     },
     "execution_count": 73,
     "metadata": {},
     "output_type": "execute_result"
    }
   ],
   "source": [
    "list3=['abcd','abc','ab','a']\n",
    "#elements are >3\n",
    "#['ac','a']\n",
    "output=[]\n",
    "for i in list3:\n",
    "    if len(i)<3:\n",
    "         output.append(i)\n",
    "output\n",
    "    \n"
   ]
  },
  {
   "cell_type": "code",
   "execution_count": 80,
   "id": "10935129",
   "metadata": {},
   "outputs": [
    {
     "data": {
      "text/plain": [
       "['ab', 'a']"
      ]
     },
     "execution_count": 80,
     "metadata": {},
     "output_type": "execute_result"
    }
   ],
   "source": [
    "output=[i for i in list3 if len(i)<3]\n",
    "\n",
    "output"
   ]
  },
  {
   "cell_type": "code",
   "execution_count": 76,
   "id": "4ca305dc",
   "metadata": {},
   "outputs": [
    {
     "data": {
      "text/plain": [
       "['odd:1', 'odd:2', 'odd:3', 'odd:4', 'odd:5', 'odd:6']"
      ]
     },
     "execution_count": 76,
     "metadata": {},
     "output_type": "execute_result"
    }
   ],
   "source": [
    "list1=[1,2,3,4,5,6]\n",
    "output=[]\n",
    "for i in list1:\n",
    "    if 1%2==0:\n",
    "        output.append('even:{}'.format(i))\n",
    "    else:\n",
    "         output.append('odd:{}'.format(i))\n",
    "output"
   ]
  },
  {
   "cell_type": "code",
   "execution_count": 79,
   "id": "8cb4cef1",
   "metadata": {},
   "outputs": [
    {
     "data": {
      "text/plain": [
       "['odd:1', 'odd:2', 'odd:3', 'odd:4', 'odd:5', 'odd:6']"
      ]
     },
     "execution_count": 79,
     "metadata": {},
     "output_type": "execute_result"
    }
   ],
   "source": [
    "#[<if_o/p><if_cond><else_cond><else_o/p><for>]\n",
    "\n",
    "\n",
    "output1=['even:{}'.format(i)  if 1%2==0  else 'odd:{}'.format(i) for i in list1]\n",
    "output1"
   ]
  },
  {
   "cell_type": "code",
   "execution_count": null,
   "id": "a0fbd56f",
   "metadata": {},
   "outputs": [],
   "source": []
  },
  {
   "cell_type": "markdown",
   "id": "0e569ea7",
   "metadata": {},
   "source": [
    "$count$"
   ]
  },
  {
   "cell_type": "code",
   "execution_count": 85,
   "id": "ec8b898f",
   "metadata": {},
   "outputs": [
    {
     "ename": "TypeError",
     "evalue": "list.count() takes exactly one argument (0 given)",
     "output_type": "error",
     "traceback": [
      "\u001b[1;31m---------------------------------------------------------------------------\u001b[0m",
      "\u001b[1;31mTypeError\u001b[0m                                 Traceback (most recent call last)",
      "Cell \u001b[1;32mIn[85], line 2\u001b[0m\n\u001b[0;32m      1\u001b[0m list1\u001b[38;5;241m=\u001b[39m[\u001b[38;5;124m'\u001b[39m\u001b[38;5;124mA\u001b[39m\u001b[38;5;124m'\u001b[39m,\u001b[38;5;124m'\u001b[39m\u001b[38;5;124mB\u001b[39m\u001b[38;5;124m'\u001b[39m,\u001b[38;5;124m'\u001b[39m\u001b[38;5;124mC\u001b[39m\u001b[38;5;124m'\u001b[39m]\n\u001b[1;32m----> 2\u001b[0m list1\u001b[38;5;241m.\u001b[39mcount()\n",
      "\u001b[1;31mTypeError\u001b[0m: list.count() takes exactly one argument (0 given)"
     ]
    }
   ],
   "source": [
    "list1=['A','B','C']\n",
    "list1.count()"
   ]
  },
  {
   "cell_type": "code",
   "execution_count": 84,
   "id": "cd42929b",
   "metadata": {},
   "outputs": [
    {
     "name": "stdout",
     "output_type": "stream",
     "text": [
      "1\n"
     ]
    }
   ],
   "source": [
    "count=0\n",
    "for i in list1:\n",
    "    if i=='B':\n",
    "        count=count+1\n",
    "print(count)"
   ]
  },
  {
   "cell_type": "markdown",
   "id": "d3f6b258",
   "metadata": {},
   "source": [
    "$EXTEND$"
   ]
  },
  {
   "cell_type": "code",
   "execution_count": 87,
   "id": "d8c0df29",
   "metadata": {},
   "outputs": [
    {
     "data": {
      "text/plain": [
       "['A', 'B', 'C', 1, 2, 3, 4]"
      ]
     },
     "execution_count": 87,
     "metadata": {},
     "output_type": "execute_result"
    }
   ],
   "source": [
    "list1=['A','B','C']\n",
    "list2=[1,2,3,4]                 #list2 is concenated with the list1 and list1 is o/p\n",
    "list1.extend(list2)             #list1 is updated with list2 values\n",
    "list1"
   ]
  },
  {
   "cell_type": "code",
   "execution_count": 90,
   "id": "d929f557",
   "metadata": {},
   "outputs": [
    {
     "data": {
      "text/plain": [
       "['A', 'B', 'C', [1, 2, 3, 4]]"
      ]
     },
     "execution_count": 90,
     "metadata": {},
     "output_type": "execute_result"
    }
   ],
   "source": [
    "list1=['A','B','C']\n",
    "list2=[1,2,3,4]    \n",
    "list1.append(list2)\n",
    "list1"
   ]
  },
  {
   "cell_type": "markdown",
   "id": "6aaca734",
   "metadata": {},
   "source": [
    "*append-------it will add the element at last(any type of elemnet)\n",
    "--list1=[1,2]\n",
    "--list2=[''A','B]\n",
    "-list1.append(list2)=[1,2,['A','B']]\n",
    "\n",
    "\n",
    "\n",
    "\n",
    "*Extend will update the list by adding new elements, the resukt alsosave in a same list\n",
    "-list1=[1,2]\n",
    "--list2=[''A','B]\n",
    "-list1.extend(list2)=[1,2,'A','B']\n",
    "\n",
    "*concate will add two list,but will not update in a same list\n",
    "list1=[1,2]\n",
    "--list2=[''A','B]\n",
    "-list1+list2=[1,2,'A','B']\n",
    "\n"
   ]
  },
  {
   "cell_type": "code",
   "execution_count": 92,
   "id": "1a720d82",
   "metadata": {},
   "outputs": [
    {
     "name": "stdout",
     "output_type": "stream",
     "text": [
      "['A', 'B', 'C']\n",
      "['A', 'B', 'C', 1, 2, 3, 4]\n"
     ]
    }
   ],
   "source": [
    "#CONCATE#\n",
    "\n",
    "\n",
    "\n",
    "list1=['A','B','C']\n",
    "list2=[1,2,3,4]    \n",
    "list1+list2\n",
    "print(list1)\n",
    "\n",
    "\n",
    "\n",
    "list3=list1+list2\n",
    "print(list3)"
   ]
  },
  {
   "cell_type": "markdown",
   "id": "d959e56f",
   "metadata": {},
   "source": [
    "$ITERATOR$"
   ]
  },
  {
   "cell_type": "raw",
   "id": "4fb206a2",
   "metadata": {},
   "source": [
    "-iterator word--------------->loop\n",
    "-the element we can print using for loop\n",
    "-string='py'we can print each letter using loop\n",
    "-list2-[1,2] we can print each letter using loop"
   ]
  },
  {
   "cell_type": "code",
   "execution_count": 93,
   "id": "7d4cba5d",
   "metadata": {},
   "outputs": [
    {
     "data": {
      "text/plain": [
       "<reversed at 0x1c2bc5fb280>"
      ]
     },
     "execution_count": 93,
     "metadata": {},
     "output_type": "execute_result"
    }
   ],
   "source": [
    "val=reversed('python')\n",
    "val"
   ]
  },
  {
   "cell_type": "code",
   "execution_count": 94,
   "id": "9e955ad6",
   "metadata": {},
   "outputs": [
    {
     "name": "stdout",
     "output_type": "stream",
     "text": [
      "n\n",
      "o\n",
      "h\n",
      "t\n",
      "y\n",
      "p\n"
     ]
    }
   ],
   "source": [
    "for i in val:\n",
    "    print(i)\n",
    "    "
   ]
  },
  {
   "cell_type": "code",
   "execution_count": 95,
   "id": "a05da199",
   "metadata": {},
   "outputs": [
    {
     "data": {
      "text/plain": [
       "['A', 'B', 'C', 'p', 'y', 't', 'h', 'o', 'n']"
      ]
     },
     "execution_count": 95,
     "metadata": {},
     "output_type": "execute_result"
    }
   ],
   "source": [
    "list2=[1,2,3]\n",
    "list1.extend('python')\n",
    "list2.extend('python')\n",
    "list1"
   ]
  },
  {
   "cell_type": "code",
   "execution_count": 106,
   "id": "3be45c7c",
   "metadata": {},
   "outputs": [
    {
     "data": {
      "text/plain": [
       "'n'"
      ]
     },
     "execution_count": 106,
     "metadata": {},
     "output_type": "execute_result"
    }
   ],
   "source": [
    "list2.pop()            #Remove and return item at index (default last).\n",
    "                              #defaulty removing the last elemnet(index=-1)\n",
    "                        #-1 is the last value"
   ]
  },
  {
   "cell_type": "code",
   "execution_count": 101,
   "id": "59912ab7",
   "metadata": {},
   "outputs": [
    {
     "data": {
      "text/plain": [
       "'p'"
      ]
     },
     "execution_count": 101,
     "metadata": {},
     "output_type": "execute_result"
    }
   ],
   "source": [
    "list1\n",
    "list1.pop()"
   ]
  },
  {
   "cell_type": "code",
   "execution_count": 108,
   "id": "f8976b38",
   "metadata": {},
   "outputs": [
    {
     "ename": "IndexError",
     "evalue": "pop index out of range",
     "output_type": "error",
     "traceback": [
      "\u001b[1;31m---------------------------------------------------------------------------\u001b[0m",
      "\u001b[1;31mIndexError\u001b[0m                                Traceback (most recent call last)",
      "Cell \u001b[1;32mIn[108], line 1\u001b[0m\n\u001b[1;32m----> 1\u001b[0m list2\u001b[38;5;241m.\u001b[39mpop(\u001b[38;5;241m100\u001b[39m)\n",
      "\u001b[1;31mIndexError\u001b[0m: pop index out of range"
     ]
    }
   ],
   "source": [
    "list2.pop(100)\n"
   ]
  },
  {
   "cell_type": "code",
   "execution_count": 109,
   "id": "70d108a8",
   "metadata": {},
   "outputs": [
    {
     "data": {
      "text/plain": [
       "[200, 100, 300]"
      ]
     },
     "execution_count": 109,
     "metadata": {},
     "output_type": "execute_result"
    }
   ],
   "source": [
    "list1=[100,200,100,300]            #duplications are allowed\n",
    "list1.remove(100)                  #1st occurenace will gone\n",
    "list1                               #"
   ]
  },
  {
   "cell_type": "code",
   "execution_count": 110,
   "id": "a9850418",
   "metadata": {},
   "outputs": [
    {
     "data": {
      "text/plain": [
       "[100, 200]"
      ]
     },
     "execution_count": 110,
     "metadata": {},
     "output_type": "execute_result"
    }
   ],
   "source": [
    "list1=[100,200,300]         #del is a methods\n",
    "del list1[2]                 #del can be applied for any formates(list,index,string)\n",
    "list1                           #del is remove the direction position of the element"
   ]
  },
  {
   "cell_type": "code",
   "execution_count": null,
   "id": "04bec190",
   "metadata": {},
   "outputs": [],
   "source": [
    "-index\n",
    "-insert\n",
    "-reverse------------>reversed\n",
    "-sort--------------->sorted"
   ]
  },
  {
   "cell_type": "code",
   "execution_count": 132,
   "id": "c29ec47a",
   "metadata": {},
   "outputs": [
    {
     "data": {
      "text/plain": [
       "[1, 2, 3, 'A', 'B', 'C']"
      ]
     },
     "execution_count": 132,
     "metadata": {},
     "output_type": "execute_result"
    }
   ],
   "source": [
    "list1=[1,2,3,'A','B','C']\n",
    "list2=[100,200,'APPLE','BAT']\n",
    "list1.index('A')\n",
    "list1"
   ]
  },
  {
   "cell_type": "code",
   "execution_count": 123,
   "id": "1e318ce6",
   "metadata": {},
   "outputs": [
    {
     "data": {
      "text/plain": [
       "[1, 2, 3, 'A', 'B', 100, 'C']"
      ]
     },
     "execution_count": 123,
     "metadata": {},
     "output_type": "execute_result"
    }
   ],
   "source": [
    "list1=[1,2,3,'A','B','C']\n",
    "list2=[100,200,'APPLE','BAT']              #insert for to inserting the elements along with the position of the elements\n",
    "list1.insert(5,100)\n",
    "list1"
   ]
  },
  {
   "cell_type": "code",
   "execution_count": 129,
   "id": "d97607d2",
   "metadata": {},
   "outputs": [
    {
     "data": {
      "text/plain": [
       "['BAT', 'APPLE', 200, 100]"
      ]
     },
     "execution_count": 129,
     "metadata": {},
     "output_type": "execute_result"
    }
   ],
   "source": [
    "list1=[1,2,3,'A','B','C']\n",
    "list2=[100,200,'APPLE','BAT']            #reverse the the elements in the list\n",
    "\n",
    "list2.reverse()\n",
    "list2"
   ]
  },
  {
   "cell_type": "code",
   "execution_count": 136,
   "id": "98f580ed",
   "metadata": {},
   "outputs": [
    {
     "data": {
      "text/plain": [
       "[2, 3, 5, 56, 61]"
      ]
     },
     "execution_count": 136,
     "metadata": {},
     "output_type": "execute_result"
    }
   ],
   "source": [
    "list1=[5,61,2,3,56]\n",
    "list2=[100,200,'APPLE','BAT']\n",
    "                                        #sort is for the indexing------numbers\n",
    "list1.sort()                             #ascending order\n",
    "list1"
   ]
  },
  {
   "cell_type": "code",
   "execution_count": 137,
   "id": "3649122c",
   "metadata": {},
   "outputs": [
    {
     "name": "stdout",
     "output_type": "stream",
     "text": [
      "Ram\n",
      "Robert\n",
      "Raheem\n"
     ]
    }
   ],
   "source": [
    "list1=['Ram','Robert','Raheem']\n",
    "list2=[25,30,35]\n",
    "#o/p:ram age is 25\n",
    "#rbert age is 30\n",
    "#raheem age is 35\n",
    "for i in list1:\n",
    "    print(i)"
   ]
  },
  {
   "cell_type": "code",
   "execution_count": 150,
   "id": "6e0a9418",
   "metadata": {},
   "outputs": [
    {
     "name": "stdout",
     "output_type": "stream",
     "text": [
      " Ram  age is 25\n",
      " Robert  age is 30\n",
      " Raheem  age is 35\n"
     ]
    }
   ],
   "source": [
    "#ZIP -------------------to retired the values from the 2 lists\n",
    "#method-1#########\n",
    "list1=['Ram','Robert','Raheem']\n",
    "list2=[25,30,35]\n",
    "for i,j in zip(list1,list2):\n",
    "    print(\" {}  age is {}\".format(i,j))"
   ]
  },
  {
   "cell_type": "code",
   "execution_count": 170,
   "id": "d2d93194",
   "metadata": {},
   "outputs": [
    {
     "name": "stdout",
     "output_type": "stream",
     "text": [
      "100 is added as 25 and 125\n",
      "200 is added as 30 and 230\n",
      "300 is added as 35 and 335\n"
     ]
    }
   ],
   "source": [
    "list1=[100,200,300]\n",
    "list2=[25,30,35]\n",
    "output=[]\n",
    "#o/p=[125,230,335]\n",
    "#o/p=[i+j for i,j in zip(list1,list2)]\n",
    "#o/p\n",
    "for i,j in zip (list1,list2):\n",
    "    output=i+j\n",
    "    print('{} is added as {} and {}'.format(i,j,output))\n",
    "   "
   ]
  },
  {
   "cell_type": "code",
   "execution_count": 6,
   "id": "b0b3377d",
   "metadata": {},
   "outputs": [
    {
     "name": "stdout",
     "output_type": "stream",
     "text": [
      "Who is PM of india\n",
      "enter the answer :modi\n",
      "What is the capital of india\n",
      "enter the answer :delhi\n",
      "Who is President of india\n",
      "enter the answer :draupadi\n",
      "your total obtained marks 3\n"
     ]
    }
   ],
   "source": [
    "# take 5 questions in list1\n",
    "# take corresponding 5 answers in another list2\n",
    "# iterate through list1\n",
    "# every quetion should print\n",
    "# answer=input(\"tell the answer\")\n",
    "# answer will check in list2 \n",
    "# if it is there : marks=marks+1\n",
    "# else: No marks\n",
    "\n",
    "# how many write answers you made, how may answers you got\n",
    "\n",
    "######################################\n",
    "# list1=['Who is PM of india','What is the capital of india','Who is President of india']\n",
    "# list2=['Modi','Delhi','Draupadi']\n",
    "# marks=0\n",
    "# correct_answr=0\n",
    "# for i in range(len(list1)):\n",
    "#   print('Q1:'<>)\n",
    "#   answer=input(\"enter the answer\")\n",
    "#   if answer.lower()==list2.index(i):\n",
    "#          marks+=1\n",
    "\n",
    "\n",
    "list1=['Who is PM of india','What is the capital of india','Who is President of india']\n",
    "list2=['Modi','Delhi','Draupadi']\n",
    "marks=0\n",
    "\n",
    "for i in range(len(list1)):\n",
    "    print(list1[i])\n",
    "    answer=input(\"enter the answer :\").capitalize()\n",
    "    if answer==list2[i]:\n",
    "        marks+=1\n",
    "print(\"your total obtained marks\",marks)\n",
    "    "
   ]
  },
  {
   "cell_type": "code",
   "execution_count": null,
   "id": "a088f05b",
   "metadata": {},
   "outputs": [],
   "source": []
  },
  {
   "cell_type": "code",
   "execution_count": null,
   "id": "ac2856dc",
   "metadata": {},
   "outputs": [],
   "source": []
  },
  {
   "cell_type": "code",
   "execution_count": null,
   "id": "14e77bae",
   "metadata": {},
   "outputs": [],
   "source": []
  }
 ],
 "metadata": {
  "kernelspec": {
   "display_name": "Python 3 (ipykernel)",
   "language": "python",
   "name": "python3"
  },
  "language_info": {
   "codemirror_mode": {
    "name": "ipython",
    "version": 3
   },
   "file_extension": ".py",
   "mimetype": "text/x-python",
   "name": "python",
   "nbconvert_exporter": "python",
   "pygments_lexer": "ipython3",
   "version": "3.11.5"
  }
 },
 "nbformat": 4,
 "nbformat_minor": 5
}
