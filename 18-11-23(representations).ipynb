{
 "cells": [
  {
   "cell_type": "code",
   "execution_count": 1,
   "id": "85c5e5f2",
   "metadata": {},
   "outputs": [
    {
     "data": {
      "text/plain": [
       "[1, 2, 3, (1, 2, 3), 'tgwgd']"
      ]
     },
     "execution_count": 1,
     "metadata": {},
     "output_type": "execute_result"
    }
   ],
   "source": [
    "a=[1,2,3,(1,2,3),\"tgwgd\"]\n",
    "a"
   ]
  },
  {
   "cell_type": "code",
   "execution_count": 8,
   "id": "82ffa5db",
   "metadata": {},
   "outputs": [
    {
     "name": "stdout",
     "output_type": "stream",
     "text": [
      "the max of the value is 0\n",
      "the max of the value is 1\n",
      "the max of the value is 2\n"
     ]
    }
   ],
   "source": [
    "#wap to find the maximum value without using max keyword\n",
    "a=[\"qwerr\",\"eqwef\",\"edewf\"]\n",
    "for i in range(len(a)):\n",
    "    if i<6:\n",
    "        print(\"the max of the value is {}\".format(i,a))\n",
    "    \n",
    "        \n",
    "\n"
   ]
  },
  {
   "cell_type": "code",
   "execution_count": 44,
   "id": "eae00ae2",
   "metadata": {},
   "outputs": [
    {
     "name": "stdout",
     "output_type": "stream",
     "text": [
      "the max of the value is: 300\n",
      "the max of the value is: 300\n",
      "the max of the value is: 200\n"
     ]
    }
   ],
   "source": [
    "#wap to find the maximum value without using max keyword\n",
    "\n",
    "#method-1:\n",
    "q=[100,200,300,40,200]\n",
    "max_value=0\n",
    "for i in q:\n",
    "    if i>max_value:\n",
    "         max_value=i   \n",
    "print(\"the max of the value is:\",max_value)\n",
    "\n",
    "\n",
    "\n",
    "#method-2:\n",
    "\n",
    "q=[100,200,300]\n",
    "max_value=-9999999\n",
    "for i in q:\n",
    "    if i>max_value:\n",
    "         max_value=i   \n",
    "print(\"the max of the value is:\",max_value)\n",
    "\n",
    "#method-3:\n",
    "\n",
    "q=[100,200,-300]\n",
    "max_value=q[0]\n",
    "for i in q:\n",
    "    if i>max_value:\n",
    "         max_value=i   \n",
    "print(\"the max of the value is:\",max_value)       "
   ]
  },
  {
   "cell_type": "code",
   "execution_count": 41,
   "id": "bd7806e2",
   "metadata": {},
   "outputs": [
    {
     "name": "stdout",
     "output_type": "stream",
     "text": [
      "the min of the value is: 100\n"
     ]
    }
   ],
   "source": [
    "q=[100,200,300]\n",
    "min_value=9999999\n",
    "for i in q:\n",
    "    if i<min_value:\n",
    "         min_value=i   \n",
    "print(\"the min of the value is:\",min_value)\n"
   ]
  },
  {
   "cell_type": "code",
   "execution_count": 46,
   "id": "547e6a55",
   "metadata": {},
   "outputs": [
    {
     "name": "stdout",
     "output_type": "stream",
     "text": [
      "100\n"
     ]
    }
   ],
   "source": [
    "list1=[20,30,50,60,100,90,70,50,30]\n",
    "max=0\n",
    "for i in range(len(list1)):\n",
    "    if list1[i]>max:\n",
    "        max=list1[i]\n",
    "print(max)"
   ]
  },
  {
   "cell_type": "code",
   "execution_count": null,
   "id": "4937e3d5",
   "metadata": {},
   "outputs": [],
   "source": []
  }
 ],
 "metadata": {
  "kernelspec": {
   "display_name": "Python 3 (ipykernel)",
   "language": "python",
   "name": "python3"
  },
  "language_info": {
   "codemirror_mode": {
    "name": "ipython",
    "version": 3
   },
   "file_extension": ".py",
   "mimetype": "text/x-python",
   "name": "python",
   "nbconvert_exporter": "python",
   "pygments_lexer": "ipython3",
   "version": "3.11.5"
  }
 },
 "nbformat": 4,
 "nbformat_minor": 5
}
